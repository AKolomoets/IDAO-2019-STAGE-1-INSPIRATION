{
 "cells": [
  {
   "cell_type": "code",
   "execution_count": 1,
   "metadata": {},
   "outputs": [
    {
     "name": "stderr",
     "output_type": "stream",
     "text": [
      "/home/ak/anaconda3/lib/python3.7/site-packages/tqdm/autonotebook/__init__.py:14: TqdmExperimentalWarning: Using `tqdm.autonotebook.tqdm` in notebook mode. Use `tqdm.tqdm` instead to force console mode (e.g. in jupyter console)\n",
      "  \" (e.g. in jupyter console)\", TqdmExperimentalWarning)\n"
     ]
    }
   ],
   "source": [
    "import os\n",
    "import pandas as pd\n",
    "import numpy as np\n",
    "import xgboost\n",
    "import utils\n",
    "import scoring\n",
    "from sklearn.model_selection import train_test_split\n",
    "from sklearn.model_selection import GridSearchCV\n",
    "\n",
    "%matplotlib inline\n",
    "from matplotlib import pyplot as plt\n",
    "\n",
    "import seaborn as sns\n",
    "from pprint import pprint\n",
    "import pickle\n",
    "\n",
    "from numba import njit\n",
    "from matplotlib.colors import ListedColormap\n",
    "\n",
    "from tqdm.autonotebook import tqdm\n",
    "tqdm.pandas()\n",
    "\n",
    "from itertools import repeat\n",
    "\n",
    "DATA_PATH = \"../data\"\n",
    "\n",
    "with open('models.pkl', 'rb') as fin:\n",
    "    models = pickle.load(fin)"
   ]
  },
  {
   "cell_type": "code",
   "execution_count": 9,
   "metadata": {},
   "outputs": [],
   "source": [
    "from importlib import reload"
   ]
  },
  {
   "cell_type": "code",
   "execution_count": 10,
   "metadata": {},
   "outputs": [
    {
     "data": {
      "text/plain": [
       "<module 'utils' from '/home/ak/dsml_prj/19_01 IDAO/IDAO-2019-muon-id-master/utils.py'>"
      ]
     },
     "execution_count": 10,
     "metadata": {},
     "output_type": "execute_result"
    }
   ],
   "source": [
    "reload(utils)"
   ]
  },
  {
   "cell_type": "code",
   "execution_count": 606,
   "metadata": {},
   "outputs": [],
   "source": [
    "with open('models.pkl', 'wb') as fout:\n",
    "    pickle.dump(models, fout)"
   ]
  },
  {
   "cell_type": "markdown",
   "metadata": {
    "heading_collapsed": true
   },
   "source": [
    "### Изучаем поля исходных данных"
   ]
  },
  {
   "cell_type": "code",
   "execution_count": 9,
   "metadata": {
    "hidden": true
   },
   "outputs": [],
   "source": [
    "reader = pd.read_csv(os.path.join(DATA_PATH, 'train_part_1.csv.gz'), chunksize=5)\n",
    "train_chunk = reader.__next__()\n",
    "reader = pd.read_csv(os.path.join(DATA_PATH, 'test_public.csv.gz'), chunksize=5)\n",
    "test_chunk = reader.__next__()"
   ]
  },
  {
   "cell_type": "code",
   "execution_count": 10,
   "metadata": {
    "hidden": true
   },
   "outputs": [
    {
     "data": {
      "text/html": [
       "<div>\n",
       "<style scoped>\n",
       "    .dataframe tbody tr th:only-of-type {\n",
       "        vertical-align: middle;\n",
       "    }\n",
       "\n",
       "    .dataframe tbody tr th {\n",
       "        vertical-align: top;\n",
       "    }\n",
       "\n",
       "    .dataframe thead th {\n",
       "        text-align: right;\n",
       "    }\n",
       "</style>\n",
       "<table border=\"1\" class=\"dataframe\">\n",
       "  <thead>\n",
       "    <tr style=\"text-align: right;\">\n",
       "      <th></th>\n",
       "      <th>id</th>\n",
       "      <th>ncl[0]</th>\n",
       "      <th>ncl[1]</th>\n",
       "      <th>ncl[2]</th>\n",
       "      <th>ncl[3]</th>\n",
       "      <th>avg_cs[0]</th>\n",
       "      <th>avg_cs[1]</th>\n",
       "      <th>avg_cs[2]</th>\n",
       "      <th>avg_cs[3]</th>\n",
       "      <th>ndof</th>\n",
       "      <th>...</th>\n",
       "      <th>FOI_hits_T</th>\n",
       "      <th>FOI_hits_DT</th>\n",
       "      <th>FOI_hits_S</th>\n",
       "      <th>PT</th>\n",
       "      <th>P</th>\n",
       "      <th>sWeight</th>\n",
       "      <th>particle_type</th>\n",
       "      <th>label</th>\n",
       "      <th>kinWeight</th>\n",
       "      <th>weight</th>\n",
       "    </tr>\n",
       "  </thead>\n",
       "  <tbody>\n",
       "    <tr>\n",
       "      <th>0</th>\n",
       "      <td>0</td>\n",
       "      <td>47</td>\n",
       "      <td>31</td>\n",
       "      <td>13</td>\n",
       "      <td>15</td>\n",
       "      <td>2.000000</td>\n",
       "      <td>1.580645</td>\n",
       "      <td>1.153846</td>\n",
       "      <td>1.133333</td>\n",
       "      <td>8</td>\n",
       "      <td>...</td>\n",
       "      <td>[ 3 11  2  7  7  5]</td>\n",
       "      <td>[0 8 0 0 0 0]</td>\n",
       "      <td>[0 0 1 2 2 3]</td>\n",
       "      <td>1764.925899</td>\n",
       "      <td>12646.817591</td>\n",
       "      <td>1.199231</td>\n",
       "      <td>1</td>\n",
       "      <td>1</td>\n",
       "      <td>1.85646</td>\n",
       "      <td>2.226325</td>\n",
       "    </tr>\n",
       "    <tr>\n",
       "      <th>1</th>\n",
       "      <td>1</td>\n",
       "      <td>92</td>\n",
       "      <td>19</td>\n",
       "      <td>11</td>\n",
       "      <td>26</td>\n",
       "      <td>2.750000</td>\n",
       "      <td>2.789474</td>\n",
       "      <td>1.363636</td>\n",
       "      <td>1.230769</td>\n",
       "      <td>8</td>\n",
       "      <td>...</td>\n",
       "      <td>[ 9 10  8  4]</td>\n",
       "      <td>[ 1 -1  0  4]</td>\n",
       "      <td>[0 1 2 3]</td>\n",
       "      <td>4511.281266</td>\n",
       "      <td>28556.630027</td>\n",
       "      <td>1.145788</td>\n",
       "      <td>1</td>\n",
       "      <td>1</td>\n",
       "      <td>1.85646</td>\n",
       "      <td>2.127109</td>\n",
       "    </tr>\n",
       "    <tr>\n",
       "      <th>2</th>\n",
       "      <td>2</td>\n",
       "      <td>100</td>\n",
       "      <td>21</td>\n",
       "      <td>11</td>\n",
       "      <td>12</td>\n",
       "      <td>2.930000</td>\n",
       "      <td>2.428571</td>\n",
       "      <td>1.181818</td>\n",
       "      <td>1.083333</td>\n",
       "      <td>8</td>\n",
       "      <td>...</td>\n",
       "      <td>[10  4 13 13  3  3 15  3  5]</td>\n",
       "      <td>[ 0  4 10  6  0 -4 15  0  0]</td>\n",
       "      <td>[0 0 1 1 1 1 1 2 3]</td>\n",
       "      <td>1062.550086</td>\n",
       "      <td>17491.702634</td>\n",
       "      <td>1.139144</td>\n",
       "      <td>1</td>\n",
       "      <td>1</td>\n",
       "      <td>3.77936</td>\n",
       "      <td>4.305235</td>\n",
       "    </tr>\n",
       "    <tr>\n",
       "      <th>3</th>\n",
       "      <td>3</td>\n",
       "      <td>74</td>\n",
       "      <td>27</td>\n",
       "      <td>13</td>\n",
       "      <td>20</td>\n",
       "      <td>3.067568</td>\n",
       "      <td>2.518518</td>\n",
       "      <td>1.923077</td>\n",
       "      <td>1.300000</td>\n",
       "      <td>8</td>\n",
       "      <td>...</td>\n",
       "      <td>[6 6 4 8 2]</td>\n",
       "      <td>[ 1 -6  0  0  0]</td>\n",
       "      <td>[0 0 1 2 3]</td>\n",
       "      <td>4991.074825</td>\n",
       "      <td>37192.868559</td>\n",
       "      <td>0.864863</td>\n",
       "      <td>1</td>\n",
       "      <td>1</td>\n",
       "      <td>1.85646</td>\n",
       "      <td>1.605583</td>\n",
       "    </tr>\n",
       "    <tr>\n",
       "      <th>4</th>\n",
       "      <td>4</td>\n",
       "      <td>18</td>\n",
       "      <td>22</td>\n",
       "      <td>8</td>\n",
       "      <td>8</td>\n",
       "      <td>1.833333</td>\n",
       "      <td>1.954546</td>\n",
       "      <td>1.125000</td>\n",
       "      <td>1.750000</td>\n",
       "      <td>8</td>\n",
       "      <td>...</td>\n",
       "      <td>[ 5 10  6  6  5  5]</td>\n",
       "      <td>[ 0  5 -2  0  0  0]</td>\n",
       "      <td>[0 0 0 1 2 3]</td>\n",
       "      <td>1347.704888</td>\n",
       "      <td>16688.746174</td>\n",
       "      <td>1.107431</td>\n",
       "      <td>1</td>\n",
       "      <td>1</td>\n",
       "      <td>1.85646</td>\n",
       "      <td>2.055900</td>\n",
       "    </tr>\n",
       "  </tbody>\n",
       "</table>\n",
       "<p>5 rows × 80 columns</p>\n",
       "</div>"
      ],
      "text/plain": [
       "   id  ncl[0]  ncl[1]  ncl[2]  ncl[3]  avg_cs[0]  avg_cs[1]  avg_cs[2]  \\\n",
       "0   0      47      31      13      15   2.000000   1.580645   1.153846   \n",
       "1   1      92      19      11      26   2.750000   2.789474   1.363636   \n",
       "2   2     100      21      11      12   2.930000   2.428571   1.181818   \n",
       "3   3      74      27      13      20   3.067568   2.518518   1.923077   \n",
       "4   4      18      22       8       8   1.833333   1.954546   1.125000   \n",
       "\n",
       "   avg_cs[3]  ndof    ...                       FOI_hits_T  \\\n",
       "0   1.133333     8    ...              [ 3 11  2  7  7  5]   \n",
       "1   1.230769     8    ...                    [ 9 10  8  4]   \n",
       "2   1.083333     8    ...     [10  4 13 13  3  3 15  3  5]   \n",
       "3   1.300000     8    ...                      [6 6 4 8 2]   \n",
       "4   1.750000     8    ...              [ 5 10  6  6  5  5]   \n",
       "\n",
       "                    FOI_hits_DT           FOI_hits_S           PT  \\\n",
       "0                 [0 8 0 0 0 0]        [0 0 1 2 2 3]  1764.925899   \n",
       "1                 [ 1 -1  0  4]            [0 1 2 3]  4511.281266   \n",
       "2  [ 0  4 10  6  0 -4 15  0  0]  [0 0 1 1 1 1 1 2 3]  1062.550086   \n",
       "3              [ 1 -6  0  0  0]          [0 0 1 2 3]  4991.074825   \n",
       "4           [ 0  5 -2  0  0  0]        [0 0 0 1 2 3]  1347.704888   \n",
       "\n",
       "              P   sWeight  particle_type  label  kinWeight    weight  \n",
       "0  12646.817591  1.199231              1      1    1.85646  2.226325  \n",
       "1  28556.630027  1.145788              1      1    1.85646  2.127109  \n",
       "2  17491.702634  1.139144              1      1    3.77936  4.305235  \n",
       "3  37192.868559  0.864863              1      1    1.85646  1.605583  \n",
       "4  16688.746174  1.107431              1      1    1.85646  2.055900  \n",
       "\n",
       "[5 rows x 80 columns]"
      ]
     },
     "execution_count": 10,
     "metadata": {},
     "output_type": "execute_result"
    }
   ],
   "source": [
    "train_chunk"
   ]
  },
  {
   "cell_type": "code",
   "execution_count": 12,
   "metadata": {
    "hidden": true
   },
   "outputs": [
    {
     "data": {
      "text/plain": [
       "{'kinWeight', 'label', 'particle_type', 'sWeight', 'weight'}"
      ]
     },
     "execution_count": 12,
     "metadata": {},
     "output_type": "execute_result"
    }
   ],
   "source": [
    "set(train_chunk.columns)-set(test_chunk.columns)"
   ]
  },
  {
   "cell_type": "code",
   "execution_count": 39,
   "metadata": {
    "hidden": true
   },
   "outputs": [
    {
     "data": {
      "text/plain": [
       "[80, 65, 9, 5, 1]"
      ]
     },
     "execution_count": 39,
     "metadata": {},
     "output_type": "execute_result"
    }
   ],
   "source": [
    "list(map(len, [train_chunk.columns, utils.SIMPLE_FEATURE_COLUMNS, utils.FOI_COLUMNS, utils.TRAIN_COLUMNS, [utils.ID_COLUMN]]))"
   ]
  },
  {
   "cell_type": "code",
   "execution_count": 8,
   "metadata": {
    "hidden": true
   },
   "outputs": [
    {
     "data": {
      "text/plain": [
       "Index(['id', 'ncl[0]', 'ncl[1]', 'ncl[2]', 'ncl[3]', 'avg_cs[0]', 'avg_cs[1]',\n",
       "       'avg_cs[2]', 'avg_cs[3]', 'ndof', 'MatchedHit_TYPE[0]',\n",
       "       'MatchedHit_TYPE[1]', 'MatchedHit_TYPE[2]', 'MatchedHit_TYPE[3]',\n",
       "       'MatchedHit_X[0]', 'MatchedHit_X[1]', 'MatchedHit_X[2]',\n",
       "       'MatchedHit_X[3]', 'MatchedHit_Y[0]', 'MatchedHit_Y[1]',\n",
       "       'MatchedHit_Y[2]', 'MatchedHit_Y[3]', 'MatchedHit_Z[0]',\n",
       "       'MatchedHit_Z[1]', 'MatchedHit_Z[2]', 'MatchedHit_Z[3]',\n",
       "       'MatchedHit_DX[0]', 'MatchedHit_DX[1]', 'MatchedHit_DX[2]',\n",
       "       'MatchedHit_DX[3]', 'MatchedHit_DY[0]', 'MatchedHit_DY[1]',\n",
       "       'MatchedHit_DY[2]', 'MatchedHit_DY[3]', 'MatchedHit_DZ[0]',\n",
       "       'MatchedHit_DZ[1]', 'MatchedHit_DZ[2]', 'MatchedHit_DZ[3]',\n",
       "       'MatchedHit_T[0]', 'MatchedHit_T[1]', 'MatchedHit_T[2]',\n",
       "       'MatchedHit_T[3]', 'MatchedHit_DT[0]', 'MatchedHit_DT[1]',\n",
       "       'MatchedHit_DT[2]', 'MatchedHit_DT[3]', 'Lextra_X[0]', 'Lextra_X[1]',\n",
       "       'Lextra_X[2]', 'Lextra_X[3]', 'Lextra_Y[0]', 'Lextra_Y[1]',\n",
       "       'Lextra_Y[2]', 'Lextra_Y[3]', 'NShared', 'Mextra_DX2[0]',\n",
       "       'Mextra_DX2[1]', 'Mextra_DX2[2]', 'Mextra_DX2[3]', 'Mextra_DY2[0]',\n",
       "       'Mextra_DY2[1]', 'Mextra_DY2[2]', 'Mextra_DY2[3]', 'FOI_hits_N',\n",
       "       'FOI_hits_X', 'FOI_hits_Y', 'FOI_hits_Z', 'FOI_hits_DX', 'FOI_hits_DY',\n",
       "       'FOI_hits_DZ', 'FOI_hits_T', 'FOI_hits_DT', 'FOI_hits_S', 'PT', 'P',\n",
       "       'sWeight', 'particle_type', 'label', 'kinWeight', 'weight'],\n",
       "      dtype='object')"
      ]
     },
     "execution_count": 8,
     "metadata": {},
     "output_type": "execute_result"
    }
   ],
   "source": [
    "train_chunk.columns"
   ]
  },
  {
   "cell_type": "code",
   "execution_count": 17,
   "metadata": {
    "hidden": true
   },
   "outputs": [
    {
     "data": {
      "text/plain": [
       "{'id'}"
      ]
     },
     "execution_count": 17,
     "metadata": {},
     "output_type": "execute_result"
    }
   ],
   "source": [
    "set(train_chunk.columns)-set(utils.SIMPLE_FEATURE_COLUMNS+utils.FOI_COLUMNS+utils.TRAIN_COLUMNS)"
   ]
  },
  {
   "cell_type": "markdown",
   "metadata": {
    "hidden": true
   },
   "source": [
    "По результатам добавили в модуль utils признаки `FOI_hits_DZ`, `FOI_hits_DT`, `sWeight`, `kinWeight`, `particle_type` "
   ]
  },
  {
   "cell_type": "markdown",
   "metadata": {
    "heading_collapsed": true
   },
   "source": [
    "### Загружаем данные"
   ]
  },
  {
   "cell_type": "code",
   "execution_count": 132,
   "metadata": {
    "hidden": true
   },
   "outputs": [
    {
     "name": "stderr",
     "output_type": "stream",
     "text": [
      "C:\\Anaconda3\\lib\\site-packages\\numpy\\lib\\arraysetops.py:472: FutureWarning: elementwise comparison failed; returning scalar instead, but in the future will perform elementwise comparison\n",
      "  mask |= (ar1 == a)\n"
     ]
    }
   ],
   "source": [
    "train, test = utils.load_data_csv(DATA_PATH)"
   ]
  },
  {
   "cell_type": "code",
   "execution_count": 25,
   "metadata": {
    "hidden": true
   },
   "outputs": [
    {
     "data": {
      "text/plain": [
       "8602485264"
      ]
     },
     "execution_count": 25,
     "metadata": {},
     "output_type": "execute_result"
    }
   ],
   "source": [
    "train.memory_usage(deep=True).sum()"
   ]
  },
  {
   "cell_type": "code",
   "execution_count": 26,
   "metadata": {
    "hidden": true
   },
   "outputs": [
    {
     "data": {
      "text/plain": [
       "1124307233"
      ]
     },
     "execution_count": 26,
     "metadata": {},
     "output_type": "execute_result"
    }
   ],
   "source": [
    "test.memory_usage(deep=True).sum()"
   ]
  },
  {
   "cell_type": "code",
   "execution_count": 32,
   "metadata": {
    "hidden": true
   },
   "outputs": [
    {
     "data": {
      "text/plain": [
       "5552890384"
      ]
     },
     "execution_count": 32,
     "metadata": {},
     "output_type": "execute_result"
    }
   ],
   "source": [
    "train.memory_usage(deep=True)[utils.FOI_COLUMNS].sum()"
   ]
  },
  {
   "cell_type": "code",
   "execution_count": 34,
   "metadata": {
    "hidden": true
   },
   "outputs": [
    {
     "data": {
      "text/plain": [
       "((5445705, 79), (726095, 74), 0.13333351696428652)"
      ]
     },
     "execution_count": 34,
     "metadata": {},
     "output_type": "execute_result"
    }
   ],
   "source": [
    "(train.shape, test.shape, test.shape[0]/train.shape[0])"
   ]
  },
  {
   "cell_type": "code",
   "execution_count": 44,
   "metadata": {
    "hidden": true
   },
   "outputs": [
    {
     "data": {
      "text/plain": [
       "0"
      ]
     },
     "execution_count": 44,
     "metadata": {},
     "output_type": "execute_result"
    }
   ],
   "source": [
    "train.isnull().sum().sum()"
   ]
  },
  {
   "cell_type": "code",
   "execution_count": 45,
   "metadata": {
    "hidden": true
   },
   "outputs": [
    {
     "data": {
      "text/plain": [
       "0"
      ]
     },
     "execution_count": 45,
     "metadata": {},
     "output_type": "execute_result"
    }
   ],
   "source": [
    "test.isnull().sum().sum()"
   ]
  },
  {
   "cell_type": "code",
   "execution_count": 50,
   "metadata": {
    "hidden": true
   },
   "outputs": [],
   "source": [
    "test_na = (test==-9999).sum()"
   ]
  },
  {
   "cell_type": "code",
   "execution_count": 51,
   "metadata": {
    "hidden": true
   },
   "outputs": [
    {
     "data": {
      "text/plain": [
       "MatchedHit_X[2]     11912\n",
       "MatchedHit_X[3]     13050\n",
       "MatchedHit_Y[2]     11912\n",
       "MatchedHit_Y[3]     13050\n",
       "MatchedHit_Z[2]     11912\n",
       "MatchedHit_Z[3]     13050\n",
       "MatchedHit_DX[2]    11912\n",
       "MatchedHit_DX[3]    13050\n",
       "MatchedHit_DY[2]    11912\n",
       "MatchedHit_DY[3]    13050\n",
       "MatchedHit_DZ[2]    11912\n",
       "MatchedHit_DZ[3]    13050\n",
       "dtype: int64"
      ]
     },
     "execution_count": 51,
     "metadata": {},
     "output_type": "execute_result"
    }
   ],
   "source": [
    "test_na[test_na>0] # пропущенные значения в тестовой выборке"
   ]
  },
  {
   "cell_type": "code",
   "execution_count": 52,
   "metadata": {
    "hidden": true
   },
   "outputs": [],
   "source": [
    "train_na = (train==-9999).sum()"
   ]
  },
  {
   "cell_type": "code",
   "execution_count": 53,
   "metadata": {
    "hidden": true
   },
   "outputs": [
    {
     "data": {
      "text/plain": [
       "MatchedHit_X[2]     89718\n",
       "MatchedHit_X[3]     97974\n",
       "MatchedHit_Y[2]     89718\n",
       "MatchedHit_Y[3]     97974\n",
       "MatchedHit_Z[2]     89718\n",
       "MatchedHit_Z[3]     97974\n",
       "MatchedHit_DX[2]    89718\n",
       "MatchedHit_DX[3]    97974\n",
       "MatchedHit_DY[2]    89718\n",
       "MatchedHit_DY[3]    97974\n",
       "MatchedHit_DZ[2]    89718\n",
       "MatchedHit_DZ[3]    97974\n",
       "dtype: int64"
      ]
     },
     "execution_count": 53,
     "metadata": {},
     "output_type": "execute_result"
    }
   ],
   "source": [
    "train_na[train_na>0] # пропущенные значения в обучающей выборке"
   ]
  },
  {
   "cell_type": "code",
   "execution_count": 66,
   "metadata": {
    "hidden": true
   },
   "outputs": [],
   "source": [
    "test_mhx2_na = (test['MatchedHit_X[2]']==-9999)\n",
    "test_mhx3_na = (test['MatchedHit_X[3]']==-9999)"
   ]
  },
  {
   "cell_type": "code",
   "execution_count": 71,
   "metadata": {
    "hidden": true
   },
   "outputs": [
    {
     "data": {
      "text/plain": [
       "2503"
      ]
     },
     "execution_count": 71,
     "metadata": {},
     "output_type": "execute_result"
    }
   ],
   "source": [
    "sum(test_mhx2_na & test_mhx3_na) # пересечение множеств пропущенных значений"
   ]
  },
  {
   "cell_type": "code",
   "execution_count": 74,
   "metadata": {
    "hidden": true
   },
   "outputs": [
    {
     "data": {
      "text/plain": [
       "22459"
      ]
     },
     "execution_count": 74,
     "metadata": {},
     "output_type": "execute_result"
    }
   ],
   "source": [
    "sum(test_mhx2_na | test_mhx3_na) # объединение множеств пропущенных значений"
   ]
  },
  {
   "cell_type": "code",
   "execution_count": 75,
   "metadata": {
    "hidden": true
   },
   "outputs": [
    {
     "data": {
      "text/plain": [
       "22459"
      ]
     },
     "execution_count": 75,
     "metadata": {},
     "output_type": "execute_result"
    }
   ],
   "source": [
    "11912+13050-2503"
   ]
  },
  {
   "cell_type": "code",
   "execution_count": 80,
   "metadata": {
    "hidden": true
   },
   "outputs": [
    {
     "data": {
      "text/plain": [
       "id\n",
       "63     255\n",
       "65     255\n",
       "86     255\n",
       "140    255\n",
       "208    255\n",
       "Name: MatchedHit_T[2], dtype: int64"
      ]
     },
     "execution_count": 80,
     "metadata": {},
     "output_type": "execute_result"
    }
   ],
   "source": [
    "test['MatchedHit_T[2]'][test_mhx2_na].head()"
   ]
  },
  {
   "cell_type": "code",
   "execution_count": 81,
   "metadata": {
    "hidden": true
   },
   "outputs": [
    {
     "data": {
      "text/plain": [
       "id\n",
       "63    -1\n",
       "65    -1\n",
       "86    -1\n",
       "140   -1\n",
       "208   -1\n",
       "Name: MatchedHit_DT[2], dtype: int64"
      ]
     },
     "execution_count": 81,
     "metadata": {},
     "output_type": "execute_result"
    }
   ],
   "source": [
    "test['MatchedHit_DT[2]'][test_mhx2_na].head()"
   ]
  },
  {
   "cell_type": "code",
   "execution_count": 133,
   "metadata": {
    "hidden": true
   },
   "outputs": [
    {
     "data": {
      "text/plain": [
       "1    5024487\n",
       "0     421218\n",
       "Name: label, dtype: int64"
      ]
     },
     "execution_count": 133,
     "metadata": {},
     "output_type": "execute_result"
    }
   ],
   "source": [
    "train.label.value_counts()"
   ]
  },
  {
   "cell_type": "markdown",
   "metadata": {
    "hidden": true
   },
   "source": [
    "1. В обучающей выборке имеем 5.4 млн. треков., около 8 ГБ.  \n",
    "2. В тестовой выборке - 726 тыс. треков (13%), около 1 ГБ.  \n",
    "3. Обучающая выборка существенно несбалансирована по целевой переменной (имеется только 8% отрицательных результатов).  \n",
    "4. Всего 80 признаков, из них 65 - числовых, 9 - массивы (FOI_COLUMNS), 5 - обучающих, 1 - идентификатор.  \n",
    "5. 9 признаков (FOI_COLUMNS) занимают 65% памяти.  \n",
    "6. Поля `MatchedHit_{X,Y,Z}[2,3]`, `MatchedHit_D{X,Y,Z}[2,3]` содержат пропущенные значения -9999 (около 2%). Соответствующие значения в столбце `MatchedHit_T` обозначены 255, `MatchedHit_DT` -1  "
   ]
  },
  {
   "cell_type": "markdown",
   "metadata": {
    "hidden": true
   },
   "source": [
    "Далее для отработки алгоритмов будем использовать 10% обучающей выборки"
   ]
  },
  {
   "cell_type": "code",
   "execution_count": 82,
   "metadata": {
    "hidden": true
   },
   "outputs": [],
   "source": [
    "train_10 = train.sample(frac=0.1, random_state=0)\n",
    "test_10 = test.sample(frac=0.1, random_state=0)"
   ]
  },
  {
   "cell_type": "code",
   "execution_count": 83,
   "metadata": {
    "hidden": true
   },
   "outputs": [
    {
     "data": {
      "text/plain": [
       "((544570, 79), (72610, 74))"
      ]
     },
     "execution_count": 83,
     "metadata": {},
     "output_type": "execute_result"
    }
   ],
   "source": [
    "(train_10.shape, test_10.shape)"
   ]
  },
  {
   "cell_type": "code",
   "execution_count": 85,
   "metadata": {
    "collapsed": true,
    "hidden": true
   },
   "outputs": [
    {
     "data": {
      "text/html": [
       "<div>\n",
       "<style scoped>\n",
       "    .dataframe tbody tr th:only-of-type {\n",
       "        vertical-align: middle;\n",
       "    }\n",
       "\n",
       "    .dataframe tbody tr th {\n",
       "        vertical-align: top;\n",
       "    }\n",
       "\n",
       "    .dataframe thead th {\n",
       "        text-align: right;\n",
       "    }\n",
       "</style>\n",
       "<table border=\"1\" class=\"dataframe\">\n",
       "  <thead>\n",
       "    <tr style=\"text-align: right;\">\n",
       "      <th></th>\n",
       "      <th>ncl[0]</th>\n",
       "      <th>ncl[1]</th>\n",
       "      <th>ncl[2]</th>\n",
       "      <th>ncl[3]</th>\n",
       "      <th>avg_cs[0]</th>\n",
       "      <th>avg_cs[1]</th>\n",
       "      <th>avg_cs[2]</th>\n",
       "      <th>avg_cs[3]</th>\n",
       "      <th>ndof</th>\n",
       "      <th>MatchedHit_TYPE[0]</th>\n",
       "      <th>...</th>\n",
       "      <th>FOI_hits_T</th>\n",
       "      <th>FOI_hits_DT</th>\n",
       "      <th>FOI_hits_S</th>\n",
       "      <th>PT</th>\n",
       "      <th>P</th>\n",
       "      <th>sWeight</th>\n",
       "      <th>particle_type</th>\n",
       "      <th>label</th>\n",
       "      <th>kinWeight</th>\n",
       "      <th>weight</th>\n",
       "    </tr>\n",
       "  </thead>\n",
       "  <tbody>\n",
       "    <tr>\n",
       "      <th>2774302</th>\n",
       "      <td>46</td>\n",
       "      <td>11</td>\n",
       "      <td>10</td>\n",
       "      <td>14</td>\n",
       "      <td>3.152174</td>\n",
       "      <td>1.272727</td>\n",
       "      <td>1.400000</td>\n",
       "      <td>1.714286</td>\n",
       "      <td>8</td>\n",
       "      <td>2</td>\n",
       "      <td>...</td>\n",
       "      <td>[ 3 15  6  6 10]</td>\n",
       "      <td>[ 0  8 -1  0  0]</td>\n",
       "      <td>[0 1 1 2 3]</td>\n",
       "      <td>879.737285</td>\n",
       "      <td>4656.998885</td>\n",
       "      <td>0.943764</td>\n",
       "      <td>1</td>\n",
       "      <td>1</td>\n",
       "      <td>1.85646</td>\n",
       "      <td>1.752060</td>\n",
       "    </tr>\n",
       "    <tr>\n",
       "      <th>4674492</th>\n",
       "      <td>20</td>\n",
       "      <td>7</td>\n",
       "      <td>10</td>\n",
       "      <td>16</td>\n",
       "      <td>1.650000</td>\n",
       "      <td>1.000000</td>\n",
       "      <td>1.600000</td>\n",
       "      <td>1.562500</td>\n",
       "      <td>8</td>\n",
       "      <td>2</td>\n",
       "      <td>...</td>\n",
       "      <td>[ 5  5 15  7 10  8]</td>\n",
       "      <td>[ 1  1 15  0 -1  0]</td>\n",
       "      <td>[0 0 1 1 2 3]</td>\n",
       "      <td>1808.101394</td>\n",
       "      <td>9036.762578</td>\n",
       "      <td>1.195179</td>\n",
       "      <td>1</td>\n",
       "      <td>1</td>\n",
       "      <td>1.85646</td>\n",
       "      <td>2.218803</td>\n",
       "    </tr>\n",
       "    <tr>\n",
       "      <th>1346953</th>\n",
       "      <td>99</td>\n",
       "      <td>27</td>\n",
       "      <td>26</td>\n",
       "      <td>19</td>\n",
       "      <td>1.737374</td>\n",
       "      <td>2.888889</td>\n",
       "      <td>1.307692</td>\n",
       "      <td>1.263158</td>\n",
       "      <td>8</td>\n",
       "      <td>2</td>\n",
       "      <td>...</td>\n",
       "      <td>[10  9 12  6 13]</td>\n",
       "      <td>[ 0 -1  2  0  0]</td>\n",
       "      <td>[0 1 1 2 3]</td>\n",
       "      <td>1090.992151</td>\n",
       "      <td>6573.516973</td>\n",
       "      <td>1.080711</td>\n",
       "      <td>1</td>\n",
       "      <td>1</td>\n",
       "      <td>3.00000</td>\n",
       "      <td>3.242132</td>\n",
       "    </tr>\n",
       "    <tr>\n",
       "      <th>1136540</th>\n",
       "      <td>43</td>\n",
       "      <td>8</td>\n",
       "      <td>8</td>\n",
       "      <td>6</td>\n",
       "      <td>2.372093</td>\n",
       "      <td>1.375000</td>\n",
       "      <td>1.125000</td>\n",
       "      <td>1.166667</td>\n",
       "      <td>8</td>\n",
       "      <td>2</td>\n",
       "      <td>...</td>\n",
       "      <td>[5 6 6 2 9]</td>\n",
       "      <td>[0 1 0 0 0]</td>\n",
       "      <td>[0 0 1 2 3]</td>\n",
       "      <td>1143.072219</td>\n",
       "      <td>10963.661222</td>\n",
       "      <td>1.210200</td>\n",
       "      <td>1</td>\n",
       "      <td>1</td>\n",
       "      <td>1.85646</td>\n",
       "      <td>2.246688</td>\n",
       "    </tr>\n",
       "    <tr>\n",
       "      <th>3105642</th>\n",
       "      <td>36</td>\n",
       "      <td>12</td>\n",
       "      <td>22</td>\n",
       "      <td>9</td>\n",
       "      <td>2.444444</td>\n",
       "      <td>1.750000</td>\n",
       "      <td>1.727273</td>\n",
       "      <td>1.333333</td>\n",
       "      <td>6</td>\n",
       "      <td>2</td>\n",
       "      <td>...</td>\n",
       "      <td>[7 8 4]</td>\n",
       "      <td>[0 0 0]</td>\n",
       "      <td>[0 1 2]</td>\n",
       "      <td>1042.595726</td>\n",
       "      <td>4395.218049</td>\n",
       "      <td>1.211791</td>\n",
       "      <td>1</td>\n",
       "      <td>1</td>\n",
       "      <td>1.85646</td>\n",
       "      <td>2.249641</td>\n",
       "    </tr>\n",
       "  </tbody>\n",
       "</table>\n",
       "<p>5 rows × 79 columns</p>\n",
       "</div>"
      ],
      "text/plain": [
       "         ncl[0]  ncl[1]  ncl[2]  ncl[3]  avg_cs[0]  avg_cs[1]  avg_cs[2]  \\\n",
       "2774302      46      11      10      14   3.152174   1.272727   1.400000   \n",
       "4674492      20       7      10      16   1.650000   1.000000   1.600000   \n",
       "1346953      99      27      26      19   1.737374   2.888889   1.307692   \n",
       "1136540      43       8       8       6   2.372093   1.375000   1.125000   \n",
       "3105642      36      12      22       9   2.444444   1.750000   1.727273   \n",
       "\n",
       "         avg_cs[3]  ndof  MatchedHit_TYPE[0]    ...              FOI_hits_T  \\\n",
       "2774302   1.714286     8                   2    ...        [ 3 15  6  6 10]   \n",
       "4674492   1.562500     8                   2    ...     [ 5  5 15  7 10  8]   \n",
       "1346953   1.263158     8                   2    ...        [10  9 12  6 13]   \n",
       "1136540   1.166667     8                   2    ...             [5 6 6 2 9]   \n",
       "3105642   1.333333     6                   2    ...                 [7 8 4]   \n",
       "\n",
       "                 FOI_hits_DT     FOI_hits_S           PT             P  \\\n",
       "2774302     [ 0  8 -1  0  0]    [0 1 1 2 3]   879.737285   4656.998885   \n",
       "4674492  [ 1  1 15  0 -1  0]  [0 0 1 1 2 3]  1808.101394   9036.762578   \n",
       "1346953     [ 0 -1  2  0  0]    [0 1 1 2 3]  1090.992151   6573.516973   \n",
       "1136540          [0 1 0 0 0]    [0 0 1 2 3]  1143.072219  10963.661222   \n",
       "3105642              [0 0 0]        [0 1 2]  1042.595726   4395.218049   \n",
       "\n",
       "          sWeight  particle_type  label  kinWeight    weight  \n",
       "2774302  0.943764              1      1    1.85646  1.752060  \n",
       "4674492  1.195179              1      1    1.85646  2.218803  \n",
       "1346953  1.080711              1      1    3.00000  3.242132  \n",
       "1136540  1.210200              1      1    1.85646  2.246688  \n",
       "3105642  1.211791              1      1    1.85646  2.249641  \n",
       "\n",
       "[5 rows x 79 columns]"
      ]
     },
     "execution_count": 85,
     "metadata": {},
     "output_type": "execute_result"
    }
   ],
   "source": [
    "train_10.head()"
   ]
  },
  {
   "cell_type": "code",
   "execution_count": 86,
   "metadata": {
    "hidden": true
   },
   "outputs": [],
   "source": [
    "train_10.to_csv(os.path.join(DATA_PATH, 'train_10.csv'))\n",
    "test_10.to_csv(os.path.join(DATA_PATH, 'test_10.csv'))"
   ]
  },
  {
   "cell_type": "markdown",
   "metadata": {
    "heading_collapsed": true
   },
   "source": [
    "### Перезагружаем исходные данные (10% выборки)"
   ]
  },
  {
   "cell_type": "code",
   "execution_count": 97,
   "metadata": {
    "hidden": true
   },
   "outputs": [],
   "source": [
    "train, test = utils.load_full_10_csv(DATA_PATH)"
   ]
  },
  {
   "cell_type": "code",
   "execution_count": 3,
   "metadata": {
    "hidden": true
   },
   "outputs": [
    {
     "data": {
      "text/plain": [
       "((544570, 79), (72610, 74))"
      ]
     },
     "execution_count": 3,
     "metadata": {},
     "output_type": "execute_result"
    }
   ],
   "source": [
    "(train.shape, test.shape)"
   ]
  },
  {
   "cell_type": "code",
   "execution_count": 19,
   "metadata": {
    "collapsed": true,
    "hidden": true
   },
   "outputs": [
    {
     "data": {
      "text/html": [
       "<div>\n",
       "<style scoped>\n",
       "    .dataframe tbody tr th:only-of-type {\n",
       "        vertical-align: middle;\n",
       "    }\n",
       "\n",
       "    .dataframe tbody tr th {\n",
       "        vertical-align: top;\n",
       "    }\n",
       "\n",
       "    .dataframe thead th {\n",
       "        text-align: right;\n",
       "    }\n",
       "</style>\n",
       "<table border=\"1\" class=\"dataframe\">\n",
       "  <thead>\n",
       "    <tr style=\"text-align: right;\">\n",
       "      <th></th>\n",
       "      <th>ncl[0]</th>\n",
       "      <th>ncl[1]</th>\n",
       "      <th>ncl[2]</th>\n",
       "      <th>ncl[3]</th>\n",
       "      <th>avg_cs[0]</th>\n",
       "      <th>avg_cs[1]</th>\n",
       "      <th>avg_cs[2]</th>\n",
       "      <th>avg_cs[3]</th>\n",
       "      <th>ndof</th>\n",
       "      <th>MatchedHit_TYPE[0]</th>\n",
       "      <th>...</th>\n",
       "      <th>Mextra_DX2[1]</th>\n",
       "      <th>Mextra_DX2[2]</th>\n",
       "      <th>Mextra_DX2[3]</th>\n",
       "      <th>Mextra_DY2[0]</th>\n",
       "      <th>Mextra_DY2[1]</th>\n",
       "      <th>Mextra_DY2[2]</th>\n",
       "      <th>Mextra_DY2[3]</th>\n",
       "      <th>FOI_hits_N</th>\n",
       "      <th>PT</th>\n",
       "      <th>P</th>\n",
       "    </tr>\n",
       "  </thead>\n",
       "  <tbody>\n",
       "    <tr>\n",
       "      <th>0</th>\n",
       "      <td>46.0</td>\n",
       "      <td>11.0</td>\n",
       "      <td>10.0</td>\n",
       "      <td>14.0</td>\n",
       "      <td>3.152174</td>\n",
       "      <td>1.272727</td>\n",
       "      <td>1.400000</td>\n",
       "      <td>1.714286</td>\n",
       "      <td>8.0</td>\n",
       "      <td>2.0</td>\n",
       "      <td>...</td>\n",
       "      <td>8742.464844</td>\n",
       "      <td>21451.365234</td>\n",
       "      <td>45199.402344</td>\n",
       "      <td>2808.968506</td>\n",
       "      <td>8474.981445</td>\n",
       "      <td>20795.039062</td>\n",
       "      <td>43816.480469</td>\n",
       "      <td>5.0</td>\n",
       "      <td>879.737305</td>\n",
       "      <td>4656.999023</td>\n",
       "    </tr>\n",
       "    <tr>\n",
       "      <th>1</th>\n",
       "      <td>20.0</td>\n",
       "      <td>7.0</td>\n",
       "      <td>10.0</td>\n",
       "      <td>16.0</td>\n",
       "      <td>1.650000</td>\n",
       "      <td>1.000000</td>\n",
       "      <td>1.600000</td>\n",
       "      <td>1.562500</td>\n",
       "      <td>8.0</td>\n",
       "      <td>2.0</td>\n",
       "      <td>...</td>\n",
       "      <td>2113.700195</td>\n",
       "      <td>4832.137207</td>\n",
       "      <td>9439.530273</td>\n",
       "      <td>704.310730</td>\n",
       "      <td>2111.743896</td>\n",
       "      <td>4827.666016</td>\n",
       "      <td>9430.797852</td>\n",
       "      <td>6.0</td>\n",
       "      <td>1808.101440</td>\n",
       "      <td>9036.762695</td>\n",
       "    </tr>\n",
       "    <tr>\n",
       "      <th>2</th>\n",
       "      <td>99.0</td>\n",
       "      <td>27.0</td>\n",
       "      <td>26.0</td>\n",
       "      <td>19.0</td>\n",
       "      <td>1.737374</td>\n",
       "      <td>2.888889</td>\n",
       "      <td>1.307692</td>\n",
       "      <td>1.263158</td>\n",
       "      <td>8.0</td>\n",
       "      <td>2.0</td>\n",
       "      <td>...</td>\n",
       "      <td>4631.187012</td>\n",
       "      <td>11061.107422</td>\n",
       "      <td>22695.498047</td>\n",
       "      <td>1398.093994</td>\n",
       "      <td>4183.302246</td>\n",
       "      <td>9991.374023</td>\n",
       "      <td>20500.582031</td>\n",
       "      <td>5.0</td>\n",
       "      <td>1090.992188</td>\n",
       "      <td>6573.517090</td>\n",
       "    </tr>\n",
       "    <tr>\n",
       "      <th>3</th>\n",
       "      <td>43.0</td>\n",
       "      <td>8.0</td>\n",
       "      <td>8.0</td>\n",
       "      <td>6.0</td>\n",
       "      <td>2.372093</td>\n",
       "      <td>1.375000</td>\n",
       "      <td>1.125000</td>\n",
       "      <td>1.166667</td>\n",
       "      <td>8.0</td>\n",
       "      <td>2.0</td>\n",
       "      <td>...</td>\n",
       "      <td>1294.079346</td>\n",
       "      <td>2954.360840</td>\n",
       "      <td>5806.304688</td>\n",
       "      <td>444.476807</td>\n",
       "      <td>1297.190918</td>\n",
       "      <td>2961.463623</td>\n",
       "      <td>5820.262695</td>\n",
       "      <td>5.0</td>\n",
       "      <td>1143.072266</td>\n",
       "      <td>10963.661133</td>\n",
       "    </tr>\n",
       "    <tr>\n",
       "      <th>4</th>\n",
       "      <td>36.0</td>\n",
       "      <td>12.0</td>\n",
       "      <td>22.0</td>\n",
       "      <td>9.0</td>\n",
       "      <td>2.444444</td>\n",
       "      <td>1.750000</td>\n",
       "      <td>1.727273</td>\n",
       "      <td>1.333333</td>\n",
       "      <td>6.0</td>\n",
       "      <td>2.0</td>\n",
       "      <td>...</td>\n",
       "      <td>10012.363281</td>\n",
       "      <td>24960.212891</td>\n",
       "      <td>53855.460938</td>\n",
       "      <td>3234.657715</td>\n",
       "      <td>9986.380859</td>\n",
       "      <td>24895.445312</td>\n",
       "      <td>53715.714844</td>\n",
       "      <td>3.0</td>\n",
       "      <td>1042.595703</td>\n",
       "      <td>4395.218262</td>\n",
       "    </tr>\n",
       "  </tbody>\n",
       "</table>\n",
       "<p>5 rows × 65 columns</p>\n",
       "</div>"
      ],
      "text/plain": [
       "   ncl[0]  ncl[1]  ncl[2]  ncl[3]  avg_cs[0]  avg_cs[1]  avg_cs[2]  avg_cs[3]  \\\n",
       "0    46.0    11.0    10.0    14.0   3.152174   1.272727   1.400000   1.714286   \n",
       "1    20.0     7.0    10.0    16.0   1.650000   1.000000   1.600000   1.562500   \n",
       "2    99.0    27.0    26.0    19.0   1.737374   2.888889   1.307692   1.263158   \n",
       "3    43.0     8.0     8.0     6.0   2.372093   1.375000   1.125000   1.166667   \n",
       "4    36.0    12.0    22.0     9.0   2.444444   1.750000   1.727273   1.333333   \n",
       "\n",
       "   ndof  MatchedHit_TYPE[0]      ...       Mextra_DX2[1]  Mextra_DX2[2]  \\\n",
       "0   8.0                 2.0      ...         8742.464844   21451.365234   \n",
       "1   8.0                 2.0      ...         2113.700195    4832.137207   \n",
       "2   8.0                 2.0      ...         4631.187012   11061.107422   \n",
       "3   8.0                 2.0      ...         1294.079346    2954.360840   \n",
       "4   6.0                 2.0      ...        10012.363281   24960.212891   \n",
       "\n",
       "   Mextra_DX2[3]  Mextra_DY2[0]  Mextra_DY2[1]  Mextra_DY2[2]  Mextra_DY2[3]  \\\n",
       "0   45199.402344    2808.968506    8474.981445   20795.039062   43816.480469   \n",
       "1    9439.530273     704.310730    2111.743896    4827.666016    9430.797852   \n",
       "2   22695.498047    1398.093994    4183.302246    9991.374023   20500.582031   \n",
       "3    5806.304688     444.476807    1297.190918    2961.463623    5820.262695   \n",
       "4   53855.460938    3234.657715    9986.380859   24895.445312   53715.714844   \n",
       "\n",
       "   FOI_hits_N           PT             P  \n",
       "0         5.0   879.737305   4656.999023  \n",
       "1         6.0  1808.101440   9036.762695  \n",
       "2         5.0  1090.992188   6573.517090  \n",
       "3         5.0  1143.072266  10963.661133  \n",
       "4         3.0  1042.595703   4395.218262  \n",
       "\n",
       "[5 rows x 65 columns]"
      ]
     },
     "execution_count": 19,
     "metadata": {},
     "output_type": "execute_result"
    }
   ],
   "source": [
    "train[utils.SIMPLE_FEATURE_COLUMNS].head()"
   ]
  },
  {
   "cell_type": "code",
   "execution_count": 113,
   "metadata": {
    "collapsed": true,
    "hidden": true
   },
   "outputs": [
    {
     "data": {
      "text/html": [
       "<div>\n",
       "<style scoped>\n",
       "    .dataframe tbody tr th:only-of-type {\n",
       "        vertical-align: middle;\n",
       "    }\n",
       "\n",
       "    .dataframe tbody tr th {\n",
       "        vertical-align: top;\n",
       "    }\n",
       "\n",
       "    .dataframe thead th {\n",
       "        text-align: right;\n",
       "    }\n",
       "</style>\n",
       "<table border=\"1\" class=\"dataframe\">\n",
       "  <thead>\n",
       "    <tr style=\"text-align: right;\">\n",
       "      <th></th>\n",
       "      <th>FOI_hits_X</th>\n",
       "      <th>FOI_hits_Y</th>\n",
       "      <th>FOI_hits_T</th>\n",
       "      <th>FOI_hits_Z</th>\n",
       "      <th>FOI_hits_DX</th>\n",
       "      <th>FOI_hits_DY</th>\n",
       "      <th>FOI_hits_DZ</th>\n",
       "      <th>FOI_hits_DT</th>\n",
       "      <th>FOI_hits_S</th>\n",
       "    </tr>\n",
       "  </thead>\n",
       "  <tbody>\n",
       "    <tr>\n",
       "      <th>0</th>\n",
       "      <td>[-2219.88, -2504.7, -2394.7, -2478.87, -1940.67]</td>\n",
       "      <td>[2659.536, 2866.6494, 2866.6494, 3074.9841, 24...</td>\n",
       "      <td>[3.0, 15.0, 6.0, 6.0, 10.0]</td>\n",
       "      <td>[15328.678, 16533.623, 16533.623, 17727.174, 1...</td>\n",
       "      <td>[25.5, 27.5, 27.5, 118.0, 63.0]</td>\n",
       "      <td>[126.27855, 136.27849, 136.27849, 146.27841, 7...</td>\n",
       "      <td>[33.95495, 33.99096, 33.99096, 34.026966, 33.7...</td>\n",
       "      <td>[0.0, 8.0, -1.0, 0.0, 0.0]</td>\n",
       "      <td>[0.0, 1.0, 1.0, 2.0, 3.0]</td>\n",
       "    </tr>\n",
       "    <tr>\n",
       "      <th>1</th>\n",
       "      <td>[1544.1, 1544.1, 84.51, 1584.06, 1568.6, 1677.82]</td>\n",
       "      <td>[-690.35535, -563.9562, -779.3011, -745.2013, ...</td>\n",
       "      <td>[5.0, 5.0, 15.0, 7.0, 10.0, 8.0]</td>\n",
       "      <td>[15117.513, 15117.968, 16324.493, 16324.615, 1...</td>\n",
       "      <td>[12.75, 12.75, 82.5, 13.75, 59.0, 63.0]</td>\n",
       "      <td>[63.078957, 63.078957, 33.979145, 68.078926, 7...</td>\n",
       "      <td>[33.727364, 33.727364, 33.622578, 33.74537, 33...</td>\n",
       "      <td>[1.0, 1.0, 15.0, 0.0, -1.0, 0.0]</td>\n",
       "      <td>[0.0, 0.0, 1.0, 1.0, 2.0, 3.0]</td>\n",
       "    </tr>\n",
       "    <tr>\n",
       "      <th>2</th>\n",
       "      <td>[-4148.18, -4583.8, -4528.8, -5062.87, -5406.57]</td>\n",
       "      <td>[1645.7426, 1773.5565, 1773.5565, 1902.4917, 2...</td>\n",
       "      <td>[10.0, 9.0, 12.0, 6.0, 13.0]</td>\n",
       "      <td>[15325.026, 16529.688, 16529.688, 17722.951, 1...</td>\n",
       "      <td>[25.5, 27.5, 27.5, 118.0, 126.0]</td>\n",
       "      <td>[126.27855, 136.27849, 136.27849, 146.27841, 1...</td>\n",
       "      <td>[33.95495, 33.99096, 33.99096, 34.026966, 34.0...</td>\n",
       "      <td>[0.0, -1.0, 2.0, 0.0, 0.0]</td>\n",
       "      <td>[0.0, 1.0, 1.0, 2.0, 3.0]</td>\n",
       "    </tr>\n",
       "    <tr>\n",
       "      <th>3</th>\n",
       "      <td>[-725.03, -699.53, -838.35, -1001.87, -1071.17]</td>\n",
       "      <td>[-1564.9329, -1564.9329, -1690.1172, -1813.980...</td>\n",
       "      <td>[5.0, 6.0, 6.0, 2.0, 9.0]</td>\n",
       "      <td>[15112.464, 15112.464, 16316.213, 17508.566, 1...</td>\n",
       "      <td>[12.75, 12.75, 13.75, 59.0, 63.0]</td>\n",
       "      <td>[63.078957, 63.078957, 68.078926, 73.078896, 7...</td>\n",
       "      <td>[33.727364, 33.727364, 33.74537, 33.763374, 33...</td>\n",
       "      <td>[0.0, 1.0, 0.0, 0.0, 0.0]</td>\n",
       "      <td>[0.0, 0.0, 1.0, 2.0, 3.0]</td>\n",
       "    </tr>\n",
       "    <tr>\n",
       "      <th>4</th>\n",
       "      <td>[-1607.88, -1844.7, -2006.87]</td>\n",
       "      <td>[3166.4326, 3413.2458, 3661.2803]</td>\n",
       "      <td>[7.0, 8.0, 4.0]</td>\n",
       "      <td>[15330.503, 16535.592, 17729.285]</td>\n",
       "      <td>[25.5, 27.5, 118.0]</td>\n",
       "      <td>[126.27855, 136.27849, 146.27841]</td>\n",
       "      <td>[33.95495, 33.99096, 34.026966]</td>\n",
       "      <td>[0.0, 0.0, 0.0]</td>\n",
       "      <td>[0.0, 1.0, 2.0]</td>\n",
       "    </tr>\n",
       "  </tbody>\n",
       "</table>\n",
       "</div>"
      ],
      "text/plain": [
       "                                          FOI_hits_X  \\\n",
       "0   [-2219.88, -2504.7, -2394.7, -2478.87, -1940.67]   \n",
       "1  [1544.1, 1544.1, 84.51, 1584.06, 1568.6, 1677.82]   \n",
       "2   [-4148.18, -4583.8, -4528.8, -5062.87, -5406.57]   \n",
       "3    [-725.03, -699.53, -838.35, -1001.87, -1071.17]   \n",
       "4                      [-1607.88, -1844.7, -2006.87]   \n",
       "\n",
       "                                          FOI_hits_Y  \\\n",
       "0  [2659.536, 2866.6494, 2866.6494, 3074.9841, 24...   \n",
       "1  [-690.35535, -563.9562, -779.3011, -745.2013, ...   \n",
       "2  [1645.7426, 1773.5565, 1773.5565, 1902.4917, 2...   \n",
       "3  [-1564.9329, -1564.9329, -1690.1172, -1813.980...   \n",
       "4                  [3166.4326, 3413.2458, 3661.2803]   \n",
       "\n",
       "                         FOI_hits_T  \\\n",
       "0       [3.0, 15.0, 6.0, 6.0, 10.0]   \n",
       "1  [5.0, 5.0, 15.0, 7.0, 10.0, 8.0]   \n",
       "2      [10.0, 9.0, 12.0, 6.0, 13.0]   \n",
       "3         [5.0, 6.0, 6.0, 2.0, 9.0]   \n",
       "4                   [7.0, 8.0, 4.0]   \n",
       "\n",
       "                                          FOI_hits_Z  \\\n",
       "0  [15328.678, 16533.623, 16533.623, 17727.174, 1...   \n",
       "1  [15117.513, 15117.968, 16324.493, 16324.615, 1...   \n",
       "2  [15325.026, 16529.688, 16529.688, 17722.951, 1...   \n",
       "3  [15112.464, 15112.464, 16316.213, 17508.566, 1...   \n",
       "4                  [15330.503, 16535.592, 17729.285]   \n",
       "\n",
       "                               FOI_hits_DX  \\\n",
       "0          [25.5, 27.5, 27.5, 118.0, 63.0]   \n",
       "1  [12.75, 12.75, 82.5, 13.75, 59.0, 63.0]   \n",
       "2         [25.5, 27.5, 27.5, 118.0, 126.0]   \n",
       "3        [12.75, 12.75, 13.75, 59.0, 63.0]   \n",
       "4                      [25.5, 27.5, 118.0]   \n",
       "\n",
       "                                         FOI_hits_DY  \\\n",
       "0  [126.27855, 136.27849, 136.27849, 146.27841, 7...   \n",
       "1  [63.078957, 63.078957, 33.979145, 68.078926, 7...   \n",
       "2  [126.27855, 136.27849, 136.27849, 146.27841, 1...   \n",
       "3  [63.078957, 63.078957, 68.078926, 73.078896, 7...   \n",
       "4                  [126.27855, 136.27849, 146.27841]   \n",
       "\n",
       "                                         FOI_hits_DZ  \\\n",
       "0  [33.95495, 33.99096, 33.99096, 34.026966, 33.7...   \n",
       "1  [33.727364, 33.727364, 33.622578, 33.74537, 33...   \n",
       "2  [33.95495, 33.99096, 33.99096, 34.026966, 34.0...   \n",
       "3  [33.727364, 33.727364, 33.74537, 33.763374, 33...   \n",
       "4                    [33.95495, 33.99096, 34.026966]   \n",
       "\n",
       "                        FOI_hits_DT                      FOI_hits_S  \n",
       "0        [0.0, 8.0, -1.0, 0.0, 0.0]       [0.0, 1.0, 1.0, 2.0, 3.0]  \n",
       "1  [1.0, 1.0, 15.0, 0.0, -1.0, 0.0]  [0.0, 0.0, 1.0, 1.0, 2.0, 3.0]  \n",
       "2        [0.0, -1.0, 2.0, 0.0, 0.0]       [0.0, 1.0, 1.0, 2.0, 3.0]  \n",
       "3         [0.0, 1.0, 0.0, 0.0, 0.0]       [0.0, 0.0, 1.0, 2.0, 3.0]  \n",
       "4                   [0.0, 0.0, 0.0]                 [0.0, 1.0, 2.0]  "
      ]
     },
     "execution_count": 113,
     "metadata": {},
     "output_type": "execute_result"
    }
   ],
   "source": [
    "train[utils.FOI_COLUMNS].head()"
   ]
  },
  {
   "cell_type": "code",
   "execution_count": 114,
   "metadata": {
    "collapsed": true,
    "hidden": true
   },
   "outputs": [
    {
     "data": {
      "text/html": [
       "<div>\n",
       "<style scoped>\n",
       "    .dataframe tbody tr th:only-of-type {\n",
       "        vertical-align: middle;\n",
       "    }\n",
       "\n",
       "    .dataframe tbody tr th {\n",
       "        vertical-align: top;\n",
       "    }\n",
       "\n",
       "    .dataframe thead th {\n",
       "        text-align: right;\n",
       "    }\n",
       "</style>\n",
       "<table border=\"1\" class=\"dataframe\">\n",
       "  <thead>\n",
       "    <tr style=\"text-align: right;\">\n",
       "      <th></th>\n",
       "      <th>label</th>\n",
       "      <th>weight</th>\n",
       "      <th>sWeight</th>\n",
       "      <th>kinWeight</th>\n",
       "      <th>particle_type</th>\n",
       "    </tr>\n",
       "  </thead>\n",
       "  <tbody>\n",
       "    <tr>\n",
       "      <th>0</th>\n",
       "      <td>1</td>\n",
       "      <td>1.752060</td>\n",
       "      <td>0.943764</td>\n",
       "      <td>1.85646</td>\n",
       "      <td>1</td>\n",
       "    </tr>\n",
       "    <tr>\n",
       "      <th>1</th>\n",
       "      <td>1</td>\n",
       "      <td>2.218803</td>\n",
       "      <td>1.195179</td>\n",
       "      <td>1.85646</td>\n",
       "      <td>1</td>\n",
       "    </tr>\n",
       "    <tr>\n",
       "      <th>2</th>\n",
       "      <td>1</td>\n",
       "      <td>3.242132</td>\n",
       "      <td>1.080711</td>\n",
       "      <td>3.00000</td>\n",
       "      <td>1</td>\n",
       "    </tr>\n",
       "    <tr>\n",
       "      <th>3</th>\n",
       "      <td>1</td>\n",
       "      <td>2.246688</td>\n",
       "      <td>1.210200</td>\n",
       "      <td>1.85646</td>\n",
       "      <td>1</td>\n",
       "    </tr>\n",
       "    <tr>\n",
       "      <th>4</th>\n",
       "      <td>1</td>\n",
       "      <td>2.249641</td>\n",
       "      <td>1.211791</td>\n",
       "      <td>1.85646</td>\n",
       "      <td>1</td>\n",
       "    </tr>\n",
       "  </tbody>\n",
       "</table>\n",
       "</div>"
      ],
      "text/plain": [
       "   label    weight   sWeight  kinWeight  particle_type\n",
       "0      1  1.752060  0.943764    1.85646              1\n",
       "1      1  2.218803  1.195179    1.85646              1\n",
       "2      1  3.242132  1.080711    3.00000              1\n",
       "3      1  2.246688  1.210200    1.85646              1\n",
       "4      1  2.249641  1.211791    1.85646              1"
      ]
     },
     "execution_count": 114,
     "metadata": {},
     "output_type": "execute_result"
    }
   ],
   "source": [
    "train[utils.TRAIN_COLUMNS].head()"
   ]
  },
  {
   "cell_type": "markdown",
   "metadata": {
    "heading_collapsed": true
   },
   "source": [
    "### Baseline"
   ]
  },
  {
   "cell_type": "markdown",
   "metadata": {
    "heading_collapsed": true,
    "hidden": true
   },
   "source": [
    "#### SIMPLE_FEATURE_COLUMNS, label"
   ]
  },
  {
   "cell_type": "code",
   "execution_count": 298,
   "metadata": {
    "hidden": true
   },
   "outputs": [],
   "source": [
    "train_part, validation = train_test_split(train, test_size=0.25, shuffle=True, random_state=0)\n",
    "features = utils.SIMPLE_FEATURE_COLUMNS\n",
    "model = xgboost.XGBClassifier(n_jobs=-1)"
   ]
  },
  {
   "cell_type": "code",
   "execution_count": 377,
   "metadata": {
    "hidden": true
   },
   "outputs": [
    {
     "name": "stdout",
     "output_type": "stream",
     "text": [
      "Wall time: 2min 13s\n"
     ]
    },
    {
     "data": {
      "text/plain": [
       "XGBClassifier(base_score=0.5, booster='gbtree', colsample_bylevel=1,\n",
       "       colsample_bytree=1, gamma=0, learning_rate=0.1, max_delta_step=0,\n",
       "       max_depth=3, min_child_weight=1, missing=None, n_estimators=100,\n",
       "       n_jobs=-1, nthread=None, objective='binary:logistic',\n",
       "       random_state=0, reg_alpha=0, reg_lambda=1, scale_pos_weight=1,\n",
       "       seed=None, silent=True, subsample=1)"
      ]
     },
     "execution_count": 377,
     "metadata": {},
     "output_type": "execute_result"
    }
   ],
   "source": [
    "%%time\n",
    "model.fit(train_part[features].values, train_part.label.values, sample_weight=train_part.weight.values)"
   ]
  },
  {
   "cell_type": "code",
   "execution_count": 382,
   "metadata": {
    "hidden": true
   },
   "outputs": [],
   "source": [
    "validation_predictions = model.predict_proba(validation[features].values)[:, 1]"
   ]
  },
  {
   "cell_type": "code",
   "execution_count": 383,
   "metadata": {
    "hidden": true
   },
   "outputs": [
    {
     "data": {
      "text/plain": [
       "0.5143225054344271"
      ]
     },
     "execution_count": 383,
     "metadata": {},
     "output_type": "execute_result"
    }
   ],
   "source": [
    "score = scoring.rejection90(validation.label.values, validation_predictions, sample_weight=validation.weight.values)\n",
    "score"
   ]
  },
  {
   "cell_type": "code",
   "execution_count": 384,
   "metadata": {
    "hidden": true
   },
   "outputs": [
    {
     "data": {
      "text/plain": [
       "<matplotlib.axes._subplots.AxesSubplot at 0xc82d9d54a8>"
      ]
     },
     "execution_count": 384,
     "metadata": {},
     "output_type": "execute_result"
    },
    {
     "data": {
      "image/png": "[encoded data removed]",
      "text/plain": [
       "<Figure size 432x288 with 1 Axes>"
      ]
     },
     "metadata": {},
     "output_type": "display_data"
    }
   ],
   "source": [
    "best_features = pd.Series(model.feature_importances_, index=features).sort_values(ascending=False)\n",
    "best_features[:10].plot(kind='bar', grid=True)"
   ]
  },
  {
   "cell_type": "code",
   "execution_count": 386,
   "metadata": {
    "hidden": true
   },
   "outputs": [],
   "source": [
    "models.append({'name': 'baseline', 'score': score, 'best_features': best_features, 'fit_time': 133})"
   ]
  },
  {
   "cell_type": "markdown",
   "metadata": {
    "heading_collapsed": true,
    "hidden": true
   },
   "source": [
    "#### SIMPLE_FEATURE_COLUMNS, particle_type"
   ]
  },
  {
   "cell_type": "markdown",
   "metadata": {
    "hidden": true
   },
   "source": [
    "Модель для исключения пионов"
   ]
  },
  {
   "cell_type": "code",
   "execution_count": 399,
   "metadata": {
    "hidden": true
   },
   "outputs": [],
   "source": [
    "train_part, validation = train_test_split(train, test_size=0.25, shuffle=True, random_state=0)\n",
    "features = utils.SIMPLE_FEATURE_COLUMNS\n",
    "model = xgboost.XGBClassifier(n_jobs=-1)"
   ]
  },
  {
   "cell_type": "code",
   "execution_count": 400,
   "metadata": {
    "hidden": true
   },
   "outputs": [
    {
     "name": "stdout",
     "output_type": "stream",
     "text": [
      "Wall time: 2min 22s\n"
     ]
    },
    {
     "data": {
      "text/plain": [
       "XGBClassifier(base_score=0.5, booster='gbtree', colsample_bylevel=1,\n",
       "       colsample_bytree=1, gamma=0, learning_rate=0.1, max_delta_step=0,\n",
       "       max_depth=3, min_child_weight=1, missing=None, n_estimators=100,\n",
       "       n_jobs=-1, nthread=None, objective='binary:logistic',\n",
       "       random_state=0, reg_alpha=0, reg_lambda=1, scale_pos_weight=1,\n",
       "       seed=None, silent=True, subsample=1)"
      ]
     },
     "execution_count": 400,
     "metadata": {},
     "output_type": "execute_result"
    }
   ],
   "source": [
    "%%time\n",
    "model.fit(train_part[features].values, (train_part.particle_type!=0).values, sample_weight=train_part.weight.values)"
   ]
  },
  {
   "cell_type": "code",
   "execution_count": 401,
   "metadata": {
    "hidden": true
   },
   "outputs": [],
   "source": [
    "validation_predictions = model.predict_proba(validation[features].values)[:, 1]"
   ]
  },
  {
   "cell_type": "code",
   "execution_count": 402,
   "metadata": {
    "hidden": true
   },
   "outputs": [
    {
     "data": {
      "text/plain": [
       "0.3935499402228077"
      ]
     },
     "execution_count": 402,
     "metadata": {},
     "output_type": "execute_result"
    }
   ],
   "source": [
    "score = scoring.rejection90((validation.particle_type!=0).values, validation_predictions, sample_weight=validation.weight.values)\n",
    "score"
   ]
  },
  {
   "cell_type": "code",
   "execution_count": 403,
   "metadata": {
    "hidden": true
   },
   "outputs": [
    {
     "data": {
      "text/plain": [
       "<matplotlib.axes._subplots.AxesSubplot at 0xc82ce91eb8>"
      ]
     },
     "execution_count": 403,
     "metadata": {},
     "output_type": "execute_result"
    },
    {
     "data": {
      "image/png": "[encoded data removed]",
      "text/plain": [
       "<Figure size 432x288 with 1 Axes>"
      ]
     },
     "metadata": {},
     "output_type": "display_data"
    }
   ],
   "source": [
    "best_features = pd.Series(model.feature_importances_, index=features).sort_values(ascending=False)\n",
    "best_features[:10].plot(kind='bar', grid=True)"
   ]
  },
  {
   "cell_type": "code",
   "execution_count": 407,
   "metadata": {
    "hidden": true
   },
   "outputs": [],
   "source": [
    "models.append({'name': 'baseline_pions', 'score': score, 'best_features': best_features, 'fit_time': 142})"
   ]
  },
  {
   "cell_type": "markdown",
   "metadata": {
    "hidden": true
   },
   "source": [
    "Модель для исключения протонов"
   ]
  },
  {
   "cell_type": "code",
   "execution_count": 411,
   "metadata": {
    "hidden": true
   },
   "outputs": [],
   "source": [
    "train_part, validation = train_test_split(train, test_size=0.25, shuffle=True, random_state=0)\n",
    "features = utils.SIMPLE_FEATURE_COLUMNS\n",
    "model = xgboost.XGBClassifier(n_jobs=-1)"
   ]
  },
  {
   "cell_type": "code",
   "execution_count": 412,
   "metadata": {
    "hidden": true
   },
   "outputs": [
    {
     "name": "stdout",
     "output_type": "stream",
     "text": [
      "Wall time: 2min 9s\n"
     ]
    },
    {
     "data": {
      "text/plain": [
       "XGBClassifier(base_score=0.5, booster='gbtree', colsample_bylevel=1,\n",
       "       colsample_bytree=1, gamma=0, learning_rate=0.1, max_delta_step=0,\n",
       "       max_depth=3, min_child_weight=1, missing=None, n_estimators=100,\n",
       "       n_jobs=-1, nthread=None, objective='binary:logistic',\n",
       "       random_state=0, reg_alpha=0, reg_lambda=1, scale_pos_weight=1,\n",
       "       seed=None, silent=True, subsample=1)"
      ]
     },
     "execution_count": 412,
     "metadata": {},
     "output_type": "execute_result"
    }
   ],
   "source": [
    "%%time\n",
    "model.fit(train_part[features].values, (train_part.particle_type!=2).values, sample_weight=train_part.weight.values)"
   ]
  },
  {
   "cell_type": "code",
   "execution_count": 413,
   "metadata": {
    "hidden": true
   },
   "outputs": [],
   "source": [
    "validation_predictions = model.predict_proba(validation[features].values)[:, 1]"
   ]
  },
  {
   "cell_type": "code",
   "execution_count": 414,
   "metadata": {
    "hidden": true
   },
   "outputs": [
    {
     "data": {
      "text/plain": [
       "0.6134756423538318"
      ]
     },
     "execution_count": 414,
     "metadata": {},
     "output_type": "execute_result"
    }
   ],
   "source": [
    "score = scoring.rejection90((validation.particle_type!=2).values, validation_predictions, sample_weight=validation.weight.values)\n",
    "score"
   ]
  },
  {
   "cell_type": "code",
   "execution_count": 416,
   "metadata": {
    "hidden": true
   },
   "outputs": [
    {
     "data": {
      "text/plain": [
       "PT           0.177233\n",
       "P            0.100865\n",
       "ncl[0]       0.053314\n",
       "avg_cs[0]    0.046110\n",
       "NShared      0.033141\n",
       "dtype: float32"
      ]
     },
     "execution_count": 416,
     "metadata": {},
     "output_type": "execute_result"
    }
   ],
   "source": [
    "best_features = pd.Series(model.feature_importances_, index=features).sort_values(ascending=False)\n",
    "best_features.head()"
   ]
  },
  {
   "cell_type": "code",
   "execution_count": 417,
   "metadata": {
    "hidden": true
   },
   "outputs": [],
   "source": [
    "models.append({'name': 'baseline_protons', 'score': score, 'best_features': best_features, 'fit_time': 129})"
   ]
  },
  {
   "cell_type": "markdown",
   "metadata": {
    "hidden": true
   },
   "source": [
    "Протоны идентифицируются существенно лучше пионов (61% против 39%)"
   ]
  },
  {
   "cell_type": "markdown",
   "metadata": {},
   "source": [
    "### Изучение исходных данных"
   ]
  },
  {
   "cell_type": "markdown",
   "metadata": {
    "heading_collapsed": true
   },
   "source": [
    "#### TRAIN_COLUMNS"
   ]
  },
  {
   "cell_type": "code",
   "execution_count": 120,
   "metadata": {
    "hidden": true
   },
   "outputs": [
    {
     "data": {
      "text/plain": [
       "['label', 'weight', 'sWeight', 'kinWeight', 'particle_type']"
      ]
     },
     "execution_count": 120,
     "metadata": {},
     "output_type": "execute_result"
    }
   ],
   "source": [
    "utils.TRAIN_COLUMNS"
   ]
  },
  {
   "cell_type": "code",
   "execution_count": 160,
   "metadata": {
    "hidden": true
   },
   "outputs": [
    {
     "data": {
      "image/png": "[encoded data removed]",
      "text/plain": [
       "<Figure size 1080x216 with 5 Axes>"
      ]
     },
     "metadata": {},
     "output_type": "display_data"
    }
   ],
   "source": [
    "fig, axs = plt.subplots(1,5, figsize=(15,3))\n",
    "fig.tight_layout()\n",
    "train[utils.TRAIN_COLUMNS].hist(ax=axs);"
   ]
  },
  {
   "cell_type": "code",
   "execution_count": 177,
   "metadata": {
    "hidden": true
   },
   "outputs": [
    {
     "data": {
      "text/plain": [
       "(1.8564598845880824, 25.117117355757934)"
      ]
     },
     "execution_count": 177,
     "metadata": {},
     "output_type": "execute_result"
    }
   ],
   "source": [
    "confint(train['kinWeight'])"
   ]
  },
  {
   "cell_type": "code",
   "execution_count": 178,
   "metadata": {
    "hidden": true
   },
   "outputs": [
    {
     "data": {
      "text/plain": [
       "(-0.4092885919410545, 1.2340558752934343)"
      ]
     },
     "execution_count": 178,
     "metadata": {},
     "output_type": "execute_result"
    }
   ],
   "source": [
    "confint(train['sWeight'])"
   ]
  },
  {
   "cell_type": "markdown",
   "metadata": {
    "hidden": true
   },
   "source": [
    "Поля `kinWeight` и `sWeight` имеют значительные выбросы"
   ]
  },
  {
   "cell_type": "code",
   "execution_count": 182,
   "metadata": {
    "hidden": true
   },
   "outputs": [
    {
     "data": {
      "text/html": [
       "<div>\n",
       "<style scoped>\n",
       "    .dataframe tbody tr th:only-of-type {\n",
       "        vertical-align: middle;\n",
       "    }\n",
       "\n",
       "    .dataframe tbody tr th {\n",
       "        vertical-align: top;\n",
       "    }\n",
       "\n",
       "    .dataframe thead th {\n",
       "        text-align: right;\n",
       "    }\n",
       "</style>\n",
       "<table border=\"1\" class=\"dataframe\">\n",
       "  <thead>\n",
       "    <tr style=\"text-align: right;\">\n",
       "      <th>particle_type</th>\n",
       "      <th>0</th>\n",
       "      <th>1</th>\n",
       "      <th>2</th>\n",
       "    </tr>\n",
       "    <tr>\n",
       "      <th>label</th>\n",
       "      <th></th>\n",
       "      <th></th>\n",
       "      <th></th>\n",
       "    </tr>\n",
       "  </thead>\n",
       "  <tbody>\n",
       "    <tr>\n",
       "      <th>0</th>\n",
       "      <td>25006.0</td>\n",
       "      <td>NaN</td>\n",
       "      <td>16751.0</td>\n",
       "    </tr>\n",
       "    <tr>\n",
       "      <th>1</th>\n",
       "      <td>NaN</td>\n",
       "      <td>502813.0</td>\n",
       "      <td>NaN</td>\n",
       "    </tr>\n",
       "  </tbody>\n",
       "</table>\n",
       "</div>"
      ],
      "text/plain": [
       "particle_type        0         1        2\n",
       "label                                    \n",
       "0              25006.0       NaN  16751.0\n",
       "1                  NaN  502813.0      NaN"
      ]
     },
     "execution_count": 182,
     "metadata": {},
     "output_type": "execute_result"
    }
   ],
   "source": [
    "train.pivot_table(values='weight', index='label', columns='particle_type', aggfunc=len)"
   ]
  },
  {
   "cell_type": "markdown",
   "metadata": {
    "hidden": true
   },
   "source": [
    "Поле `particle_type` полностью определяет целевую переменную"
   ]
  },
  {
   "cell_type": "markdown",
   "metadata": {
    "heading_collapsed": true
   },
   "source": [
    "#### SIMPLE_FEATURE_COLUMNS"
   ]
  },
  {
   "cell_type": "code",
   "execution_count": 429,
   "metadata": {
    "hidden": true
   },
   "outputs": [
    {
     "name": "stdout",
     "output_type": "stream",
     "text": [
      "(['MatchedHit_DT[0]', 'MatchedHit_DT[1]', 'MatchedHit_DT[2]',\n",
      "  'MatchedHit_DT[3]', 'MatchedHit_DX[0]', 'MatchedHit_DX[1]',\n",
      "  'MatchedHit_DX[2]', 'MatchedHit_DX[3]', 'MatchedHit_DY[0]',\n",
      "  'MatchedHit_DY[1]', 'MatchedHit_DY[2]', 'MatchedHit_DY[3]',\n",
      "  'MatchedHit_DZ[0]', 'MatchedHit_DZ[1]', 'MatchedHit_DZ[2]',\n",
      "  'MatchedHit_DZ[3]', 'MatchedHit_TYPE[0]', 'MatchedHit_TYPE[1]',\n",
      "  'MatchedHit_TYPE[2]', 'MatchedHit_TYPE[3]', 'MatchedHit_T[0]',\n",
      "  'MatchedHit_T[1]', 'MatchedHit_T[2]', 'MatchedHit_T[3]', 'MatchedHit_X[0]',\n",
      "  'MatchedHit_X[1]', 'MatchedHit_X[2]', 'MatchedHit_X[3]', 'MatchedHit_Y[0]',\n",
      "  'MatchedHit_Y[1]', 'MatchedHit_Y[2]', 'MatchedHit_Y[3]', 'MatchedHit_Z[0]',\n",
      "  'MatchedHit_Z[1]', 'MatchedHit_Z[2]', 'MatchedHit_Z[3]'],\n",
      " 36)\n"
     ]
    }
   ],
   "source": [
    "features = sorted([name for name in utils.SIMPLE_FEATURE_COLUMNS if 'MatchedHit' in name])\n",
    "pprint((features, len(features)), compact=True)"
   ]
  },
  {
   "cell_type": "code",
   "execution_count": 64,
   "metadata": {
    "hidden": true
   },
   "outputs": [
    {
     "name": "stdout",
     "output_type": "stream",
     "text": [
      "(['Lextra_X[0]', 'Lextra_X[1]', 'Lextra_X[2]', 'Lextra_X[3]', 'Lextra_Y[0]',\n",
      "  'Lextra_Y[1]', 'Lextra_Y[2]', 'Lextra_Y[3]'],\n",
      " 8)\n"
     ]
    }
   ],
   "source": [
    "features = sorted([name for name in utils.SIMPLE_FEATURE_COLUMNS if 'Lextra' in name])\n",
    "pprint((features, len(features)), compact=True)"
   ]
  },
  {
   "cell_type": "code",
   "execution_count": 65,
   "metadata": {
    "hidden": true
   },
   "outputs": [
    {
     "name": "stdout",
     "output_type": "stream",
     "text": [
      "(['Mextra_DX2[0]', 'Mextra_DX2[1]', 'Mextra_DX2[2]', 'Mextra_DX2[3]',\n",
      "  'Mextra_DY2[0]', 'Mextra_DY2[1]', 'Mextra_DY2[2]', 'Mextra_DY2[3]'],\n",
      " 8)\n"
     ]
    }
   ],
   "source": [
    "features = sorted([name for name in utils.SIMPLE_FEATURE_COLUMNS if 'Mextra' in name])\n",
    "pprint((features, len(features)), compact=True)"
   ]
  },
  {
   "cell_type": "markdown",
   "metadata": {
    "hidden": true
   },
   "source": [
    "Обработаем пропущенные значения"
   ]
  },
  {
   "cell_type": "code",
   "execution_count": 20,
   "metadata": {
    "hidden": true
   },
   "outputs": [],
   "source": [
    "for s in [0,1,2,3]: #stage\n",
    "    for v in ['X', 'Y', 'Z', 'DX', 'DY', 'DZ']: #var\n",
    "        train[f'MatchedHit_{v}nan[{s}]'] = train[f'MatchedHit_{v}[{s}]'].apply(lambda x: np.nan if x==-9999 else x)\n",
    "for s in [0,1,2,3]: #stage\n",
    "    for v in ['T']: #var\n",
    "        train[f'MatchedHit_{v}nan[{s}]'] = train[f'MatchedHit_{v}[{s}]'].apply(lambda x: np.nan if x==255 else x)\n",
    "for s in [0,1,2,3]: #stage\n",
    "    for v in ['DT']: #var\n",
    "        train[f'MatchedHit_{v}nan[{s}]'] = train[f'MatchedHit_{v}[{s}]'].apply(lambda x: np.nan if x==-1 else x)"
   ]
  },
  {
   "cell_type": "markdown",
   "metadata": {
    "hidden": true
   },
   "source": [
    "Построим распределение координаты столкновения $Z$ в зависимости от номера фильтра"
   ]
  },
  {
   "cell_type": "code",
   "execution_count": 286,
   "metadata": {
    "hidden": true
   },
   "outputs": [
    {
     "data": {
      "image/png": "[encoded data removed]",
      "text/plain": [
       "<Figure size 432x288 with 1 Axes>"
      ]
     },
     "metadata": {},
     "output_type": "display_data"
    }
   ],
   "source": [
    "for s in [0,1,2,3]:\n",
    "    train[f'MatchedHit_Znan[{s}]'].hist()"
   ]
  },
  {
   "cell_type": "markdown",
   "metadata": {
    "hidden": true
   },
   "source": [
    "Построим распределение времени столкновения $T$ в зависимости от номера фильтра"
   ]
  },
  {
   "cell_type": "code",
   "execution_count": 288,
   "metadata": {
    "hidden": true
   },
   "outputs": [
    {
     "data": {
      "image/png": "[encoded data removed]",
      "text/plain": [
       "<Figure size 432x288 with 1 Axes>"
      ]
     },
     "metadata": {},
     "output_type": "display_data"
    }
   ],
   "source": [
    "for s in [0,1,2,3]:\n",
    "    train[f'MatchedHit_Tnan[{s}]'].hist(alpha=0.5)"
   ]
  },
  {
   "cell_type": "code",
   "execution_count": 329,
   "metadata": {
    "hidden": true
   },
   "outputs": [
    {
     "data": {
      "text/plain": [
       "MatchedHit_Tnan[0]    6.121913\n",
       "MatchedHit_Tnan[1]    5.920660\n",
       "MatchedHit_Tnan[2]    6.084950\n",
       "MatchedHit_Tnan[3]    6.023651\n",
       "dtype: float64"
      ]
     },
     "execution_count": 329,
     "metadata": {},
     "output_type": "execute_result"
    }
   ],
   "source": [
    "train[[f'MatchedHit_Tnan[{s}]' for s in [0,1,2,3]]].mean() # усреднение времени по номерам фильтров"
   ]
  },
  {
   "cell_type": "code",
   "execution_count": 328,
   "metadata": {
    "hidden": true
   },
   "outputs": [
    {
     "data": {
      "text/plain": [
       "2.421696610985658"
      ]
     },
     "execution_count": 328,
     "metadata": {},
     "output_type": "execute_result"
    }
   ],
   "source": [
    "train[[f'MatchedHit_Tnan[{s}]' for s in [0,1,2,3]]].std(axis=1).mean() # разброс значений времени одного трека"
   ]
  },
  {
   "cell_type": "markdown",
   "metadata": {
    "hidden": true
   },
   "source": [
    "Время столкновения `MatchedHit_T` практически не зависит от номера фильтра"
   ]
  },
  {
   "cell_type": "markdown",
   "metadata": {
    "hidden": true
   },
   "source": [
    "Построим графики треков"
   ]
  },
  {
   "cell_type": "markdown",
   "metadata": {
    "hidden": true
   },
   "source": [
    "Усредненная координата Z мюонных фильтров"
   ]
  },
  {
   "cell_type": "code",
   "execution_count": 67,
   "metadata": {
    "hidden": true
   },
   "outputs": [
    {
     "data": {
      "text/plain": [
       "[15261.277528616687,\n",
       " 16467.076246876837,\n",
       " 17660.206092411867,\n",
       " 18868.303542113088]"
      ]
     },
     "execution_count": 67,
     "metadata": {},
     "output_type": "execute_result"
    }
   ],
   "source": [
    "stations_z = [train[f'MatchedHit_Znan[{s}]'].mean() for s in [0,1,2,3]]\n",
    "stations_z"
   ]
  },
  {
   "cell_type": "code",
   "execution_count": 195,
   "metadata": {
    "hidden": true
   },
   "outputs": [
    {
     "data": {
      "text/html": [
       "<div>\n",
       "<style scoped>\n",
       "    .dataframe tbody tr th:only-of-type {\n",
       "        vertical-align: middle;\n",
       "    }\n",
       "\n",
       "    .dataframe tbody tr th {\n",
       "        vertical-align: top;\n",
       "    }\n",
       "\n",
       "    .dataframe thead th {\n",
       "        text-align: right;\n",
       "    }\n",
       "</style>\n",
       "<table border=\"1\" class=\"dataframe\">\n",
       "  <thead>\n",
       "    <tr style=\"text-align: right;\">\n",
       "      <th></th>\n",
       "      <th>MatchedHit_DTnan[0]</th>\n",
       "      <th>MatchedHit_DTnan[1]</th>\n",
       "      <th>MatchedHit_DTnan[2]</th>\n",
       "      <th>MatchedHit_DTnan[3]</th>\n",
       "    </tr>\n",
       "  </thead>\n",
       "  <tbody>\n",
       "    <tr>\n",
       "      <th>0</th>\n",
       "      <td>0.0</td>\n",
       "      <td>NaN</td>\n",
       "      <td>0.0</td>\n",
       "      <td>0.0</td>\n",
       "    </tr>\n",
       "    <tr>\n",
       "      <th>1</th>\n",
       "      <td>1.0</td>\n",
       "      <td>0.0</td>\n",
       "      <td>NaN</td>\n",
       "      <td>0.0</td>\n",
       "    </tr>\n",
       "    <tr>\n",
       "      <th>2</th>\n",
       "      <td>0.0</td>\n",
       "      <td>NaN</td>\n",
       "      <td>0.0</td>\n",
       "      <td>0.0</td>\n",
       "    </tr>\n",
       "    <tr>\n",
       "      <th>3</th>\n",
       "      <td>0.0</td>\n",
       "      <td>0.0</td>\n",
       "      <td>0.0</td>\n",
       "      <td>0.0</td>\n",
       "    </tr>\n",
       "    <tr>\n",
       "      <th>4</th>\n",
       "      <td>0.0</td>\n",
       "      <td>0.0</td>\n",
       "      <td>0.0</td>\n",
       "      <td>NaN</td>\n",
       "    </tr>\n",
       "  </tbody>\n",
       "</table>\n",
       "</div>"
      ],
      "text/plain": [
       "   MatchedHit_DTnan[0]  MatchedHit_DTnan[1]  MatchedHit_DTnan[2]  \\\n",
       "0                  0.0                  NaN                  0.0   \n",
       "1                  1.0                  0.0                  NaN   \n",
       "2                  0.0                  NaN                  0.0   \n",
       "3                  0.0                  0.0                  0.0   \n",
       "4                  0.0                  0.0                  0.0   \n",
       "\n",
       "   MatchedHit_DTnan[3]  \n",
       "0                  0.0  \n",
       "1                  0.0  \n",
       "2                  0.0  \n",
       "3                  0.0  \n",
       "4                  NaN  "
      ]
     },
     "execution_count": 195,
     "metadata": {},
     "output_type": "execute_result"
    }
   ],
   "source": [
    "train_sample[[f'MatchedHit_DTnan[{s}]' for s in [0,1,2,3]]]"
   ]
  },
  {
   "cell_type": "code",
   "execution_count": 194,
   "metadata": {
    "hidden": true
   },
   "outputs": [
    {
     "data": {
      "image/png": "[encoded data removed]",
      "text/plain": [
       "<Figure size 1080x360 with 2 Axes>"
      ]
     },
     "metadata": {},
     "output_type": "display_data"
    }
   ],
   "source": [
    "train_sample = train[:5]\n",
    "\n",
    "fig, axs = plt.subplots(1,2, figsize=(15,5))\n",
    "\n",
    "plt.sca(axs[0])\n",
    "plt.grid(True)\n",
    "for (_, track) in train_sample.iterrows():\n",
    "    plt.errorbar(\n",
    "        stations_z,\n",
    "        track[[f'Lextra_Y[{s}]' for s in [0,1,2,3]]],\n",
    "        yerr=track[[f'Mextra_DY2[{s}]' for s in [0,1,2,3]]]**0.5,\n",
    "        color='black', ecolor='blue', linestyle='--'\n",
    "    )\n",
    "    plt.errorbar(\n",
    "        x=stations_z,\n",
    "        y=track[[f'MatchedHit_Ynan[{s}]' for s in [0,1,2,3]]].fillna(method='ffill'),\n",
    "        yerr=track[[f'MatchedHit_DYnan[{s}]' for s in [0,1,2,3]]].fillna(method='ffill'),\n",
    "        xerr=track[[f'MatchedHit_DZnan[{s}]' for s in [0,1,2,3]]].fillna(method='ffill'), \n",
    "        color='green', ecolor='red'\n",
    "    )\n",
    "\n",
    "plt.sca(axs[1])\n",
    "plt.grid(True)\n",
    "for (_, track) in train_sample.iterrows():\n",
    "    plt.errorbar(\n",
    "        x=stations_z,\n",
    "        y=track[[f'MatchedHit_Tnan[{s}]' for s in [0,1,2,3]]].fillna(method='ffill'),\n",
    "        yerr=track[[f'MatchedHit_DTnan[{s}]' for s in [0,1,2,3]]].fillna(method='ffill'),\n",
    "        xerr=track[[f'MatchedHit_DZnan[{s}]' for s in [0,1,2,3]]].fillna(method='ffill'), \n",
    "        color='green', ecolor='red'\n",
    "    )\n"
   ]
  },
  {
   "cell_type": "markdown",
   "metadata": {
    "hidden": true
   },
   "source": [
    "Видно, что часть треков плохо согласуется с экстраполированными траекториями.  \n",
    "Признаки `Lextra_X[0,1,2,3]` и `Lextra_Y[0,1,2,3]` линейно зависимы"
   ]
  },
  {
   "cell_type": "code",
   "execution_count": 191,
   "metadata": {
    "hidden": true
   },
   "outputs": [
    {
     "data": {
      "text/html": [
       "<div>\n",
       "<style scoped>\n",
       "    .dataframe tbody tr th:only-of-type {\n",
       "        vertical-align: middle;\n",
       "    }\n",
       "\n",
       "    .dataframe tbody tr th {\n",
       "        vertical-align: top;\n",
       "    }\n",
       "\n",
       "    .dataframe thead th {\n",
       "        text-align: right;\n",
       "    }\n",
       "</style>\n",
       "<table border=\"1\" class=\"dataframe\">\n",
       "  <thead>\n",
       "    <tr style=\"text-align: right;\">\n",
       "      <th></th>\n",
       "      <th>Lextra_Y[0]</th>\n",
       "      <th>Lextra_Y[1]</th>\n",
       "      <th>Lextra_Y[2]</th>\n",
       "      <th>Lextra_Y[3]</th>\n",
       "    </tr>\n",
       "  </thead>\n",
       "  <tbody>\n",
       "    <tr>\n",
       "      <th>256701</th>\n",
       "      <td>0.068076</td>\n",
       "      <td>0.068036</td>\n",
       "      <td>0.068051</td>\n",
       "      <td>0.068010</td>\n",
       "    </tr>\n",
       "    <tr>\n",
       "      <th>168436</th>\n",
       "      <td>0.065231</td>\n",
       "      <td>0.065183</td>\n",
       "      <td>0.065188</td>\n",
       "      <td>0.065141</td>\n",
       "    </tr>\n",
       "    <tr>\n",
       "      <th>2934</th>\n",
       "      <td>-0.075774</td>\n",
       "      <td>-0.075434</td>\n",
       "      <td>-0.075194</td>\n",
       "      <td>-0.074926</td>\n",
       "    </tr>\n",
       "    <tr>\n",
       "      <th>349544</th>\n",
       "      <td>0.028189</td>\n",
       "      <td>0.028187</td>\n",
       "      <td>0.028205</td>\n",
       "      <td>0.028198</td>\n",
       "    </tr>\n",
       "    <tr>\n",
       "      <th>275781</th>\n",
       "      <td>0.062378</td>\n",
       "      <td>0.062329</td>\n",
       "      <td>0.062330</td>\n",
       "      <td>0.062283</td>\n",
       "    </tr>\n",
       "  </tbody>\n",
       "</table>\n",
       "</div>"
      ],
      "text/plain": [
       "        Lextra_Y[0]  Lextra_Y[1]  Lextra_Y[2]  Lextra_Y[3]\n",
       "256701     0.068076     0.068036     0.068051     0.068010\n",
       "168436     0.065231     0.065183     0.065188     0.065141\n",
       "2934      -0.075774    -0.075434    -0.075194    -0.074926\n",
       "349544     0.028189     0.028187     0.028205     0.028198\n",
       "275781     0.062378     0.062329     0.062330     0.062283"
      ]
     },
     "execution_count": 191,
     "metadata": {},
     "output_type": "execute_result"
    }
   ],
   "source": [
    "k=train[[f'Lextra_Y[{s}]' for s in [0,1,2,3]]]/stations_z\n",
    "k.sample(5)"
   ]
  },
  {
   "cell_type": "markdown",
   "metadata": {
    "hidden": true
   },
   "source": [
    "Вычислим радиусы столкновений"
   ]
  },
  {
   "cell_type": "code",
   "execution_count": 201,
   "metadata": {
    "hidden": true
   },
   "outputs": [],
   "source": [
    "for stage in [0,1,2,3]:\n",
    "    train[f'MatchedHit_R[{stage}]'] = np.sqrt(train[f'MatchedHit_Xnan[{stage}]']**2 + train[f'MatchedHit_Ynan[{stage}]']**2)"
   ]
  },
  {
   "cell_type": "code",
   "execution_count": 279,
   "metadata": {
    "hidden": true
   },
   "outputs": [
    {
     "data": {
      "image/png": "[encoded data removed]",
      "text/plain": [
       "<Figure size 432x288 with 1 Axes>"
      ]
     },
     "metadata": {},
     "output_type": "display_data"
    }
   ],
   "source": [
    "for s in [0,1,2,3]:\n",
    "    train[f'MatchedHit_R[{s}]'].hist(alpha=0.5)"
   ]
  },
  {
   "cell_type": "code",
   "execution_count": 202,
   "metadata": {
    "hidden": true
   },
   "outputs": [
    {
     "data": {
      "text/plain": [
       "MatchedHit_R[0]    1709.323312\n",
       "MatchedHit_R[1]    1850.243229\n",
       "MatchedHit_R[2]    1993.512828\n",
       "MatchedHit_R[3]    2113.150310\n",
       "dtype: float64"
      ]
     },
     "execution_count": 202,
     "metadata": {},
     "output_type": "execute_result"
    }
   ],
   "source": [
    "train[[f'MatchedHit_R[{s}]' for s in [0,1,2,3]]].mean()"
   ]
  },
  {
   "cell_type": "code",
   "execution_count": 197,
   "metadata": {
    "hidden": true
   },
   "outputs": [],
   "source": [
    "for stage in [0,1,2,3]:\n",
    "    train[f'Lextra_R[{stage}]'] = np.sqrt(train[f'Lextra_X[{stage}]']**2 + train[f'Lextra_Y[{stage}]']**2)"
   ]
  },
  {
   "cell_type": "code",
   "execution_count": 203,
   "metadata": {
    "hidden": true
   },
   "outputs": [
    {
     "data": {
      "image/png": "[encoded data removed]",
      "text/plain": [
       "<Figure size 432x288 with 1 Axes>"
      ]
     },
     "metadata": {},
     "output_type": "display_data"
    }
   ],
   "source": [
    "for s in [0,1,2,3]:\n",
    "    train[f'Lextra_R[{s}]'].hist(alpha=0.5)"
   ]
  },
  {
   "cell_type": "code",
   "execution_count": 204,
   "metadata": {
    "hidden": true
   },
   "outputs": [
    {
     "data": {
      "text/plain": [
       "Lextra_R[0]    1710.987549\n",
       "Lextra_R[1]    1853.103394\n",
       "Lextra_R[2]    1995.921875\n",
       "Lextra_R[3]    2139.210938\n",
       "dtype: float32"
      ]
     },
     "execution_count": 204,
     "metadata": {},
     "output_type": "execute_result"
    }
   ],
   "source": [
    "train[[f'Lextra_R[{s}]' for s in [0,1,2,3]]].mean()"
   ]
  },
  {
   "cell_type": "markdown",
   "metadata": {
    "hidden": true
   },
   "source": [
    "Среднее отлонение столкновения от оси закономерно увеличивается с увеличением номера фильтра"
   ]
  },
  {
   "cell_type": "markdown",
   "metadata": {
    "hidden": true
   },
   "source": [
    "Посчитаем отклонение радиусов столкновений от ожидаемых"
   ]
  },
  {
   "cell_type": "code",
   "execution_count": 205,
   "metadata": {
    "hidden": true
   },
   "outputs": [],
   "source": [
    "for stage in [0,1,2,3]:\n",
    "    train[f'DR[{stage}]'] = (train[f'Lextra_R[{stage}]']-train[f'MatchedHit_R[{stage}]']).abs()"
   ]
  },
  {
   "cell_type": "code",
   "execution_count": 213,
   "metadata": {
    "hidden": true
   },
   "outputs": [
    {
     "data": {
      "text/plain": [
       "(1.5516493874188542, 376.228961796714)"
      ]
     },
     "execution_count": 213,
     "metadata": {},
     "output_type": "execute_result"
    }
   ],
   "source": [
    "confint(train[f'DR[{stage}]'].fillna(method='ffill').values)"
   ]
  },
  {
   "cell_type": "code",
   "execution_count": 220,
   "metadata": {
    "hidden": true
   },
   "outputs": [
    {
     "data": {
      "image/png": "[encoded data removed]",
      "text/plain": [
       "<Figure size 432x288 with 1 Axes>"
      ]
     },
     "metadata": {},
     "output_type": "display_data"
    }
   ],
   "source": [
    "for s in [0,1,2,3]:\n",
    "    train[f'DR[{s}]'][train[f'DR[{s}]']<370].hist(alpha=0.5)"
   ]
  },
  {
   "cell_type": "code",
   "execution_count": 222,
   "metadata": {
    "hidden": true
   },
   "outputs": [
    {
     "data": {
      "text/plain": [
       "DR[0]    35.992125\n",
       "DR[1]    46.202497\n",
       "DR[2]    57.638834\n",
       "DR[3]    82.346044\n",
       "dtype: float64"
      ]
     },
     "execution_count": 222,
     "metadata": {},
     "output_type": "execute_result"
    }
   ],
   "source": [
    "train[[f'DR[{s}]' for s in [0,1,2,3]]].mean()"
   ]
  },
  {
   "cell_type": "markdown",
   "metadata": {
    "hidden": true
   },
   "source": [
    "Посчитаем ожидаемую неопределенность радиуса столкновения `MatchedHit_DR`"
   ]
  },
  {
   "cell_type": "code",
   "execution_count": 223,
   "metadata": {
    "hidden": true
   },
   "outputs": [],
   "source": [
    "for stage in [0,1,2,3]:\n",
    "    train[f'MatchedHit_DR[{stage}]'] = np.sqrt(train[f'MatchedHit_DXnan[{stage}]']**2 + train[f'MatchedHit_DYnan[{stage}]']**2)"
   ]
  },
  {
   "cell_type": "code",
   "execution_count": 225,
   "metadata": {
    "hidden": true
   },
   "outputs": [
    {
     "data": {
      "text/plain": [
       "(25.063714271993646, 200.74591636735474)"
      ]
     },
     "execution_count": 225,
     "metadata": {},
     "output_type": "execute_result"
    }
   ],
   "source": [
    "confint(train[f'MatchedHit_DR[{stage}]'].fillna(method='ffill').values)"
   ]
  },
  {
   "cell_type": "code",
   "execution_count": 226,
   "metadata": {
    "hidden": true
   },
   "outputs": [
    {
     "data": {
      "image/png": "[encoded data removed]",
      "text/plain": [
       "<Figure size 432x288 with 1 Axes>"
      ]
     },
     "metadata": {},
     "output_type": "display_data"
    }
   ],
   "source": [
    "for s in [0,1,2,3]:\n",
    "    train[f'MatchedHit_DR[{s}]'][train[f'MatchedHit_DR[{s}]']<200].hist(alpha=0.5)"
   ]
  },
  {
   "cell_type": "code",
   "execution_count": 227,
   "metadata": {
    "hidden": true
   },
   "outputs": [
    {
     "data": {
      "text/plain": [
       "MatchedHit_DR[0]     66.077985\n",
       "MatchedHit_DR[1]     70.610438\n",
       "MatchedHit_DR[2]     92.962698\n",
       "MatchedHit_DR[3]    100.119848\n",
       "dtype: float64"
      ]
     },
     "execution_count": 227,
     "metadata": {},
     "output_type": "execute_result"
    }
   ],
   "source": [
    "train[[f'MatchedHit_DR[{s}]' for s in [0,1,2,3]]].mean()"
   ]
  },
  {
   "cell_type": "markdown",
   "metadata": {
    "hidden": true
   },
   "source": [
    "Посчитаем ожидаемую неопределенность радиуса столкновения `Mextra_DR`"
   ]
  },
  {
   "cell_type": "code",
   "execution_count": 229,
   "metadata": {
    "hidden": true
   },
   "outputs": [],
   "source": [
    "for stage in [0,1,2,3]:\n",
    "    train[f'Mextra_DR[{stage}]'] = np.sqrt(train[f'Mextra_DX2[{stage}]'] + train[f'Mextra_DY2[{stage}]'])"
   ]
  },
  {
   "cell_type": "code",
   "execution_count": 231,
   "metadata": {
    "hidden": true
   },
   "outputs": [
    {
     "data": {
      "text/plain": [
       "(9.153242754936219, 273.7830268859865)"
      ]
     },
     "execution_count": 231,
     "metadata": {},
     "output_type": "execute_result"
    }
   ],
   "source": [
    "confint(train[f'Mextra_DR[{stage}]'].fillna(method='ffill').values)"
   ]
  },
  {
   "cell_type": "code",
   "execution_count": 232,
   "metadata": {
    "hidden": true
   },
   "outputs": [
    {
     "data": {
      "image/png": "[encoded data removed]",
      "text/plain": [
       "<Figure size 432x288 with 1 Axes>"
      ]
     },
     "metadata": {},
     "output_type": "display_data"
    }
   ],
   "source": [
    "for s in [0,1,2,3]:\n",
    "    train[f'Mextra_DR[{s}]'][train[f'Mextra_DR[{s}]']<270].hist(alpha=0.5)"
   ]
  },
  {
   "cell_type": "code",
   "execution_count": 233,
   "metadata": {
    "hidden": true
   },
   "outputs": [
    {
     "data": {
      "text/plain": [
       "Mextra_DR[0]    21.295521\n",
       "Mextra_DR[1]    36.470898\n",
       "Mextra_DR[2]    55.248318\n",
       "Mextra_DR[3]    77.673393\n",
       "dtype: float32"
      ]
     },
     "execution_count": 233,
     "metadata": {},
     "output_type": "execute_result"
    }
   ],
   "source": [
    "train[[f'Mextra_DR[{s}]' for s in [0,1,2,3]]].mean()"
   ]
  },
  {
   "cell_type": "markdown",
   "metadata": {
    "hidden": true
   },
   "source": [
    "Введем флаг превышения отклонения радиуса над ожидаемой неопределенностью"
   ]
  },
  {
   "cell_type": "code",
   "execution_count": 235,
   "metadata": {
    "hidden": true
   },
   "outputs": [],
   "source": [
    "for stage in [0,1,2,3]:\n",
    "    train[f'DR_Flag[{stage}]'] = train[f'DR[{stage}]'] > train[f'MatchedHit_DR[{stage}]'] + train[f'Mextra_DR[{stage}]']"
   ]
  },
  {
   "cell_type": "code",
   "execution_count": 348,
   "metadata": {
    "hidden": true
   },
   "outputs": [],
   "source": [
    "for stage in [0,1,2,3]:\n",
    "    train[f'DR_Flag1[{stage}]'] = train[f'DR[{stage}]'] > train[f'Mextra_DR[{stage}]']"
   ]
  },
  {
   "cell_type": "code",
   "execution_count": 243,
   "metadata": {
    "hidden": true
   },
   "outputs": [
    {
     "data": {
      "text/html": [
       "<div>\n",
       "<style scoped>\n",
       "    .dataframe tbody tr th:only-of-type {\n",
       "        vertical-align: middle;\n",
       "    }\n",
       "\n",
       "    .dataframe tbody tr th {\n",
       "        vertical-align: top;\n",
       "    }\n",
       "\n",
       "    .dataframe thead th {\n",
       "        text-align: right;\n",
       "    }\n",
       "</style>\n",
       "<table border=\"1\" class=\"dataframe\">\n",
       "  <thead>\n",
       "    <tr style=\"text-align: right;\">\n",
       "      <th></th>\n",
       "      <th>DR_Flag[0]</th>\n",
       "      <th>DR_Flag[1]</th>\n",
       "      <th>DR_Flag[2]</th>\n",
       "      <th>DR_Flag[3]</th>\n",
       "    </tr>\n",
       "  </thead>\n",
       "  <tbody>\n",
       "    <tr>\n",
       "      <th>False</th>\n",
       "      <td>520026</td>\n",
       "      <td>516270</td>\n",
       "      <td>519276</td>\n",
       "      <td>510985</td>\n",
       "    </tr>\n",
       "    <tr>\n",
       "      <th>True</th>\n",
       "      <td>24544</td>\n",
       "      <td>28300</td>\n",
       "      <td>25294</td>\n",
       "      <td>33585</td>\n",
       "    </tr>\n",
       "  </tbody>\n",
       "</table>\n",
       "</div>"
      ],
      "text/plain": [
       "       DR_Flag[0]  DR_Flag[1]  DR_Flag[2]  DR_Flag[3]\n",
       "False      520026      516270      519276      510985\n",
       "True        24544       28300       25294       33585"
      ]
     },
     "execution_count": 243,
     "metadata": {},
     "output_type": "execute_result"
    }
   ],
   "source": [
    "train[[f'DR_Flag[{s}]' for s in [0,1,2,3]]].apply(pd.Series.value_counts)"
   ]
  },
  {
   "cell_type": "markdown",
   "metadata": {
    "hidden": true
   },
   "source": [
    "Добавим отклонения по осям"
   ]
  },
  {
   "cell_type": "code",
   "execution_count": 335,
   "metadata": {
    "hidden": true
   },
   "outputs": [],
   "source": [
    "for stage in [0,1,2,3]:\n",
    "    for ax in ['X', 'Y']:\n",
    "        train[f'D{ax}[{stage}]'] = train[f'MatchedHit_{ax}[{stage}]'] - train[f'Lextra_{ax}[{stage}]']"
   ]
  },
  {
   "cell_type": "code",
   "execution_count": 399,
   "metadata": {
    "hidden": true
   },
   "outputs": [
    {
     "data": {
      "image/png": "[encoded data removed]",
      "text/plain": [
       "<Figure size 432x288 with 1 Axes>"
      ]
     },
     "metadata": {},
     "output_type": "display_data"
    }
   ],
   "source": [
    "for s in [0,1,2,3]:\n",
    "    train[f'DX[{s}]'][train[f'DX[{s}]'].abs()<500].hist(alpha=0.5)"
   ]
  },
  {
   "cell_type": "markdown",
   "metadata": {
    "hidden": true
   },
   "source": [
    "Добавим разность неопределенностей по осям"
   ]
  },
  {
   "cell_type": "code",
   "execution_count": 346,
   "metadata": {
    "hidden": true
   },
   "outputs": [],
   "source": [
    "for stage in [0,1,2,3]:\n",
    "    for ax in ['X', 'Y']:\n",
    "        train[f'D_D{ax}[{stage}]'] = train[f'MatchedHit_D{ax}[{stage}]'] - np.sqrt(train[f'Mextra_D{ax}2[{stage}]'])"
   ]
  },
  {
   "cell_type": "code",
   "execution_count": 413,
   "metadata": {
    "hidden": true
   },
   "outputs": [
    {
     "data": {
      "image/png": "[encoded data removed]",
      "text/plain": [
       "<Figure size 432x288 with 1 Axes>"
      ]
     },
     "metadata": {},
     "output_type": "display_data"
    }
   ],
   "source": [
    "for s in [0,1,2,3]:\n",
    "    train[f'D_DX[{s}]'][train[f'D_DX[{s}]'].abs()<200].hist(alpha=0.5)"
   ]
  },
  {
   "cell_type": "markdown",
   "metadata": {
    "hidden": true
   },
   "source": [
    "Добавим разности между фильтами"
   ]
  },
  {
   "cell_type": "code",
   "execution_count": 464,
   "metadata": {
    "hidden": true
   },
   "outputs": [],
   "source": [
    "for stage1 in [0,1,2,3]:\n",
    "    for stage2 in range(stage1+1, 4):\n",
    "        for ax in ['X', 'Y', 'Z', 'R']:\n",
    "            train[f'{ax}[{stage2}-{stage1}]'] = train[f'MatchedHit_{ax}[{stage2}]'] - train[f'MatchedHit_{ax}[{stage1}]']"
   ]
  },
  {
   "cell_type": "markdown",
   "metadata": {
    "heading_collapsed": true
   },
   "source": [
    "#### FOI_COLUMNS"
   ]
  },
  {
   "cell_type": "code",
   "execution_count": 5,
   "metadata": {
    "hidden": true
   },
   "outputs": [
    {
     "data": {
      "text/plain": [
       "['FOI_hits_X',\n",
       " 'FOI_hits_Y',\n",
       " 'FOI_hits_T',\n",
       " 'FOI_hits_Z',\n",
       " 'FOI_hits_DX',\n",
       " 'FOI_hits_DY',\n",
       " 'FOI_hits_DZ',\n",
       " 'FOI_hits_DT',\n",
       " 'FOI_hits_S']"
      ]
     },
     "execution_count": 5,
     "metadata": {},
     "output_type": "execute_result"
    }
   ],
   "source": [
    "utils.FOI_COLUMNS"
   ]
  },
  {
   "cell_type": "code",
   "execution_count": 75,
   "metadata": {
    "hidden": true
   },
   "outputs": [
    {
     "data": {
      "text/plain": [
       "False"
      ]
     },
     "execution_count": 75,
     "metadata": {},
     "output_type": "execute_result"
    }
   ],
   "source": [
    "# проверка на пропущенные значения\n",
    "any([any(X==-9999) for X in train['FOI_hits_X']])"
   ]
  },
  {
   "cell_type": "code",
   "execution_count": 376,
   "metadata": {
    "hidden": true
   },
   "outputs": [],
   "source": [
    "df1 = pd.DataFrame([[1,2,3], [4,5,6]], index=[1,2], columns=list('abc'))\n",
    "df2 = pd.DataFrame([[10,20,30], [40,50,60]], index=[1,20], columns=list('cde'))"
   ]
  },
  {
   "cell_type": "code",
   "execution_count": 406,
   "metadata": {
    "hidden": true
   },
   "outputs": [
    {
     "data": {
      "text/html": [
       "<div>\n",
       "<style scoped>\n",
       "    .dataframe tbody tr th:only-of-type {\n",
       "        vertical-align: middle;\n",
       "    }\n",
       "\n",
       "    .dataframe tbody tr th {\n",
       "        vertical-align: top;\n",
       "    }\n",
       "\n",
       "    .dataframe thead th {\n",
       "        text-align: right;\n",
       "    }\n",
       "</style>\n",
       "<table border=\"1\" class=\"dataframe\">\n",
       "  <thead>\n",
       "    <tr style=\"text-align: right;\">\n",
       "      <th></th>\n",
       "      <th>a</th>\n",
       "      <th>b</th>\n",
       "      <th>c</th>\n",
       "      <th>cr</th>\n",
       "      <th>d</th>\n",
       "      <th>e</th>\n",
       "    </tr>\n",
       "  </thead>\n",
       "  <tbody>\n",
       "    <tr>\n",
       "      <th>1</th>\n",
       "      <td>1.0</td>\n",
       "      <td>2.0</td>\n",
       "      <td>3.0</td>\n",
       "      <td>10.0</td>\n",
       "      <td>20.0</td>\n",
       "      <td>30.0</td>\n",
       "    </tr>\n",
       "    <tr>\n",
       "      <th>2</th>\n",
       "      <td>4.0</td>\n",
       "      <td>5.0</td>\n",
       "      <td>6.0</td>\n",
       "      <td>NaN</td>\n",
       "      <td>NaN</td>\n",
       "      <td>NaN</td>\n",
       "    </tr>\n",
       "    <tr>\n",
       "      <th>20</th>\n",
       "      <td>NaN</td>\n",
       "      <td>NaN</td>\n",
       "      <td>NaN</td>\n",
       "      <td>40.0</td>\n",
       "      <td>50.0</td>\n",
       "      <td>60.0</td>\n",
       "    </tr>\n",
       "  </tbody>\n",
       "</table>\n",
       "</div>"
      ],
      "text/plain": [
       "      a    b    c    cr     d     e\n",
       "1   1.0  2.0  3.0  10.0  20.0  30.0\n",
       "2   4.0  5.0  6.0   NaN   NaN   NaN\n",
       "20  NaN  NaN  NaN  40.0  50.0  60.0"
      ]
     },
     "execution_count": 406,
     "metadata": {},
     "output_type": "execute_result"
    }
   ],
   "source": [
    "df1.join(df2, how='outer', rsuffix='r')"
   ]
  },
  {
   "cell_type": "code",
   "execution_count": 394,
   "metadata": {
    "hidden": true
   },
   "outputs": [
    {
     "data": {
      "text/html": [
       "<div>\n",
       "<style scoped>\n",
       "    .dataframe tbody tr th:only-of-type {\n",
       "        vertical-align: middle;\n",
       "    }\n",
       "\n",
       "    .dataframe tbody tr th {\n",
       "        vertical-align: top;\n",
       "    }\n",
       "\n",
       "    .dataframe thead th {\n",
       "        text-align: right;\n",
       "    }\n",
       "</style>\n",
       "<table border=\"1\" class=\"dataframe\">\n",
       "  <thead>\n",
       "    <tr style=\"text-align: right;\">\n",
       "      <th></th>\n",
       "      <th>a</th>\n",
       "      <th>b</th>\n",
       "      <th>c</th>\n",
       "      <th>d</th>\n",
       "      <th>e</th>\n",
       "    </tr>\n",
       "  </thead>\n",
       "  <tbody>\n",
       "    <tr>\n",
       "      <th>1</th>\n",
       "      <td>1.0</td>\n",
       "      <td>2.0</td>\n",
       "      <td>3</td>\n",
       "      <td>NaN</td>\n",
       "      <td>NaN</td>\n",
       "    </tr>\n",
       "    <tr>\n",
       "      <th>2</th>\n",
       "      <td>4.0</td>\n",
       "      <td>5.0</td>\n",
       "      <td>6</td>\n",
       "      <td>NaN</td>\n",
       "      <td>NaN</td>\n",
       "    </tr>\n",
       "    <tr>\n",
       "      <th>1</th>\n",
       "      <td>NaN</td>\n",
       "      <td>NaN</td>\n",
       "      <td>10</td>\n",
       "      <td>20.0</td>\n",
       "      <td>30.0</td>\n",
       "    </tr>\n",
       "    <tr>\n",
       "      <th>20</th>\n",
       "      <td>NaN</td>\n",
       "      <td>NaN</td>\n",
       "      <td>40</td>\n",
       "      <td>50.0</td>\n",
       "      <td>60.0</td>\n",
       "    </tr>\n",
       "  </tbody>\n",
       "</table>\n",
       "</div>"
      ],
      "text/plain": [
       "      a    b   c     d     e\n",
       "1   1.0  2.0   3   NaN   NaN\n",
       "2   4.0  5.0   6   NaN   NaN\n",
       "1   NaN  NaN  10  20.0  30.0\n",
       "20  NaN  NaN  40  50.0  60.0"
      ]
     },
     "execution_count": 394,
     "metadata": {},
     "output_type": "execute_result"
    }
   ],
   "source": [
    "df1.append(df2, sort=True)"
   ]
  },
  {
   "cell_type": "code",
   "execution_count": 405,
   "metadata": {
    "hidden": true
   },
   "outputs": [
    {
     "data": {
      "text/html": [
       "<div>\n",
       "<style scoped>\n",
       "    .dataframe tbody tr th:only-of-type {\n",
       "        vertical-align: middle;\n",
       "    }\n",
       "\n",
       "    .dataframe tbody tr th {\n",
       "        vertical-align: top;\n",
       "    }\n",
       "\n",
       "    .dataframe thead th {\n",
       "        text-align: right;\n",
       "    }\n",
       "</style>\n",
       "<table border=\"1\" class=\"dataframe\">\n",
       "  <thead>\n",
       "    <tr style=\"text-align: right;\">\n",
       "      <th></th>\n",
       "      <th>a</th>\n",
       "      <th>b</th>\n",
       "      <th>c_x</th>\n",
       "      <th>c_y</th>\n",
       "      <th>d</th>\n",
       "      <th>e</th>\n",
       "    </tr>\n",
       "  </thead>\n",
       "  <tbody>\n",
       "    <tr>\n",
       "      <th>1</th>\n",
       "      <td>1.0</td>\n",
       "      <td>2.0</td>\n",
       "      <td>3.0</td>\n",
       "      <td>10.0</td>\n",
       "      <td>20.0</td>\n",
       "      <td>30.0</td>\n",
       "    </tr>\n",
       "    <tr>\n",
       "      <th>2</th>\n",
       "      <td>4.0</td>\n",
       "      <td>5.0</td>\n",
       "      <td>6.0</td>\n",
       "      <td>NaN</td>\n",
       "      <td>NaN</td>\n",
       "      <td>NaN</td>\n",
       "    </tr>\n",
       "    <tr>\n",
       "      <th>20</th>\n",
       "      <td>NaN</td>\n",
       "      <td>NaN</td>\n",
       "      <td>NaN</td>\n",
       "      <td>40.0</td>\n",
       "      <td>50.0</td>\n",
       "      <td>60.0</td>\n",
       "    </tr>\n",
       "  </tbody>\n",
       "</table>\n",
       "</div>"
      ],
      "text/plain": [
       "      a    b  c_x   c_y     d     e\n",
       "1   1.0  2.0  3.0  10.0  20.0  30.0\n",
       "2   4.0  5.0  6.0   NaN   NaN   NaN\n",
       "20  NaN  NaN  NaN  40.0  50.0  60.0"
      ]
     },
     "execution_count": 405,
     "metadata": {},
     "output_type": "execute_result"
    }
   ],
   "source": [
    "df1.merge(df2, how='outer', left_index=True, right_index=True)"
   ]
  },
  {
   "cell_type": "code",
   "execution_count": 395,
   "metadata": {
    "hidden": true
   },
   "outputs": [
    {
     "data": {
      "text/html": [
       "<div>\n",
       "<style scoped>\n",
       "    .dataframe tbody tr th:only-of-type {\n",
       "        vertical-align: middle;\n",
       "    }\n",
       "\n",
       "    .dataframe tbody tr th {\n",
       "        vertical-align: top;\n",
       "    }\n",
       "\n",
       "    .dataframe thead th {\n",
       "        text-align: right;\n",
       "    }\n",
       "</style>\n",
       "<table border=\"1\" class=\"dataframe\">\n",
       "  <thead>\n",
       "    <tr style=\"text-align: right;\">\n",
       "      <th></th>\n",
       "      <th>a</th>\n",
       "      <th>b</th>\n",
       "      <th>c</th>\n",
       "      <th>d</th>\n",
       "      <th>e</th>\n",
       "    </tr>\n",
       "  </thead>\n",
       "  <tbody>\n",
       "    <tr>\n",
       "      <th>1</th>\n",
       "      <td>1.0</td>\n",
       "      <td>2.0</td>\n",
       "      <td>3</td>\n",
       "      <td>NaN</td>\n",
       "      <td>NaN</td>\n",
       "    </tr>\n",
       "    <tr>\n",
       "      <th>2</th>\n",
       "      <td>4.0</td>\n",
       "      <td>5.0</td>\n",
       "      <td>6</td>\n",
       "      <td>NaN</td>\n",
       "      <td>NaN</td>\n",
       "    </tr>\n",
       "    <tr>\n",
       "      <th>1</th>\n",
       "      <td>NaN</td>\n",
       "      <td>NaN</td>\n",
       "      <td>10</td>\n",
       "      <td>20.0</td>\n",
       "      <td>30.0</td>\n",
       "    </tr>\n",
       "    <tr>\n",
       "      <th>20</th>\n",
       "      <td>NaN</td>\n",
       "      <td>NaN</td>\n",
       "      <td>40</td>\n",
       "      <td>50.0</td>\n",
       "      <td>60.0</td>\n",
       "    </tr>\n",
       "  </tbody>\n",
       "</table>\n",
       "</div>"
      ],
      "text/plain": [
       "      a    b   c     d     e\n",
       "1   1.0  2.0   3   NaN   NaN\n",
       "2   4.0  5.0   6   NaN   NaN\n",
       "1   NaN  NaN  10  20.0  30.0\n",
       "20  NaN  NaN  40  50.0  60.0"
      ]
     },
     "execution_count": 395,
     "metadata": {},
     "output_type": "execute_result"
    }
   ],
   "source": [
    "pd.concat([df1, df2], sort=True)"
   ]
  },
  {
   "cell_type": "code",
   "execution_count": 85,
   "metadata": {
    "hidden": true
   },
   "outputs": [
    {
     "data": {
      "text/plain": [
       "2897.623"
      ]
     },
     "execution_count": 85,
     "metadata": {},
     "output_type": "execute_result"
    }
   ],
   "source": [
    "train.iloc[0][f'Mextra_DX2[0]']"
   ]
  },
  {
   "cell_type": "code",
   "execution_count": 99,
   "metadata": {
    "hidden": true
   },
   "outputs": [
    {
     "data": {
      "text/plain": [
       "array([0.6437442 , 0.5300128 , 1.9970778 , 5.465643  , 0.5252785 ,\n",
       "       0.44330624, 0.3537038 , 4.236393  , 0.5345869 , 0.46503344,\n",
       "       1.075285  , 4.799258  ], dtype=float32)"
      ]
     },
     "execution_count": 99,
     "metadata": {},
     "output_type": "execute_result"
    }
   ],
   "source": [
    "utils.find_closest_hit_per_station_fast(train.iloc[0])"
   ]
  },
  {
   "cell_type": "code",
   "execution_count": 315,
   "metadata": {
    "hidden": true
   },
   "outputs": [
    {
     "data": {
      "text/plain": [
       "array([1.4702618e+03, 2.6683176e+03, 1.4108827e+05, 1.4688200e+06,\n",
       "       5.1748984e+03, 5.3152500e+03, 5.2785405e+03, 8.9578600e+05,\n",
       "       3.0000000e+00, 1.5000000e+01, 6.0000000e+00, 1.0000000e+01,\n",
       "       1.5328678e+04, 1.6533623e+04, 1.7727174e+04, 1.8815875e+04,\n",
       "       2.5500000e+01, 2.7500000e+01, 1.1800000e+02, 6.3000000e+01,\n",
       "       1.2627855e+02, 1.3627849e+02, 1.4627841e+02, 7.8078857e+01],\n",
       "      dtype=float32)"
      ]
     },
     "execution_count": 315,
     "metadata": {},
     "output_type": "execute_result"
    }
   ],
   "source": [
    "utils.find_closest_hit_per_station(train.iloc[0])"
   ]
  },
  {
   "cell_type": "code",
   "execution_count": 100,
   "metadata": {
    "hidden": true
   },
   "outputs": [
    {
     "name": "stdout",
     "output_type": "stream",
     "text": [
      "Wall time: 5.99 s\n"
     ]
    }
   ],
   "source": [
    "%%time\n",
    "for (i, row) in train.iloc[:10000].iterrows():\n",
    "    utils.find_closest_hit_per_station_fast(row)"
   ]
  },
  {
   "cell_type": "code",
   "execution_count": 320,
   "metadata": {
    "hidden": true
   },
   "outputs": [
    {
     "name": "stdout",
     "output_type": "stream",
     "text": [
      "Wall time: 11.4 s\n"
     ]
    }
   ],
   "source": [
    "%%time\n",
    "for (i, row) in train.iloc[:10000].iterrows():\n",
    "    utils.find_closest_hit_per_station(row)"
   ]
  },
  {
   "cell_type": "code",
   "execution_count": 408,
   "metadata": {
    "hidden": true
   },
   "outputs": [
    {
     "data": {
      "application/vnd.jupyter.widget-view+json": {
       "model_id": "b83bc4af2d4e4ffbab861cf4f432fc4a",
       "version_major": 2,
       "version_minor": 0
      },
      "text/plain": [
       "HBox(children=(IntProgress(value=0, max=1000), HTML(value='')))"
      ]
     },
     "metadata": {},
     "output_type": "display_data"
    },
    {
     "name": "stdout",
     "output_type": "stream",
     "text": [
      "Wall time: 550 ms\n"
     ]
    }
   ],
   "source": [
    "%%time\n",
    "foi_df = train.iloc[:1000].progress_apply(\n",
    "    utils.find_closest_hit_per_station_fast, result_type=\"expand\", axis=1)"
   ]
  },
  {
   "cell_type": "code",
   "execution_count": 372,
   "metadata": {
    "hidden": true
   },
   "outputs": [],
   "source": [
    "foi_df.columns = (\n",
    "    [f'closest_x_per_station[{s}]' for s in [0,1,2,3]] +\n",
    "    [f'closest_y_per_station[{s}]' for s in [0,1,2,3]] +\n",
    "    [f'closest_T_per_station[{s}]' for s in [0,1,2,3]] +\n",
    "    [f'closest_z_per_station[{s}]' for s in [0,1,2,3]] +\n",
    "    [f'closest_dx_per_station[{s}]' for s in [0,1,2,3]] +\n",
    "    [f'closest_dy_per_station[{s}]' for s in [0,1,2,3]]  \n",
    ")"
   ]
  },
  {
   "cell_type": "code",
   "execution_count": 373,
   "metadata": {
    "hidden": true
   },
   "outputs": [
    {
     "data": {
      "text/html": [
       "<div>\n",
       "<style scoped>\n",
       "    .dataframe tbody tr th:only-of-type {\n",
       "        vertical-align: middle;\n",
       "    }\n",
       "\n",
       "    .dataframe tbody tr th {\n",
       "        vertical-align: top;\n",
       "    }\n",
       "\n",
       "    .dataframe thead th {\n",
       "        text-align: right;\n",
       "    }\n",
       "</style>\n",
       "<table border=\"1\" class=\"dataframe\">\n",
       "  <thead>\n",
       "    <tr style=\"text-align: right;\">\n",
       "      <th></th>\n",
       "      <th>closest_x_per_station[0]</th>\n",
       "      <th>closest_x_per_station[1]</th>\n",
       "      <th>closest_x_per_station[2]</th>\n",
       "      <th>closest_x_per_station[3]</th>\n",
       "      <th>closest_y_per_station[0]</th>\n",
       "      <th>closest_y_per_station[1]</th>\n",
       "      <th>closest_y_per_station[2]</th>\n",
       "      <th>closest_y_per_station[3]</th>\n",
       "      <th>closest_T_per_station[0]</th>\n",
       "      <th>closest_T_per_station[1]</th>\n",
       "      <th>...</th>\n",
       "      <th>closest_z_per_station[2]</th>\n",
       "      <th>closest_z_per_station[3]</th>\n",
       "      <th>closest_dx_per_station[0]</th>\n",
       "      <th>closest_dx_per_station[1]</th>\n",
       "      <th>closest_dx_per_station[2]</th>\n",
       "      <th>closest_dx_per_station[3]</th>\n",
       "      <th>closest_dy_per_station[0]</th>\n",
       "      <th>closest_dy_per_station[1]</th>\n",
       "      <th>closest_dy_per_station[2]</th>\n",
       "      <th>closest_dy_per_station[3]</th>\n",
       "    </tr>\n",
       "  </thead>\n",
       "  <tbody>\n",
       "    <tr>\n",
       "      <th>0</th>\n",
       "      <td>-2219.879883</td>\n",
       "      <td>-2504.699951</td>\n",
       "      <td>-2478.870117</td>\n",
       "      <td>-1940.670044</td>\n",
       "      <td>2659.535889</td>\n",
       "      <td>2866.649414</td>\n",
       "      <td>3074.984131</td>\n",
       "      <td>2409.260498</td>\n",
       "      <td>3.0</td>\n",
       "      <td>15.0</td>\n",
       "      <td>...</td>\n",
       "      <td>17727.173828</td>\n",
       "      <td>18815.875000</td>\n",
       "      <td>25.50</td>\n",
       "      <td>27.50</td>\n",
       "      <td>118.0</td>\n",
       "      <td>63.0</td>\n",
       "      <td>126.278549</td>\n",
       "      <td>136.278488</td>\n",
       "      <td>146.278412</td>\n",
       "      <td>78.078857</td>\n",
       "    </tr>\n",
       "    <tr>\n",
       "      <th>1</th>\n",
       "      <td>1544.099976</td>\n",
       "      <td>1584.060059</td>\n",
       "      <td>1568.599976</td>\n",
       "      <td>1677.819946</td>\n",
       "      <td>-690.355347</td>\n",
       "      <td>-745.201294</td>\n",
       "      <td>-800.077881</td>\n",
       "      <td>-698.870605</td>\n",
       "      <td>5.0</td>\n",
       "      <td>7.0</td>\n",
       "      <td>...</td>\n",
       "      <td>17518.017578</td>\n",
       "      <td>18727.283203</td>\n",
       "      <td>12.75</td>\n",
       "      <td>13.75</td>\n",
       "      <td>59.0</td>\n",
       "      <td>63.0</td>\n",
       "      <td>63.078957</td>\n",
       "      <td>68.078926</td>\n",
       "      <td>73.078896</td>\n",
       "      <td>78.078857</td>\n",
       "    </tr>\n",
       "    <tr>\n",
       "      <th>2</th>\n",
       "      <td>-4148.180176</td>\n",
       "      <td>-4528.799805</td>\n",
       "      <td>-5062.870117</td>\n",
       "      <td>-5406.569824</td>\n",
       "      <td>1645.742554</td>\n",
       "      <td>1773.556519</td>\n",
       "      <td>1902.491699</td>\n",
       "      <td>2033.061646</td>\n",
       "      <td>10.0</td>\n",
       "      <td>12.0</td>\n",
       "      <td>...</td>\n",
       "      <td>17722.951172</td>\n",
       "      <td>18931.521484</td>\n",
       "      <td>25.50</td>\n",
       "      <td>27.50</td>\n",
       "      <td>118.0</td>\n",
       "      <td>126.0</td>\n",
       "      <td>126.278549</td>\n",
       "      <td>136.278488</td>\n",
       "      <td>146.278412</td>\n",
       "      <td>156.278351</td>\n",
       "    </tr>\n",
       "    <tr>\n",
       "      <th>3</th>\n",
       "      <td>-699.530029</td>\n",
       "      <td>-838.349976</td>\n",
       "      <td>-1001.869995</td>\n",
       "      <td>-1071.170044</td>\n",
       "      <td>-1564.932861</td>\n",
       "      <td>-1690.117188</td>\n",
       "      <td>-1813.980469</td>\n",
       "      <td>-1936.408813</td>\n",
       "      <td>6.0</td>\n",
       "      <td>6.0</td>\n",
       "      <td>...</td>\n",
       "      <td>17508.566406</td>\n",
       "      <td>18716.226562</td>\n",
       "      <td>12.75</td>\n",
       "      <td>13.75</td>\n",
       "      <td>59.0</td>\n",
       "      <td>63.0</td>\n",
       "      <td>63.078957</td>\n",
       "      <td>68.078926</td>\n",
       "      <td>73.078896</td>\n",
       "      <td>78.078857</td>\n",
       "    </tr>\n",
       "    <tr>\n",
       "      <th>4</th>\n",
       "      <td>-1607.880005</td>\n",
       "      <td>-1844.699951</td>\n",
       "      <td>-2006.869995</td>\n",
       "      <td>1000.000000</td>\n",
       "      <td>3166.432617</td>\n",
       "      <td>3413.245850</td>\n",
       "      <td>3661.280273</td>\n",
       "      <td>1000.000000</td>\n",
       "      <td>7.0</td>\n",
       "      <td>8.0</td>\n",
       "      <td>...</td>\n",
       "      <td>17729.285156</td>\n",
       "      <td>1000.000000</td>\n",
       "      <td>25.50</td>\n",
       "      <td>27.50</td>\n",
       "      <td>118.0</td>\n",
       "      <td>1000.0</td>\n",
       "      <td>126.278549</td>\n",
       "      <td>136.278488</td>\n",
       "      <td>146.278412</td>\n",
       "      <td>1000.000000</td>\n",
       "    </tr>\n",
       "  </tbody>\n",
       "</table>\n",
       "<p>5 rows × 24 columns</p>\n",
       "</div>"
      ],
      "text/plain": [
       "   closest_x_per_station[0]  closest_x_per_station[1]  \\\n",
       "0              -2219.879883              -2504.699951   \n",
       "1               1544.099976               1584.060059   \n",
       "2              -4148.180176              -4528.799805   \n",
       "3               -699.530029               -838.349976   \n",
       "4              -1607.880005              -1844.699951   \n",
       "\n",
       "   closest_x_per_station[2]  closest_x_per_station[3]  \\\n",
       "0              -2478.870117              -1940.670044   \n",
       "1               1568.599976               1677.819946   \n",
       "2              -5062.870117              -5406.569824   \n",
       "3              -1001.869995              -1071.170044   \n",
       "4              -2006.869995               1000.000000   \n",
       "\n",
       "   closest_y_per_station[0]  closest_y_per_station[1]  \\\n",
       "0               2659.535889               2866.649414   \n",
       "1               -690.355347               -745.201294   \n",
       "2               1645.742554               1773.556519   \n",
       "3              -1564.932861              -1690.117188   \n",
       "4               3166.432617               3413.245850   \n",
       "\n",
       "   closest_y_per_station[2]  closest_y_per_station[3]  \\\n",
       "0               3074.984131               2409.260498   \n",
       "1               -800.077881               -698.870605   \n",
       "2               1902.491699               2033.061646   \n",
       "3              -1813.980469              -1936.408813   \n",
       "4               3661.280273               1000.000000   \n",
       "\n",
       "   closest_T_per_station[0]  closest_T_per_station[1]  \\\n",
       "0                       3.0                      15.0   \n",
       "1                       5.0                       7.0   \n",
       "2                      10.0                      12.0   \n",
       "3                       6.0                       6.0   \n",
       "4                       7.0                       8.0   \n",
       "\n",
       "             ...              closest_z_per_station[2]  \\\n",
       "0            ...                          17727.173828   \n",
       "1            ...                          17518.017578   \n",
       "2            ...                          17722.951172   \n",
       "3            ...                          17508.566406   \n",
       "4            ...                          17729.285156   \n",
       "\n",
       "   closest_z_per_station[3]  closest_dx_per_station[0]  \\\n",
       "0              18815.875000                      25.50   \n",
       "1              18727.283203                      12.75   \n",
       "2              18931.521484                      25.50   \n",
       "3              18716.226562                      12.75   \n",
       "4               1000.000000                      25.50   \n",
       "\n",
       "   closest_dx_per_station[1]  closest_dx_per_station[2]  \\\n",
       "0                      27.50                      118.0   \n",
       "1                      13.75                       59.0   \n",
       "2                      27.50                      118.0   \n",
       "3                      13.75                       59.0   \n",
       "4                      27.50                      118.0   \n",
       "\n",
       "   closest_dx_per_station[3]  closest_dy_per_station[0]  \\\n",
       "0                       63.0                 126.278549   \n",
       "1                       63.0                  63.078957   \n",
       "2                      126.0                 126.278549   \n",
       "3                       63.0                  63.078957   \n",
       "4                     1000.0                 126.278549   \n",
       "\n",
       "   closest_dy_per_station[1]  closest_dy_per_station[2]  \\\n",
       "0                 136.278488                 146.278412   \n",
       "1                  68.078926                  73.078896   \n",
       "2                 136.278488                 146.278412   \n",
       "3                  68.078926                  73.078896   \n",
       "4                 136.278488                 146.278412   \n",
       "\n",
       "   closest_dy_per_station[3]  \n",
       "0                  78.078857  \n",
       "1                  78.078857  \n",
       "2                 156.278351  \n",
       "3                  78.078857  \n",
       "4                1000.000000  \n",
       "\n",
       "[5 rows x 24 columns]"
      ]
     },
     "execution_count": 373,
     "metadata": {},
     "output_type": "execute_result"
    }
   ],
   "source": [
    "foi_df.head()"
   ]
  },
  {
   "cell_type": "code",
   "execution_count": 364,
   "metadata": {
    "hidden": true
   },
   "outputs": [
    {
     "data": {
      "text/html": [
       "<div>\n",
       "<style scoped>\n",
       "    .dataframe tbody tr th:only-of-type {\n",
       "        vertical-align: middle;\n",
       "    }\n",
       "\n",
       "    .dataframe tbody tr th {\n",
       "        vertical-align: top;\n",
       "    }\n",
       "\n",
       "    .dataframe thead th {\n",
       "        text-align: right;\n",
       "    }\n",
       "</style>\n",
       "<table border=\"1\" class=\"dataframe\">\n",
       "  <thead>\n",
       "    <tr style=\"text-align: right;\">\n",
       "      <th></th>\n",
       "      <th>FOI_hits_X</th>\n",
       "      <th>FOI_hits_Y</th>\n",
       "      <th>FOI_hits_T</th>\n",
       "      <th>FOI_hits_Z</th>\n",
       "      <th>FOI_hits_DX</th>\n",
       "      <th>FOI_hits_DY</th>\n",
       "      <th>FOI_hits_DZ</th>\n",
       "      <th>FOI_hits_DT</th>\n",
       "      <th>FOI_hits_S</th>\n",
       "      <th>FOI_hits_R</th>\n",
       "      <th>FOI_hits_DR</th>\n",
       "      <th>ID</th>\n",
       "    </tr>\n",
       "  </thead>\n",
       "  <tbody>\n",
       "    <tr>\n",
       "      <th>0</th>\n",
       "      <td>-2219.879883</td>\n",
       "      <td>2659.535889</td>\n",
       "      <td>3.0</td>\n",
       "      <td>15328.677734</td>\n",
       "      <td>25.5</td>\n",
       "      <td>126.278549</td>\n",
       "      <td>33.954948</td>\n",
       "      <td>0.0</td>\n",
       "      <td>0.0</td>\n",
       "      <td>3464.245605</td>\n",
       "      <td>128.827499</td>\n",
       "      <td>0</td>\n",
       "    </tr>\n",
       "    <tr>\n",
       "      <th>1</th>\n",
       "      <td>-2504.699951</td>\n",
       "      <td>2866.649414</td>\n",
       "      <td>15.0</td>\n",
       "      <td>16533.623047</td>\n",
       "      <td>27.5</td>\n",
       "      <td>136.278488</td>\n",
       "      <td>33.990959</td>\n",
       "      <td>8.0</td>\n",
       "      <td>1.0</td>\n",
       "      <td>3806.730957</td>\n",
       "      <td>139.025452</td>\n",
       "      <td>1</td>\n",
       "    </tr>\n",
       "    <tr>\n",
       "      <th>2</th>\n",
       "      <td>-2394.699951</td>\n",
       "      <td>2866.649414</td>\n",
       "      <td>6.0</td>\n",
       "      <td>16533.623047</td>\n",
       "      <td>27.5</td>\n",
       "      <td>136.278488</td>\n",
       "      <td>33.990959</td>\n",
       "      <td>-1.0</td>\n",
       "      <td>1.0</td>\n",
       "      <td>3735.273438</td>\n",
       "      <td>139.025452</td>\n",
       "      <td>2</td>\n",
       "    </tr>\n",
       "    <tr>\n",
       "      <th>3</th>\n",
       "      <td>-2478.870117</td>\n",
       "      <td>3074.984131</td>\n",
       "      <td>6.0</td>\n",
       "      <td>17727.173828</td>\n",
       "      <td>118.0</td>\n",
       "      <td>146.278412</td>\n",
       "      <td>34.026966</td>\n",
       "      <td>0.0</td>\n",
       "      <td>2.0</td>\n",
       "      <td>3949.724609</td>\n",
       "      <td>187.939819</td>\n",
       "      <td>3</td>\n",
       "    </tr>\n",
       "    <tr>\n",
       "      <th>4</th>\n",
       "      <td>-1940.670044</td>\n",
       "      <td>2409.260498</td>\n",
       "      <td>10.0</td>\n",
       "      <td>18815.875000</td>\n",
       "      <td>63.0</td>\n",
       "      <td>78.078857</td>\n",
       "      <td>33.781380</td>\n",
       "      <td>0.0</td>\n",
       "      <td>3.0</td>\n",
       "      <td>3093.660645</td>\n",
       "      <td>100.326012</td>\n",
       "      <td>4</td>\n",
       "    </tr>\n",
       "  </tbody>\n",
       "</table>\n",
       "</div>"
      ],
      "text/plain": [
       "    FOI_hits_X   FOI_hits_Y  FOI_hits_T    FOI_hits_Z  FOI_hits_DX  \\\n",
       "0 -2219.879883  2659.535889         3.0  15328.677734         25.5   \n",
       "1 -2504.699951  2866.649414        15.0  16533.623047         27.5   \n",
       "2 -2394.699951  2866.649414         6.0  16533.623047         27.5   \n",
       "3 -2478.870117  3074.984131         6.0  17727.173828        118.0   \n",
       "4 -1940.670044  2409.260498        10.0  18815.875000         63.0   \n",
       "\n",
       "   FOI_hits_DY  FOI_hits_DZ  FOI_hits_DT  FOI_hits_S   FOI_hits_R  \\\n",
       "0   126.278549    33.954948          0.0         0.0  3464.245605   \n",
       "1   136.278488    33.990959          8.0         1.0  3806.730957   \n",
       "2   136.278488    33.990959         -1.0         1.0  3735.273438   \n",
       "3   146.278412    34.026966          0.0         2.0  3949.724609   \n",
       "4    78.078857    33.781380          0.0         3.0  3093.660645   \n",
       "\n",
       "   FOI_hits_DR  ID  \n",
       "0   128.827499   0  \n",
       "1   139.025452   1  \n",
       "2   139.025452   2  \n",
       "3   187.939819   3  \n",
       "4   100.326012   4  "
      ]
     },
     "execution_count": 364,
     "metadata": {},
     "output_type": "execute_result"
    }
   ],
   "source": [
    "# изучаем информацию по отдельному треку\n",
    "i = 0\n",
    "foi_df = pd.DataFrame(np.array(train.iloc[i][utils.FOI_COLUMNS].tolist()).T, columns=utils.FOI_COLUMNS)\n",
    "foi_df['FOI_hits_R'] = np.sqrt(foi_df['FOI_hits_X']**2 + foi_df['FOI_hits_Y']**2)\n",
    "foi_df['FOI_hits_DR'] = np.sqrt(foi_df['FOI_hits_DX']**2 + foi_df['FOI_hits_DY']**2)\n",
    "\n",
    "foi_df['ID'] = foi_df.index\n",
    "foi_df"
   ]
  },
  {
   "cell_type": "code",
   "execution_count": 101,
   "metadata": {
    "hidden": true
   },
   "outputs": [],
   "source": [
    "# группировка столкновений по фильтрам\n",
    "@njit\n",
    "def gen_counts_cycle(array1d, counts_i):\n",
    "    for v in array1d:\n",
    "        counts_i[int(v)] += 1\n",
    "\n",
    "def gen_counts(array2d):\n",
    "    counts = np.zeros((len(array2d),4))\n",
    "    for (array1d, counts_i) in zip(array2d, counts):\n",
    "        gen_counts_cycle(array1d, counts_i)\n",
    "    return counts"
   ]
  },
  {
   "cell_type": "code",
   "execution_count": 104,
   "metadata": {
    "hidden": true
   },
   "outputs": [
    {
     "name": "stdout",
     "output_type": "stream",
     "text": [
      "Wall time: 686 ms\n"
     ]
    }
   ],
   "source": [
    "%%time\n",
    "counts = gen_counts(train['FOI_hits_S'])"
   ]
  },
  {
   "cell_type": "code",
   "execution_count": 179,
   "metadata": {
    "hidden": true
   },
   "outputs": [
    {
     "data": {
      "text/plain": [
       "array([[1., 2., 1., 1.],\n",
       "       [2., 2., 1., 1.],\n",
       "       [1., 2., 1., 1.],\n",
       "       ...,\n",
       "       [1., 4., 1., 1.],\n",
       "       [4., 3., 1., 1.],\n",
       "       [1., 1., 1., 1.]])"
      ]
     },
     "execution_count": 179,
     "metadata": {},
     "output_type": "execute_result"
    }
   ],
   "source": [
    "counts"
   ]
  },
  {
   "cell_type": "code",
   "execution_count": 188,
   "metadata": {
    "hidden": true
   },
   "outputs": [
    {
     "data": {
      "text/plain": [
       "array([1., 0., 1., ..., 3., 0., 0.])"
      ]
     },
     "execution_count": 188,
     "metadata": {},
     "output_type": "execute_result"
    }
   ],
   "source": [
    "# приращение количества столкновений\n",
    "train['FOI_hits_Ninc'] = (counts[:,1:]-counts[:,:-1]).clip(0).sum(axis=1)"
   ]
  },
  {
   "cell_type": "code",
   "execution_count": 28,
   "metadata": {
    "hidden": true
   },
   "outputs": [],
   "source": [
    "counts = gen_counts(train['FOI_hits_S']);\n",
    "for stage in [0,1,2,3]:\n",
    "    train[f'FOI_hits_N[{stage}]'] = counts[:,stage]"
   ]
  },
  {
   "cell_type": "code",
   "execution_count": 29,
   "metadata": {
    "hidden": true
   },
   "outputs": [
    {
     "data": {
      "image/png": "[encoded data removed]",
      "text/plain": [
       "<Figure size 432x288 with 1 Axes>"
      ]
     },
     "metadata": {},
     "output_type": "display_data"
    }
   ],
   "source": [
    "for s in [0,1,2,3]:\n",
    "    train[f'FOI_hits_N[{s}]'][train[f'FOI_hits_N[{s}]']<10].hist(alpha=0.5)"
   ]
  },
  {
   "cell_type": "code",
   "execution_count": 38,
   "metadata": {
    "hidden": true
   },
   "outputs": [],
   "source": [
    "tracks = train.sort_values('FOI_hits_N', ascending=False)[:10]"
   ]
  },
  {
   "cell_type": "code",
   "execution_count": 64,
   "metadata": {
    "hidden": true
   },
   "outputs": [
    {
     "data": {
      "text/plain": [
       "[-504.08835, -489.425, -490.67, -493.40332]"
      ]
     },
     "execution_count": 64,
     "metadata": {},
     "output_type": "execute_result"
    }
   ],
   "source": [
    "[tracks[f'MatchedHit_X[{s}]'].values[n] for s in [0,1,2,3]]"
   ]
  },
  {
   "cell_type": "code",
   "execution_count": 362,
   "metadata": {
    "hidden": true
   },
   "outputs": [
    {
     "data": {
      "text/plain": [
       "<matplotlib.colorbar.Colorbar at 0x415872b0b8>"
      ]
     },
     "execution_count": 362,
     "metadata": {},
     "output_type": "execute_result"
    },
    {
     "data": {
      "image/png": "[encoded data removed]",
      "text/plain": [
       "<Figure size 1080x720 with 2 Axes>"
      ]
     },
     "metadata": {},
     "output_type": "display_data"
    }
   ],
   "source": [
    "# визуализация данных по отдельному треку\n",
    "\n",
    "n = 0\n",
    "cmap = ListedColormap(['Red', 'Green', 'Blue', 'Black'])\n",
    "plt.figure(figsize=(15,10))\n",
    "plt.grid(True)\n",
    "plt.scatter(tracks['FOI_hits_X'].values[n], tracks['FOI_hits_Y'].values[n], c=tracks['FOI_hits_S'].values[n], cmap=cmap, marker='*')\n",
    "plt.scatter([tracks[f'MatchedHit_X[{s}]'].values[n] for s in [0,1,2,3]], \n",
    "            [tracks[f'MatchedHit_Y[{s}]'].values[n] for s in [0,1,2,3]], c=[0,1,2,3], s=100, cmap=cmap, marker='x')\n",
    "plt.colorbar()"
   ]
  },
  {
   "cell_type": "markdown",
   "metadata": {},
   "source": [
    "### Формирование признаков"
   ]
  },
  {
   "cell_type": "markdown",
   "metadata": {},
   "source": [
    "#### Simple features"
   ]
  },
  {
   "cell_type": "code",
   "execution_count": 2,
   "metadata": {},
   "outputs": [],
   "source": [
    "def build_features(sample):\n",
    "    feature_sets = dict()\n",
    "\n",
    "    # ------ Радиусы и неопределенности ------\n",
    "    \n",
    "    # радиусы столкновений и неопределенности координат\n",
    "    for stage in [0,1,2,3]:\n",
    "        sample[f'MatchedHit_R[{stage}]'] = np.sqrt(sample[f'MatchedHit_X[{stage}]']**2 + sample[f'MatchedHit_Y[{stage}]']**2)\n",
    "        sample[f'Lextra_R[{stage}]'] = np.sqrt(sample[f'Lextra_X[{stage}]']**2 + sample[f'Lextra_Y[{stage}]']**2)\n",
    "        sample[f'MatchedHit_DR[{stage}]'] = np.sqrt(sample[f'MatchedHit_DX[{stage}]']**2 + sample[f'MatchedHit_DY[{stage}]']**2)\n",
    "        sample[f'Mextra_DR2[{stage}]'] = sample[f'Mextra_DX2[{stage}]'] + sample[f'Mextra_DY2[{stage}]']\n",
    "    \n",
    "    # расчетная неопределенность координат и радиуса (извлекаем корни)\n",
    "    for stage in [0,1,2,3]:\n",
    "        for ax in ['X', 'Y', 'R']:\n",
    "            sample[f'Mextra_D{ax}[{stage}]'] = np.sqrt(sample[f'Mextra_D{ax}2[{stage}]'])\n",
    "    \n",
    "    # ------ Отклонения расчетных и измеренных показателей ------\n",
    "\n",
    "    # неопределенность разности измеренных и расчетных показателей (нормировочные коэффициенты)\n",
    "    for stage in [0,1,2,3]:\n",
    "        for ax in ['X', 'Y', 'R']:\n",
    "            sample[f'D_Delta_{ax}[{stage}]'] = np.sqrt(sample[f'MatchedHit_D{ax}[{stage}]']**2 + sample[f'Mextra_D{ax}2[{stage}]'])\n",
    "    \n",
    "    # отклонение координат и радиуса\n",
    "    for stage in [0,1,2,3]:\n",
    "        for ax in ['X', 'Y', 'R']:\n",
    "            sample[f'Delta_{ax}[{stage}]'] = sample[f'MatchedHit_{ax}[{stage}]'] - sample[f'Lextra_{ax}[{stage}]']\n",
    "            sample[f'Delta_{ax}_norm[{stage}]'] = sample[f'Delta_{ax}[{stage}]'].abs()/sample[f'D_Delta_{ax}[{stage}]']\n",
    "\n",
    "    # расстояние\n",
    "    for stage in [0,1,2,3]:\n",
    "        sample[f'Delta_D[{stage}]'] = np.sqrt(sample[f'Delta_X[{stage}]']**2 + sample[f'Delta_Y[{stage}]']**2)\n",
    "        sample[f'Delta_D_norm[{stage}]'] = sample[f'Delta_D[{stage}]']/sample[f'D_Delta_R[{stage}]']\n",
    "\n",
    "    # продольное отклонение\n",
    "    for stage in [0,1,2,3]:\n",
    "        sample[f'Delta_L[{stage}]'] = np.sqrt((sample[f'Delta_D[{stage}]']**2 - sample[f'Delta_R[{stage}]']**2).clip(0))\n",
    "        sample[f'Delta_L_norm[{stage}]'] = sample[f'Delta_L[{stage}]']/sample[f'D_Delta_R[{stage}]']\n",
    "\n",
    "\n",
    "def get_feature_sets():\n",
    "    # ------ Каталог признаков ------\n",
    "\n",
    "    feature_sets = dict()\n",
    "    \n",
    "    # измеренные координаты и их неопределенности\n",
    "    feature_sets['matched_hit_xy'] = set([f'MatchedHit_{ax}[{stage}]' for stage in [0,1,2,3] for ax in ['X', 'Y']])\n",
    "    feature_sets['matched_hit_zt'] = set([f'MatchedHit_{ax}[{stage}]' for stage in [0,1,2,3] for ax in ['Z', 'T']])\n",
    "    \n",
    "    feature_sets['d_matched_hit_xy'] = set([f'MatchedHit_D{ax}[{stage}]' for stage in [0,1,2,3] for ax in ['X', 'Y']])\n",
    "    feature_sets['d_matched_hit_zt'] = set([f'MatchedHit_D{ax}[{stage}]' for stage in [0,1,2,3] for ax in ['Z', 'T']])\n",
    "\n",
    "    # расчетные координаты и их неопределенности\n",
    "    feature_sets['lextra'] = set([f'Lextra_{ax}[{stage}]' for stage in [0,1,2,3] for ax in ['X', 'Y']])\n",
    "    feature_sets['d_mextra'] = set([f'Mextra_D{ax}[{stage}]' for stage in [0,1,2,3] for ax in ['X', 'Y']])\n",
    "\n",
    "    # радиусы и их неопределенности\n",
    "    feature_sets['r'] = set(\n",
    "        [f'MatchedHit_R[{stage}]' for stage in [0,1,2,3]] +\n",
    "        [f'MatchedHit_DR[{stage}]' for stage in [0,1,2,3]] +\n",
    "        [f'Lextra_R[{stage}]' for stage in [0,1,2,3]] +\n",
    "        [f'Mextra_DR[{stage}]' for stage in [0,1,2,3]]\n",
    "    )\n",
    "    \n",
    "    # отклонения и их неопределенности\n",
    "    feature_sets['d_delta'] = set([f'D_Delta_{ax}[{stage}]' for stage in [0,1,2,3] for ax in ['X', 'Y', 'R']])\n",
    "    \n",
    "    feature_sets['delta_xyd'] = set([f'Delta_{ax}[{stage}]' for stage in [0,1,2,3] for ax in ['X', 'Y', 'D']])\n",
    "    feature_sets['delta_rld'] = set([f'Delta_{ax}[{stage}]' for stage in [0,1,2,3] for ax in ['R', 'L', 'D']])\n",
    "\n",
    "    feature_sets['delta_xyd_norm'] = set([f'Delta_{ax}_norm[{stage}]' for stage in [0,1,2,3] for ax in ['X', 'Y', 'D']])\n",
    "    feature_sets['delta_rld_norm'] = set([f'Delta_{ax}_norm[{stage}]' for stage in [0,1,2,3] for ax in ['R', 'L', 'D']])\n",
    "    \n",
    "    feature_sets['all'] = set.union(*feature_sets.values())\n",
    "\n",
    "    return feature_sets\n",
    "    \n",
    "feature_sets = get_feature_sets()\n",
    "\n",
    "ORIGINAL_FEATURES = set([\n",
    "    'ncl[0]', 'ncl[1]', 'ncl[2]', 'ncl[3]', \n",
    "    'avg_cs[0]', 'avg_cs[1]', 'avg_cs[2]', 'avg_cs[3]', \n",
    "    'ndof',\n",
    "    'MatchedHit_TYPE[0]', 'MatchedHit_TYPE[1]', 'MatchedHit_TYPE[2]', 'MatchedHit_TYPE[3]',\n",
    "    'NShared',\n",
    "    'FOI_hits_N', 'PT', 'P'])\n",
    "\n",
    "SIMPLE_FEATURES_45 = set(pd.DataFrame(models).set_index('name').loc['systematic_1_45'].best_features.index)"
   ]
  },
  {
   "cell_type": "markdown",
   "metadata": {
    "heading_collapsed": true
   },
   "source": [
    "#### FOI features"
   ]
  },
  {
   "cell_type": "code",
   "execution_count": null,
   "metadata": {
    "hidden": true
   },
   "outputs": [],
   "source": [
    "def build_foi_features(foi_sample):\n",
    "    foi_features = foi_sample.progress_apply(\n",
    "        utils.find_closest_hit_per_station_fast, result_type=\"expand\", axis=1)\n",
    "    \n",
    "    return foi_features"
   ]
  },
  {
   "cell_type": "code",
   "execution_count": 11,
   "metadata": {
    "hidden": true
   },
   "outputs": [],
   "source": [
    "train_foi, test_foi = utils.load_foi_csv(DATA_PATH)"
   ]
  },
  {
   "cell_type": "code",
   "execution_count": 5,
   "metadata": {
    "hidden": true
   },
   "outputs": [
    {
     "data": {
      "application/vnd.jupyter.widget-view+json": {
       "model_id": "2d0bcd4c45fd4a1187a0776240143804",
       "version_major": 2,
       "version_minor": 0
      },
      "text/plain": [
       "HBox(children=(IntProgress(value=0, max=5445705), HTML(value='')))"
      ]
     },
     "metadata": {},
     "output_type": "display_data"
    },
    {
     "name": "stdout",
     "output_type": "stream",
     "text": [
      "\n"
     ]
    }
   ],
   "source": [
    "train_foi_features = build_foi_features(train_foi)"
   ]
  },
  {
   "cell_type": "code",
   "execution_count": 12,
   "metadata": {
    "hidden": true
   },
   "outputs": [
    {
     "data": {
      "application/vnd.jupyter.widget-view+json": {
       "model_id": "419d512585404a8ca7f05f95ba15242a",
       "version_major": 2,
       "version_minor": 0
      },
      "text/plain": [
       "HBox(children=(IntProgress(value=0, max=726095), HTML(value='')))"
      ]
     },
     "metadata": {},
     "output_type": "display_data"
    }
   ],
   "source": [
    "test_foi_features = build_foi_features(test_foi)"
   ]
  },
  {
   "cell_type": "code",
   "execution_count": 14,
   "metadata": {
    "hidden": true
   },
   "outputs": [
    {
     "data": {
      "text/html": [
       "<div>\n",
       "<style scoped>\n",
       "    .dataframe tbody tr th:only-of-type {\n",
       "        vertical-align: middle;\n",
       "    }\n",
       "\n",
       "    .dataframe tbody tr th {\n",
       "        vertical-align: top;\n",
       "    }\n",
       "\n",
       "    .dataframe thead th {\n",
       "        text-align: right;\n",
       "    }\n",
       "</style>\n",
       "<table border=\"1\" class=\"dataframe\">\n",
       "  <thead>\n",
       "    <tr style=\"text-align: right;\">\n",
       "      <th></th>\n",
       "      <th>0</th>\n",
       "      <th>1</th>\n",
       "      <th>2</th>\n",
       "      <th>3</th>\n",
       "      <th>4</th>\n",
       "      <th>5</th>\n",
       "      <th>6</th>\n",
       "      <th>7</th>\n",
       "      <th>8</th>\n",
       "      <th>9</th>\n",
       "      <th>10</th>\n",
       "      <th>11</th>\n",
       "      <th>12</th>\n",
       "      <th>13</th>\n",
       "      <th>14</th>\n",
       "      <th>15</th>\n",
       "      <th>16</th>\n",
       "      <th>17</th>\n",
       "      <th>18</th>\n",
       "      <th>19</th>\n",
       "    </tr>\n",
       "  </thead>\n",
       "  <tbody>\n",
       "    <tr>\n",
       "      <th>0</th>\n",
       "      <td>0.047544</td>\n",
       "      <td>0.086016</td>\n",
       "      <td>0.034877</td>\n",
       "      <td>0.721878</td>\n",
       "      <td>0.139970</td>\n",
       "      <td>0.086016</td>\n",
       "      <td>0.298594</td>\n",
       "      <td>0.721878</td>\n",
       "      <td>0.232396</td>\n",
       "      <td>0.086016</td>\n",
       "      <td>0.562311</td>\n",
       "      <td>0.721878</td>\n",
       "      <td>0.324822</td>\n",
       "      <td>0.086016</td>\n",
       "      <td>0.826028</td>\n",
       "      <td>0.721878</td>\n",
       "      <td>0.417248</td>\n",
       "      <td>0.086016</td>\n",
       "      <td>1.089745</td>\n",
       "      <td>0.721878</td>\n",
       "    </tr>\n",
       "    <tr>\n",
       "      <th>1</th>\n",
       "      <td>0.102610</td>\n",
       "      <td>0.064698</td>\n",
       "      <td>0.292861</td>\n",
       "      <td>0.101546</td>\n",
       "      <td>0.102610</td>\n",
       "      <td>0.064698</td>\n",
       "      <td>0.292861</td>\n",
       "      <td>0.101546</td>\n",
       "      <td>0.102610</td>\n",
       "      <td>0.064698</td>\n",
       "      <td>0.292861</td>\n",
       "      <td>0.101546</td>\n",
       "      <td>0.102610</td>\n",
       "      <td>0.064698</td>\n",
       "      <td>0.292861</td>\n",
       "      <td>0.101546</td>\n",
       "      <td>0.102610</td>\n",
       "      <td>0.064698</td>\n",
       "      <td>0.292861</td>\n",
       "      <td>0.101546</td>\n",
       "    </tr>\n",
       "    <tr>\n",
       "      <th>2</th>\n",
       "      <td>0.297587</td>\n",
       "      <td>0.279580</td>\n",
       "      <td>1.122164</td>\n",
       "      <td>0.939641</td>\n",
       "      <td>29.183681</td>\n",
       "      <td>0.439937</td>\n",
       "      <td>1.122164</td>\n",
       "      <td>0.939641</td>\n",
       "      <td>58.069775</td>\n",
       "      <td>1.687286</td>\n",
       "      <td>1.122164</td>\n",
       "      <td>0.939641</td>\n",
       "      <td>86.955872</td>\n",
       "      <td>1.712841</td>\n",
       "      <td>1.122164</td>\n",
       "      <td>0.939641</td>\n",
       "      <td>115.841965</td>\n",
       "      <td>4.659768</td>\n",
       "      <td>1.122164</td>\n",
       "      <td>0.939641</td>\n",
       "    </tr>\n",
       "    <tr>\n",
       "      <th>3</th>\n",
       "      <td>0.054989</td>\n",
       "      <td>0.112722</td>\n",
       "      <td>0.081391</td>\n",
       "      <td>0.034444</td>\n",
       "      <td>0.784015</td>\n",
       "      <td>0.112722</td>\n",
       "      <td>0.081391</td>\n",
       "      <td>0.034444</td>\n",
       "      <td>1.513041</td>\n",
       "      <td>0.112722</td>\n",
       "      <td>0.081391</td>\n",
       "      <td>0.034444</td>\n",
       "      <td>2.242067</td>\n",
       "      <td>0.112722</td>\n",
       "      <td>0.081391</td>\n",
       "      <td>0.034444</td>\n",
       "      <td>2.971093</td>\n",
       "      <td>0.112722</td>\n",
       "      <td>0.081391</td>\n",
       "      <td>0.034444</td>\n",
       "    </tr>\n",
       "    <tr>\n",
       "      <th>4</th>\n",
       "      <td>0.727626</td>\n",
       "      <td>0.647882</td>\n",
       "      <td>0.412200</td>\n",
       "      <td>0.306336</td>\n",
       "      <td>1.073516</td>\n",
       "      <td>0.647882</td>\n",
       "      <td>0.412200</td>\n",
       "      <td>0.306336</td>\n",
       "      <td>1.419407</td>\n",
       "      <td>0.647882</td>\n",
       "      <td>0.412200</td>\n",
       "      <td>0.306336</td>\n",
       "      <td>1.610930</td>\n",
       "      <td>0.647882</td>\n",
       "      <td>0.412200</td>\n",
       "      <td>0.306336</td>\n",
       "      <td>1.802453</td>\n",
       "      <td>0.647882</td>\n",
       "      <td>0.412200</td>\n",
       "      <td>0.306336</td>\n",
       "    </tr>\n",
       "  </tbody>\n",
       "</table>\n",
       "</div>"
      ],
      "text/plain": [
       "         0         1         2         3          4         5         6   \\\n",
       "0  0.047544  0.086016  0.034877  0.721878   0.139970  0.086016  0.298594   \n",
       "1  0.102610  0.064698  0.292861  0.101546   0.102610  0.064698  0.292861   \n",
       "2  0.297587  0.279580  1.122164  0.939641  29.183681  0.439937  1.122164   \n",
       "3  0.054989  0.112722  0.081391  0.034444   0.784015  0.112722  0.081391   \n",
       "4  0.727626  0.647882  0.412200  0.306336   1.073516  0.647882  0.412200   \n",
       "\n",
       "         7          8         9         10        11         12        13  \\\n",
       "0  0.721878   0.232396  0.086016  0.562311  0.721878   0.324822  0.086016   \n",
       "1  0.101546   0.102610  0.064698  0.292861  0.101546   0.102610  0.064698   \n",
       "2  0.939641  58.069775  1.687286  1.122164  0.939641  86.955872  1.712841   \n",
       "3  0.034444   1.513041  0.112722  0.081391  0.034444   2.242067  0.112722   \n",
       "4  0.306336   1.419407  0.647882  0.412200  0.306336   1.610930  0.647882   \n",
       "\n",
       "         14        15          16        17        18        19  \n",
       "0  0.826028  0.721878    0.417248  0.086016  1.089745  0.721878  \n",
       "1  0.292861  0.101546    0.102610  0.064698  0.292861  0.101546  \n",
       "2  1.122164  0.939641  115.841965  4.659768  1.122164  0.939641  \n",
       "3  0.081391  0.034444    2.971093  0.112722  0.081391  0.034444  \n",
       "4  0.412200  0.306336    1.802453  0.647882  0.412200  0.306336  "
      ]
     },
     "execution_count": 14,
     "metadata": {},
     "output_type": "execute_result"
    }
   ],
   "source": [
    "train_foi_features.head()"
   ]
  },
  {
   "cell_type": "code",
   "execution_count": 7,
   "metadata": {
    "hidden": true
   },
   "outputs": [],
   "source": [
    "train_foi_features.to_csv(os.path.join(DATA_PATH, 'train_foi_features.csv'))"
   ]
  },
  {
   "cell_type": "code",
   "execution_count": 15,
   "metadata": {
    "hidden": true
   },
   "outputs": [],
   "source": [
    "test_foi_features.to_csv(os.path.join(DATA_PATH, 'test_foi_features.csv'))"
   ]
  },
  {
   "cell_type": "code",
   "execution_count": 16,
   "metadata": {
    "hidden": true
   },
   "outputs": [],
   "source": [
    "del(train_foi, test_foi)"
   ]
  },
  {
   "cell_type": "markdown",
   "metadata": {},
   "source": [
    "### Track1"
   ]
  },
  {
   "cell_type": "code",
   "execution_count": null,
   "metadata": {},
   "outputs": [],
   "source": [
    "xgboost.XGBClassifier.fit()"
   ]
  },
  {
   "cell_type": "code",
   "execution_count": 91,
   "metadata": {},
   "outputs": [],
   "source": [
    "def run_model(train_part, validation, model_name, \n",
    "              features, xgb_params, \n",
    "              useTrainCV=True):\n",
    "    print('RUNNING: ' + model_name)\n",
    "\n",
    "    model = xgboost.XGBClassifier(n_jobs=3, random_state=0, **xgb_params)    \n",
    "    \n",
    "    if useTrainCV:\n",
    "        xgb_param = model.get_xgb_params()\n",
    "        xgtrain = xgboost.DMatrix(train_part[features].values, label=train_part['label'].values, weight=train_part.weight.values)\n",
    "        cvresult = xgboost.cv(xgb_param, xgtrain, num_boost_round=model.get_params()['n_estimators'], nfold=3,\n",
    "            metrics='auc', early_stopping_rounds=50)\n",
    "        model.set_params(n_estimators=cvresult.shape[0])\n",
    "    \n",
    "    print('n_estimators', cvresult.shape[0])\n",
    "    \n",
    "    model.fit(train_part[features].values, train_part.label.values, sample_weight=train_part.weight.values)\n",
    "    validation_predictions = model.predict_proba(validation[features].values)[:, 1]\n",
    "    score = scoring.rejection90(validation.label.values, validation_predictions, sample_weight=validation.weight.values)\n",
    "    best_features = pd.Series(model.feature_importances_, index=features).sort_values(ascending=False)\n",
    "#     models.append({'name': model_name, 'score': score, 'best_features': best_features, 'xgb_params': xgb_params})\n",
    "#     with open('models.pkl', 'wb') as fout:\n",
    "#         pickle.dump(models, fout)\n",
    "    print(f'score={score}')\n",
    "    \n",
    "#     predictions = model.predict_proba(test[features].values)[:, 1]\n",
    "#     pd.DataFrame(data={\"prediction\": predictions}, index=test.index).to_csv(\n",
    "#         f\"submission_{model_name}.csv\", index_label=utils.ID_COLUMN)\n",
    "    \n",
    "#     model.save_model(f\"submission_{model_name}.xgb\")\n",
    "    \n",
    "    return (best_features, score)\n",
    "\n",
    "    \n",
    "def run_2models(train, model_name, test_size, \n",
    "#                features_ref, xgb_params_ref,\n",
    "                features2, xgb_params2, \n",
    "                features0, xgb_params0):\n",
    "\n",
    "    train_part, validation = train_test_split(train, test_size=test_size, shuffle=True, random_state=0)\n",
    "\n",
    "    print('RUNNING: ' + model_name)\n",
    "    \n",
    "#     #reference model\n",
    "#     model_ref = xgboost.XGBClassifier(n_jobs=3, random_state=0, **xgb_params_ref)\n",
    "#     model_ref.fit(train_part[features_ref].values, (train_part.particle_type==1).values, sample_weight=train_part.weight.values)\n",
    "#     validation_predictions_ref = model_ref.predict_proba(validation[features_ref].values)[:, 1]\n",
    "#     train_predictions_ref = model_ref.predict_proba(train_part[features_ref].values)[:, 1]\n",
    "#     score_ref = scoring.rejection90((validation.particle_type==1).values, validation_predictions_ref, sample_weight=validation.weight.values)\n",
    "#     best_features_ref = pd.Series(model_ref.feature_importances_, index=features_ref).sort_values(ascending=False)\n",
    "#     models.append({'name': model_name + '_REF', 'score': score_ref, 'best_features': best_features_ref, \n",
    "#                    'validation_predictions': validation_predictions_ref, 'train_predictions': train_predictions_ref})\n",
    "#     print(f'score_ref={score_ref}')\n",
    "    \n",
    "    # protons\n",
    "    model = xgboost.XGBClassifier(n_jobs=3, random_state=0, **xgb_params2)\n",
    "    model.fit(train_part[features2].values, (train_part.particle_type!=2).values, sample_weight=train_part.weight.values)\n",
    "    validation_predictions_2 = model.predict_proba(validation[features2].values)[:, 1]\n",
    "    train_predictions_2 = model.predict_proba(train_part[features2].values)[:, 1]\n",
    "    score2 = scoring.rejection90((validation.particle_type!=2).values, validation_predictions_2, sample_weight=validation.weight.values)\n",
    "    best_features_2 = pd.Series(model.feature_importances_, index=features2).sort_values(ascending=False)\n",
    "    models.append({'name': model_name + '_PROTON', 'score': score2, 'best_features': best_features_2, \n",
    "                   'validation_predictions': validation_predictions_2, 'train_predictions': train_predictions_2})\n",
    "    print(f'score_proton={score2}')\n",
    "    predictions2 = model.predict_proba(test[features2].values)[:, 1]\n",
    "    \n",
    "    # non protons\n",
    "    train_part0 = train_part[train_part.particle_type!=2]\n",
    "    validation0 = validation[validation.particle_type!=2]\n",
    "    \n",
    "    # pions\n",
    "    model = xgboost.XGBClassifier(n_jobs=3, random_state=0, **xgb_params0)\n",
    "    model.fit(train_part0[features0].values, (train_part0.particle_type!=0), sample_weight=train_part0.weight.values)\n",
    "    validation_predictions_0 = model.predict_proba(validation0[features0].values)[:, 1]\n",
    "    validation_predictions_0_full = model.predict_proba(validation[features0].values)[:, 1]\n",
    "    train_predictions_0 = model.predict_proba(validation[features0].values)[:, 1]\n",
    "    score0 = scoring.rejection90((validation0.particle_type!=0).values, validation_predictions_0, sample_weight=validation0.weight.values)\n",
    "    score0_full = scoring.rejection90((validation.particle_type!=0).values, validation_predictions_0_full, sample_weight=validation.weight.values)\n",
    "    best_features_0 = pd.Series(model.feature_importances_, index=features0).sort_values(ascending=False)\n",
    "    models.append({'name': model_name + '_PION', 'score': score0, 'score_full': score0_full, 'best_features': best_features_0, \n",
    "                   'validation_predictions': validation_predictions_0_full, 'train_predictions': train_predictions_0})\n",
    "    print(f'score_pion={score0}')\n",
    "    print(f'score_pion_full={score0_full}')\n",
    "    predictions0 = model.predict_proba(test[features0].values)[:, 1]\n",
    "    \n",
    "    validation_predictions = validation_predictions_2 * validation_predictions_0_full\n",
    "    score = scoring.rejection90(validation.label.values, validation_predictions, sample_weight=validation.weight.values)\n",
    "    print(f'score={score}')\n",
    "    \n",
    "    with open('models.pkl', 'wb') as fout:\n",
    "        pickle.dump(models, fout)\n",
    "    \n",
    "    predictions = predictions2 * predictions0\n",
    "\n",
    "    pd.DataFrame(data={\"prediction\": predictions2}, index=test.index).to_csv(\n",
    "        f\"submission_{model_name}_PROTON.csv\", index_label=utils.ID_COLUMN)\n",
    "\n",
    "    pd.DataFrame(data={\"prediction\": predictions0}, index=test.index).to_csv(\n",
    "        f\"submission_{model_name}_PION.csv\", index_label=utils.ID_COLUMN)\n",
    "    \n",
    "    pd.DataFrame(data={\"prediction\": predictions}, index=test.index).to_csv(\n",
    "        f\"submission_{model_name}_2MODELS.csv\", index_label=utils.ID_COLUMN)\n",
    "\n",
    "#    return (best_features_ref, best_features_2, best_features_0)\n",
    "    \n",
    "FOI_FEATURES = set([str(i) for i in range(20)])"
   ]
  },
  {
   "cell_type": "markdown",
   "metadata": {
    "heading_collapsed": true
   },
   "source": [
    "#### Отбор признаков"
   ]
  },
  {
   "cell_type": "code",
   "execution_count": 16,
   "metadata": {
    "hidden": true
   },
   "outputs": [],
   "source": [
    "types = dict(zip(features, repeat(np.float32)))\n",
    "types['id'] = np.int64\n",
    "types['label'] = np.int64\n",
    "train = pd.read_csv(os.path.join(DATA_PATH, 'full_train_10.csv'), \n",
    "                    dtype=types, index_col='id')\n",
    "\n",
    "# train = pd.read_csv(os.path.join(DATA_PATH, 'full_train.csv'), \n",
    "#                     usecols=list(features)+['label', 'weight', 'id'], dtype=types, index_col='id')\n",
    "# test = pd.read_csv(os.path.join(DATA_PATH, 'full_test.csv'), \n",
    "#                    usecols=list(features)+['id'], dtype=types, index_col='id')"
   ]
  },
  {
   "cell_type": "code",
   "execution_count": 25,
   "metadata": {
    "hidden": true
   },
   "outputs": [
    {
     "data": {
      "text/plain": [
       "dict_keys(['matched_hit_xy', 'matched_hit_zt', 'd_matched_hit_xy', 'd_matched_hit_zt', 'lextra', 'd_mextra', 'r', 'd_delta', 'delta_xyd', 'delta_rld', 'delta_xyd_norm', 'delta_rld_norm', 'all'])"
      ]
     },
     "execution_count": 25,
     "metadata": {},
     "output_type": "execute_result"
    }
   ],
   "source": [
    "feature_sets.keys()"
   ]
  },
  {
   "cell_type": "markdown",
   "metadata": {
    "heading_collapsed": true,
    "hidden": true
   },
   "source": [
    "##### От полного набора"
   ]
  },
  {
   "cell_type": "code",
   "execution_count": 93,
   "metadata": {
    "hidden": true
   },
   "outputs": [],
   "source": [
    "features153 = feature_sets['all'] | ORIGINAL_FEATURES | FOI_FEATURES"
   ]
  },
  {
   "cell_type": "code",
   "execution_count": 110,
   "metadata": {
    "hidden": true
   },
   "outputs": [],
   "source": [
    "features100 = (list(best_features_153[0][:100].index), list(best_features_153[1][:100].index), list(best_features_153[2][:100].index))"
   ]
  },
  {
   "cell_type": "code",
   "execution_count": 122,
   "metadata": {
    "hidden": true
   },
   "outputs": [],
   "source": [
    "features80 = (list(best_features_100[0][:80].index), list(best_features_100[1][:80].index), list(best_features_100[2][:80].index))"
   ]
  },
  {
   "cell_type": "code",
   "execution_count": 133,
   "metadata": {
    "hidden": true
   },
   "outputs": [],
   "source": [
    "features60 = (list(best_features_80[0][:60].index), list(best_features_80[1][:60].index), list(best_features_80[2][:60].index))"
   ]
  },
  {
   "cell_type": "code",
   "execution_count": 141,
   "metadata": {
    "hidden": true
   },
   "outputs": [],
   "source": [
    "features50 = (list(best_features_60[0][:50].index), list(best_features_60[1][:50].index), list(best_features_60[2][:50].index))"
   ]
  },
  {
   "cell_type": "code",
   "execution_count": 147,
   "metadata": {
    "hidden": true
   },
   "outputs": [],
   "source": [
    "features45 = (list(best_features_50[0][:45].index), list(best_features_50[1][:45].index), list(best_features_50[2][:45].index))"
   ]
  },
  {
   "cell_type": "markdown",
   "metadata": {
    "heading_collapsed": true,
    "hidden": true
   },
   "source": [
    "##### От частичного набора"
   ]
  },
  {
   "cell_type": "code",
   "execution_count": 19,
   "metadata": {
    "hidden": true
   },
   "outputs": [
    {
     "data": {
      "text/plain": [
       "67"
      ]
     },
     "execution_count": 19,
     "metadata": {},
     "output_type": "execute_result"
    }
   ],
   "source": [
    "# features = (feature_sets['delta_xyd_norm'] | feature_sets['lextra'] | \n",
    "#             feature_sets['matched_hit_zt'] | feature_sets['d_matched_hit_zt'] | \n",
    "#             ORIGINAL_FEATURES | FOI_FEATURES)\n",
    "\n",
    "features = SIMPLE_FEATURES_45 | feature_sets['delta_xyd_norm'] | feature_sets['delta_rld_norm'] | feature_sets['matched_hit_zt'] | feature_sets['d_matched_hit_zt']\n",
    "len(features)"
   ]
  },
  {
   "cell_type": "code",
   "execution_count": 20,
   "metadata": {
    "collapsed": true,
    "hidden": true
   },
   "outputs": [
    {
     "name": "stdout",
     "output_type": "stream",
     "text": [
      "['ncl[0]', 'MatchedHit_X[3]', 'Delta_L_norm[1]', 'Delta_D_norm[1]',\n",
      " 'D_Delta_R[3]', 'ncl[1]', 'Delta_X[3]', 'MatchedHit_DT[3]', 'PT',\n",
      " 'MatchedHit_TYPE[1]', 'avg_cs[0]', 'D_Delta_X[1]', 'MatchedHit_Y[1]',\n",
      " 'D_Delta_R[1]', 'Delta_D_norm[0]', 'Delta_L_norm[2]', 'Delta_Y_norm[0]',\n",
      " 'MatchedHit_Y[0]', 'MatchedHit_R[3]', 'Delta_R[3]', 'D_Delta_X[3]',\n",
      " 'MatchedHit_TYPE[0]', 'MatchedHit_DT[0]', 'MatchedHit_DZ[1]', 'ncl[3]',\n",
      " 'MatchedHit_Z[2]', 'Delta_D_norm[2]', 'Delta_L_norm[3]', 'FOI_hits_N',\n",
      " 'MatchedHit_DT[1]', 'Delta_R_norm[2]', 'MatchedHit_T[1]', 'Delta_D_norm[3]',\n",
      " 'ncl[2]', 'Mextra_DX[3]', 'Delta_Y[2]', 'MatchedHit_Z[0]', 'MatchedHit_Z[1]',\n",
      " 'MatchedHit_DZ[2]', 'Delta_Y_norm[1]', 'Delta_X_norm[2]', 'MatchedHit_T[2]',\n",
      " 'Delta_R_norm[0]', 'MatchedHit_DZ[3]', 'MatchedHit_T[3]', 'avg_cs[1]', 'P',\n",
      " 'Delta_Y_norm[2]', 'Delta_R_norm[3]', 'avg_cs[2]', 'Delta_R_norm[1]',\n",
      " 'MatchedHit_T[0]', 'Lextra_Y[0]', 'avg_cs[3]', 'Delta_X_norm[0]',\n",
      " 'MatchedHit_Z[3]', 'MatchedHit_DZ[0]', 'MatchedHit_Y[3]', 'MatchedHit_R[1]',\n",
      " 'MatchedHit_DT[2]', 'Delta_X_norm[1]', 'Delta_L_norm[0]', 'Delta_X_norm[3]',\n",
      " 'D_Delta_R[2]', 'MatchedHit_R[2]', 'Delta_Y_norm[3]', 'NShared']\n"
     ]
    }
   ],
   "source": [
    "pprint(list(features), compact=True)"
   ]
  },
  {
   "cell_type": "code",
   "execution_count": null,
   "metadata": {
    "hidden": true
   },
   "outputs": [],
   "source": []
  },
  {
   "cell_type": "markdown",
   "metadata": {
    "heading_collapsed": true,
    "hidden": true
   },
   "source": [
    "##### Прогон модели"
   ]
  },
  {
   "cell_type": "code",
   "execution_count": 50,
   "metadata": {
    "hidden": true
   },
   "outputs": [
    {
     "data": {
      "text/plain": [
       "153"
      ]
     },
     "execution_count": 50,
     "metadata": {},
     "output_type": "execute_result"
    }
   ],
   "source": [
    "len(best_features)"
   ]
  },
  {
   "cell_type": "code",
   "execution_count": 103,
   "metadata": {
    "hidden": true
   },
   "outputs": [],
   "source": [
    "SIMPLE_FEATURES_52 = res[14][0]"
   ]
  },
  {
   "cell_type": "code",
   "execution_count": 69,
   "metadata": {
    "hidden": true
   },
   "outputs": [],
   "source": [
    "SIMPLE_FEATURES_52.to_csv('SIMPLE_FEATURES_52.scv')"
   ]
  },
  {
   "cell_type": "code",
   "execution_count": 62,
   "metadata": {
    "collapsed": true,
    "hidden": true
   },
   "outputs": [
    {
     "data": {
      "text/plain": [
       "[(59, 7, 0.6655645446482967),\n",
       " (55, 11, 0.6759159008546106),\n",
       " (58, 8, 0.6792943826838221),\n",
       " (49, 17, 0.6886959934487957),\n",
       " (42, 24, 0.6894801148421553),\n",
       " (46, 20, 0.6899099607190264),\n",
       " (57, 9, 0.6903663803441145),\n",
       " (51, 15, 0.69205970392668),\n",
       " (40, 26, 0.6927283087961976),\n",
       " (52, 14, 0.6928270635465676),\n",
       " (56, 10, 0.6930944382439431),\n",
       " (54, 12, 0.6942315858009337),\n",
       " (116, 49, 0.6951060094224614),\n",
       " (43, 23, 0.6951321194192037),\n",
       " (44, 22, 0.6952148627400963),\n",
       " (45, 21, 0.6952473782809435),\n",
       " (93, 84, 0.698150680031869),\n",
       " (94, 82, 0.698150680031869),\n",
       " (117, 48, 0.6989972639685532),\n",
       " (53, 13, 0.6994249403001703),\n",
       " (101, 68, 0.7002573521041294),\n",
       " (41, 25, 0.7008764138833132),\n",
       " (125, 40, 0.7013774984423794),\n",
       " (39, 27, 0.7024708643569302),\n",
       " (134, 31, 0.7026330894900665),\n",
       " (115, 50, 0.7026549037908835),\n",
       " (37, 29, 0.7033583086432309),\n",
       " (136, 29, 0.703430583955413),\n",
       " (128, 37, 0.7034393630986709),\n",
       " (114, 51, 0.7034435230724435),\n",
       " (48, 18, 0.7038419807432407),\n",
       " (18, 48, 0.7039562766361762),\n",
       " (131, 34, 0.7042330207525148),\n",
       " (79, 112, 0.7044415910693869),\n",
       " (80, 110, 0.7044415910693869),\n",
       " (30, 36, 0.7046571806816342),\n",
       " (95, 80, 0.7047447675528025),\n",
       " (86, 98, 0.7048508534316642),\n",
       " (85, 100, 0.705235238513164),\n",
       " (50, 16, 0.7053418598168429),\n",
       " (4, 62, 0.7057837774832159),\n",
       " (5, 61, 0.7057837774832159),\n",
       " (6, 60, 0.7057837774832159),\n",
       " (87, 96, 0.7058785410687077),\n",
       " (105, 60, 0.7061028762771445),\n",
       " (107, 56, 0.7061576854007915),\n",
       " (109, 56, 0.7061576854007915),\n",
       " (110, 55, 0.7061576854007915),\n",
       " (33, 33, 0.7062258548954056),\n",
       " (9, 57, 0.7069312581193508),\n",
       " (10, 56, 0.7069312581193508),\n",
       " (98, 74, 0.7069523446087685),\n",
       " (34, 32, 0.7070209033977396),\n",
       " (24, 42, 0.7073193181415628),\n",
       " (38, 28, 0.7075235355774625),\n",
       " (121, 44, 0.7076620650009715),\n",
       " (120, 45, 0.7077497597920918),\n",
       " (122, 43, 0.7080187514284342),\n",
       " (102, 66, 0.7082115964151094),\n",
       " (47, 19, 0.7082500311730877),\n",
       " (36, 30, 0.7082638495300388),\n",
       " (118, 47, 0.7082870590930682),\n",
       " (119, 46, 0.7082870590930682),\n",
       " (124, 41, 0.708480381398117),\n",
       " (96, 78, 0.7086082496900795),\n",
       " (97, 76, 0.7086082496900795),\n",
       " (135, 30, 0.7088080371166002),\n",
       " (127, 38, 0.7088343002776093),\n",
       " (92, 86, 0.7090682248953973),\n",
       " (29, 37, 0.7090893806143211),\n",
       " (60, 151, 0.7091159731236308),\n",
       " (61, 148, 0.7091159731236308),\n",
       " (62, 146, 0.7091159731236308),\n",
       " (63, 144, 0.7091159731236308),\n",
       " (64, 142, 0.7091159731236308),\n",
       " (65, 140, 0.7091159731236308),\n",
       " (66, 138, 0.7091159731236308),\n",
       " (67, 136, 0.7091159731236308),\n",
       " (68, 134, 0.7091159731236308),\n",
       " (69, 132, 0.7091159731236308),\n",
       " (70, 130, 0.7091159731236308),\n",
       " (71, 128, 0.7091159731236308),\n",
       " (72, 126, 0.7091159731236308),\n",
       " (73, 124, 0.7091159731236308),\n",
       " (74, 122, 0.7091159731236308),\n",
       " (75, 120, 0.7091159731236308),\n",
       " (76, 118, 0.7091159731236308),\n",
       " (77, 116, 0.7091159731236308),\n",
       " (78, 114, 0.7091159731236308),\n",
       " (27, 39, 0.7096754454518515),\n",
       " (26, 40, 0.7097172323475257),\n",
       " (103, 64, 0.7097508794088901),\n",
       " (113, 52, 0.709785676837064),\n",
       " (81, 108, 0.7098181621468608),\n",
       " (137, 28, 0.7098428555615808),\n",
       " (126, 39, 0.7099783942739853),\n",
       " (111, 54, 0.7099997970824078),\n",
       " (130, 35, 0.7100046555180036),\n",
       " (132, 33, 0.7110375974921718),\n",
       " (19, 47, 0.7111236386200951),\n",
       " (82, 106, 0.7112447618013472),\n",
       " (83, 104, 0.7112447618013472),\n",
       " (84, 102, 0.7112447618013472),\n",
       " (16, 50, 0.7113234977745666),\n",
       " (133, 32, 0.7113359282518691),\n",
       " (31, 35, 0.7113684910739257),\n",
       " (35, 31, 0.7118153154896826),\n",
       " (17, 49, 0.712057829733226),\n",
       " (28, 38, 0.7122183118517516),\n",
       " (88, 94, 0.7131165614285352),\n",
       " (89, 92, 0.7131165614285352),\n",
       " (123, 42, 0.7132857979642814),\n",
       " (0, 66, 0.7134470032687026),\n",
       " (1, 65, 0.7134470032687026),\n",
       " (2, 64, 0.7134470032687026),\n",
       " (3, 63, 0.7134470032687026),\n",
       " (99, 72, 0.7134768401121913),\n",
       " (100, 70, 0.7134824401856049),\n",
       " (112, 53, 0.7136470512122639),\n",
       " (108, 57, 0.7139643001020857),\n",
       " (129, 36, 0.7140522761037731),\n",
       " (23, 43, 0.7142321554508169),\n",
       " (7, 59, 0.7143874907742662),\n",
       " (8, 58, 0.7143874907742662),\n",
       " (21, 45, 0.7146022374296066),\n",
       " (32, 34, 0.7147530177059425),\n",
       " (25, 41, 0.7152585866739688),\n",
       " (11, 55, 0.7152919416279985),\n",
       " (12, 54, 0.7152919416279985),\n",
       " (104, 62, 0.7158212710528921),\n",
       " (20, 46, 0.7170102278500308),\n",
       " (90, 90, 0.7178032288989638),\n",
       " (91, 88, 0.7178032288989638),\n",
       " (106, 58, 0.7182445839327029),\n",
       " (22, 44, 0.7202840802422474),\n",
       " (13, 53, 0.7208451451826404),\n",
       " (15, 51, 0.7210258723979102),\n",
       " (14, 52, 0.7210344235808268)]"
      ]
     },
     "execution_count": 62,
     "metadata": {},
     "output_type": "execute_result"
    }
   ],
   "source": [
    "sorted([(i, len(item[0]), item[1]) for (i, item) in enumerate(res)], key=lambda x: x[2])"
   ]
  },
  {
   "cell_type": "code",
   "execution_count": 49,
   "metadata": {
    "hidden": true
   },
   "outputs": [
    {
     "name": "stdout",
     "output_type": "stream",
     "text": [
      "RUNNING: data10_feature_selection1_153\n",
      "score=0.7091159731236308\n"
     ]
    }
   ],
   "source": [
    "features = feature_sets['all'] | ORIGINAL_FEATURES | FOI_FEATURES\n",
    "best_features, score = run_model(train, f'data10_feature_selection1_{len(features)}', 0.25,\n",
    "                                 list(features), dict())"
   ]
  },
  {
   "cell_type": "code",
   "execution_count": 59,
   "metadata": {
    "hidden": true
   },
   "outputs": [],
   "source": [
    "best_features = res[106][0]"
   ]
  },
  {
   "cell_type": "code",
   "execution_count": 60,
   "metadata": {
    "collapsed": true,
    "hidden": true
   },
   "outputs": [
    {
     "name": "stdout",
     "output_type": "stream",
     "text": [
      "RUNNING: data10_feature_selection2_57\n",
      "score=0.7139643001020857\n",
      "RUNNING: data10_feature_selection2_56\n",
      "score=0.7061576854007915\n",
      "RUNNING: data10_feature_selection2_55\n",
      "score=0.7061576854007915\n",
      "RUNNING: data10_feature_selection2_54\n",
      "score=0.7099997970824078\n",
      "RUNNING: data10_feature_selection2_53\n",
      "score=0.7136470512122639\n",
      "RUNNING: data10_feature_selection2_52\n",
      "score=0.709785676837064\n",
      "RUNNING: data10_feature_selection2_51\n",
      "score=0.7034435230724435\n",
      "RUNNING: data10_feature_selection2_50\n",
      "score=0.7026549037908835\n",
      "RUNNING: data10_feature_selection2_49\n",
      "score=0.6951060094224614\n",
      "RUNNING: data10_feature_selection2_48\n",
      "score=0.6989972639685532\n",
      "RUNNING: data10_feature_selection2_47\n",
      "score=0.7082870590930682\n",
      "RUNNING: data10_feature_selection2_46\n",
      "score=0.7082870590930682\n",
      "RUNNING: data10_feature_selection2_45\n",
      "score=0.7077497597920918\n",
      "RUNNING: data10_feature_selection2_44\n",
      "score=0.7076620650009715\n",
      "RUNNING: data10_feature_selection2_43\n",
      "score=0.7080187514284342\n",
      "RUNNING: data10_feature_selection2_42\n",
      "score=0.7132857979642814\n",
      "RUNNING: data10_feature_selection2_41\n",
      "score=0.708480381398117\n",
      "RUNNING: data10_feature_selection2_40\n",
      "score=0.7013774984423794\n",
      "RUNNING: data10_feature_selection2_39\n",
      "score=0.7099783942739853\n",
      "RUNNING: data10_feature_selection2_38\n",
      "score=0.7088343002776093\n",
      "RUNNING: data10_feature_selection2_37\n",
      "score=0.7034393630986709\n",
      "RUNNING: data10_feature_selection2_36\n",
      "score=0.7140522761037731\n",
      "RUNNING: data10_feature_selection2_35\n",
      "score=0.7100046555180036\n",
      "RUNNING: data10_feature_selection2_34\n",
      "score=0.7042330207525148\n",
      "RUNNING: data10_feature_selection2_33\n",
      "score=0.7110375974921718\n",
      "RUNNING: data10_feature_selection2_32\n",
      "score=0.7113359282518691\n",
      "RUNNING: data10_feature_selection2_31\n",
      "score=0.7026330894900665\n",
      "RUNNING: data10_feature_selection2_30\n",
      "score=0.7088080371166002\n",
      "RUNNING: data10_feature_selection2_29\n",
      "score=0.703430583955413\n",
      "RUNNING: data10_feature_selection2_28\n",
      "score=0.7098428555615808\n",
      "CPU times: user 1h 43min 33s, sys: 28.3 s, total: 1h 44min 1s\n",
      "Wall time: 35min 14s\n"
     ]
    }
   ],
   "source": [
    "%%time\n",
    "#res = []\n",
    "#best_features = best_features_67\n",
    "\n",
    "for i in range(30):\n",
    "    best_features = best_features[:-1]\n",
    "    best_features, score = run_model(train, f'data10_feature_selection2_{len(best_features)}', 0.25,\n",
    "                                     list(best_features.index), dict())\n",
    "    res.append([best_features, score])"
   ]
  },
  {
   "cell_type": "code",
   "execution_count": 68,
   "metadata": {
    "hidden": true,
    "scrolled": false
   },
   "outputs": [
    {
     "data": {
      "text/plain": [
       "<matplotlib.axes._subplots.AxesSubplot at 0x7fd5b429bb38>"
      ]
     },
     "execution_count": 68,
     "metadata": {},
     "output_type": "execute_result"
    },
    {
     "data": {
      "image/png": "[encoded data removed]",
      "text/plain": [
       "<Figure size 1080x360 with 1 Axes>"
      ]
     },
     "metadata": {
      "needs_background": "light"
     },
     "output_type": "display_data"
    }
   ],
   "source": [
    "#best_features = pd.DataFrame(models).set_index('name').loc['f45_s75_e100_PION'].best_features\n",
    "best_features = SIMPLE_FEATURES_52\n",
    "best_features.plot(kind='bar', grid=True, figsize=(15,5))"
   ]
  },
  {
   "cell_type": "code",
   "execution_count": 70,
   "metadata": {
    "hidden": true
   },
   "outputs": [
    {
     "data": {
      "text/plain": [
       "52"
      ]
     },
     "execution_count": 70,
     "metadata": {},
     "output_type": "execute_result"
    }
   ],
   "source": [
    "len(best_features[best_features>0.05*best_features.iloc[2]])"
   ]
  },
  {
   "cell_type": "markdown",
   "metadata": {
    "heading_collapsed": true,
    "hidden": true
   },
   "source": [
    "##### Тестирование порога"
   ]
  },
  {
   "cell_type": "code",
   "execution_count": 161,
   "metadata": {
    "hidden": true
   },
   "outputs": [],
   "source": [
    "train_part, validation = train_test_split(train[['particle_type', 'label', 'weight']], test_size=0.25, shuffle=True, random_state=0)"
   ]
  },
  {
   "cell_type": "code",
   "execution_count": 206,
   "metadata": {
    "hidden": true
   },
   "outputs": [],
   "source": [
    "proton_val_predictions = pd.DataFrame(models).set_index('name').loc['data10_feature_selection_45_PROTON'].validation_predictions\n",
    "pion_val_predictions = pd.DataFrame(models).set_index('name').loc['data10_feature_selection_45_PION'].validation_predictions\n",
    "ref_val_predictions = pd.DataFrame(models).set_index('name').loc['data10_feature_selection_45_REF'].validation_predictions"
   ]
  },
  {
   "cell_type": "code",
   "execution_count": 186,
   "metadata": {
    "hidden": true
   },
   "outputs": [],
   "source": [
    "def get_combined_score(predictions2, predictions0, labels, weights, threshold):\n",
    "    predictions0_ = predictions0.copy()\n",
    "    predictions0_[predictions2<threshold] = 1\n",
    "    score = scoring.rejection90(labels, predictions2*predictions0_, sample_weight=weights)\n",
    "    return score"
   ]
  },
  {
   "cell_type": "code",
   "execution_count": 207,
   "metadata": {
    "hidden": true
   },
   "outputs": [],
   "source": [
    "scores = [get_combined_score(proton_val_predictions, pion_val_predictions, \n",
    "                    validation.label.values, validation.weight.values, threshold) for threshold in np.linspace(0,1,101)]"
   ]
  },
  {
   "cell_type": "code",
   "execution_count": 208,
   "metadata": {
    "hidden": true
   },
   "outputs": [
    {
     "data": {
      "text/plain": [
       "[<matplotlib.lines.Line2D at 0x7fe2efeae588>]"
      ]
     },
     "execution_count": 208,
     "metadata": {},
     "output_type": "execute_result"
    },
    {
     "data": {
      "image/png": "[encoded data removed]",
      "text/plain": [
       "<Figure size 432x288 with 1 Axes>"
      ]
     },
     "metadata": {
      "needs_background": "light"
     },
     "output_type": "display_data"
    }
   ],
   "source": [
    "plt.plot(np.linspace(0,1,101), scores)"
   ]
  },
  {
   "cell_type": "code",
   "execution_count": 209,
   "metadata": {
    "hidden": true
   },
   "outputs": [
    {
     "data": {
      "text/plain": [
       "0.7192684213087752"
      ]
     },
     "execution_count": 209,
     "metadata": {},
     "output_type": "execute_result"
    }
   ],
   "source": [
    "scoring.rejection90((validation.particle_type==1).values, proton_val_predictions*pion_val_predictions, sample_weight=validation.weight.values)"
   ]
  },
  {
   "cell_type": "markdown",
   "metadata": {
    "heading_collapsed": true,
    "hidden": true
   },
   "source": [
    "##### Выбор лучших наборов признаков"
   ]
  },
  {
   "cell_type": "code",
   "execution_count": 229,
   "metadata": {
    "hidden": true
   },
   "outputs": [],
   "source": [
    "pion_model_names = [model['name'] for model in models[-19:len(models):3]]\n",
    "proton_model_names = [model['name'] for model in models[-20:len(models):3]]"
   ]
  },
  {
   "cell_type": "code",
   "execution_count": 240,
   "metadata": {
    "hidden": true
   },
   "outputs": [],
   "source": [
    "res = []\n",
    "for proton_model_name in proton_model_names:\n",
    "    for pion_model_name in pion_model_names:\n",
    "        proton_val_predictions = pd.DataFrame(models).set_index('name').loc[proton_model_name].validation_predictions\n",
    "        pion_val_predictions = pd.DataFrame(models).set_index('name').loc[pion_model_name].validation_predictions\n",
    "        score = scoring.rejection90(validation.label.values, proton_val_predictions*pion_val_predictions, sample_weight=validation.weight.values)\n",
    "        res.append([proton_model_name, pion_model_name, score])"
   ]
  },
  {
   "cell_type": "code",
   "execution_count": 248,
   "metadata": {
    "hidden": true
   },
   "outputs": [
    {
     "data": {
      "text/html": [
       "<div>\n",
       "<style scoped>\n",
       "    .dataframe tbody tr th:only-of-type {\n",
       "        vertical-align: middle;\n",
       "    }\n",
       "\n",
       "    .dataframe tbody tr th {\n",
       "        vertical-align: top;\n",
       "    }\n",
       "\n",
       "    .dataframe thead th {\n",
       "        text-align: right;\n",
       "    }\n",
       "</style>\n",
       "<table border=\"1\" class=\"dataframe\">\n",
       "  <thead>\n",
       "    <tr style=\"text-align: right;\">\n",
       "      <th></th>\n",
       "      <th>0</th>\n",
       "      <th>1</th>\n",
       "      <th>2</th>\n",
       "    </tr>\n",
       "  </thead>\n",
       "  <tbody>\n",
       "    <tr>\n",
       "      <th>21</th>\n",
       "      <td>data10_feature_selection_60_PROTON</td>\n",
       "      <td>data10_feature_selection_153_PION</td>\n",
       "      <td>0.729134</td>\n",
       "    </tr>\n",
       "    <tr>\n",
       "      <th>42</th>\n",
       "      <td>data10_feature_selection_SF45_PROTON</td>\n",
       "      <td>data10_feature_selection_153_PION</td>\n",
       "      <td>0.725809</td>\n",
       "    </tr>\n",
       "    <tr>\n",
       "      <th>12</th>\n",
       "      <td>data10_feature_selection_100_PROTON</td>\n",
       "      <td>data10_feature_selection_45_PION</td>\n",
       "      <td>0.723284</td>\n",
       "    </tr>\n",
       "    <tr>\n",
       "      <th>7</th>\n",
       "      <td>data10_feature_selection_100_PROTON</td>\n",
       "      <td>data10_feature_selection_153_PION</td>\n",
       "      <td>0.722744</td>\n",
       "    </tr>\n",
       "    <tr>\n",
       "      <th>25</th>\n",
       "      <td>data10_feature_selection_60_PROTON</td>\n",
       "      <td>data10_feature_selection_50_PION</td>\n",
       "      <td>0.722386</td>\n",
       "    </tr>\n",
       "    <tr>\n",
       "      <th>26</th>\n",
       "      <td>data10_feature_selection_60_PROTON</td>\n",
       "      <td>data10_feature_selection_45_PION</td>\n",
       "      <td>0.722268</td>\n",
       "    </tr>\n",
       "    <tr>\n",
       "      <th>24</th>\n",
       "      <td>data10_feature_selection_60_PROTON</td>\n",
       "      <td>data10_feature_selection_60_PION</td>\n",
       "      <td>0.721401</td>\n",
       "    </tr>\n",
       "    <tr>\n",
       "      <th>43</th>\n",
       "      <td>data10_feature_selection_SF45_PROTON</td>\n",
       "      <td>data10_feature_selection_100_PION</td>\n",
       "      <td>0.720996</td>\n",
       "    </tr>\n",
       "    <tr>\n",
       "      <th>11</th>\n",
       "      <td>data10_feature_selection_100_PROTON</td>\n",
       "      <td>data10_feature_selection_50_PION</td>\n",
       "      <td>0.720859</td>\n",
       "    </tr>\n",
       "    <tr>\n",
       "      <th>10</th>\n",
       "      <td>data10_feature_selection_100_PROTON</td>\n",
       "      <td>data10_feature_selection_60_PION</td>\n",
       "      <td>0.720282</td>\n",
       "    </tr>\n",
       "  </tbody>\n",
       "</table>\n",
       "</div>"
      ],
      "text/plain": [
       "                                       0                                  1  \\\n",
       "21    data10_feature_selection_60_PROTON  data10_feature_selection_153_PION   \n",
       "42  data10_feature_selection_SF45_PROTON  data10_feature_selection_153_PION   \n",
       "12   data10_feature_selection_100_PROTON   data10_feature_selection_45_PION   \n",
       "7    data10_feature_selection_100_PROTON  data10_feature_selection_153_PION   \n",
       "25    data10_feature_selection_60_PROTON   data10_feature_selection_50_PION   \n",
       "26    data10_feature_selection_60_PROTON   data10_feature_selection_45_PION   \n",
       "24    data10_feature_selection_60_PROTON   data10_feature_selection_60_PION   \n",
       "43  data10_feature_selection_SF45_PROTON  data10_feature_selection_100_PION   \n",
       "11   data10_feature_selection_100_PROTON   data10_feature_selection_50_PION   \n",
       "10   data10_feature_selection_100_PROTON   data10_feature_selection_60_PION   \n",
       "\n",
       "           2  \n",
       "21  0.729134  \n",
       "42  0.725809  \n",
       "12  0.723284  \n",
       "7   0.722744  \n",
       "25  0.722386  \n",
       "26  0.722268  \n",
       "24  0.721401  \n",
       "43  0.720996  \n",
       "11  0.720859  \n",
       "10  0.720282  "
      ]
     },
     "execution_count": 248,
     "metadata": {},
     "output_type": "execute_result"
    }
   ],
   "source": [
    "pd.DataFrame(res).sort_values(2, ascending=False).head(10)"
   ]
  },
  {
   "cell_type": "markdown",
   "metadata": {
    "hidden": true
   },
   "source": [
    "Попробуем выбрать лучшие модели независимо"
   ]
  },
  {
   "cell_type": "code",
   "execution_count": 231,
   "metadata": {
    "hidden": true
   },
   "outputs": [
    {
     "data": {
      "text/html": [
       "<div>\n",
       "<style scoped>\n",
       "    .dataframe tbody tr th:only-of-type {\n",
       "        vertical-align: middle;\n",
       "    }\n",
       "\n",
       "    .dataframe tbody tr th {\n",
       "        vertical-align: top;\n",
       "    }\n",
       "\n",
       "    .dataframe thead th {\n",
       "        text-align: right;\n",
       "    }\n",
       "</style>\n",
       "<table border=\"1\" class=\"dataframe\">\n",
       "  <thead>\n",
       "    <tr style=\"text-align: right;\">\n",
       "      <th></th>\n",
       "      <th>0</th>\n",
       "      <th>1</th>\n",
       "    </tr>\n",
       "  </thead>\n",
       "  <tbody>\n",
       "    <tr>\n",
       "      <th>6</th>\n",
       "      <td>data10_feature_selection_SF45_PROTON</td>\n",
       "      <td>0.760183</td>\n",
       "    </tr>\n",
       "    <tr>\n",
       "      <th>4</th>\n",
       "      <td>data10_feature_selection_50_PROTON</td>\n",
       "      <td>0.792044</td>\n",
       "    </tr>\n",
       "    <tr>\n",
       "      <th>1</th>\n",
       "      <td>data10_feature_selection_100_PROTON</td>\n",
       "      <td>0.794396</td>\n",
       "    </tr>\n",
       "    <tr>\n",
       "      <th>5</th>\n",
       "      <td>data10_feature_selection_45_PROTON</td>\n",
       "      <td>0.795741</td>\n",
       "    </tr>\n",
       "    <tr>\n",
       "      <th>3</th>\n",
       "      <td>data10_feature_selection_60_PROTON</td>\n",
       "      <td>0.796522</td>\n",
       "    </tr>\n",
       "    <tr>\n",
       "      <th>2</th>\n",
       "      <td>data10_feature_selection_80_PROTON</td>\n",
       "      <td>0.799090</td>\n",
       "    </tr>\n",
       "    <tr>\n",
       "      <th>0</th>\n",
       "      <td>data10_feature_selection_153_PROTON</td>\n",
       "      <td>0.806410</td>\n",
       "    </tr>\n",
       "  </tbody>\n",
       "</table>\n",
       "</div>"
      ],
      "text/plain": [
       "                                      0         1\n",
       "6  data10_feature_selection_SF45_PROTON  0.760183\n",
       "4    data10_feature_selection_50_PROTON  0.792044\n",
       "1   data10_feature_selection_100_PROTON  0.794396\n",
       "5    data10_feature_selection_45_PROTON  0.795741\n",
       "3    data10_feature_selection_60_PROTON  0.796522\n",
       "2    data10_feature_selection_80_PROTON  0.799090\n",
       "0   data10_feature_selection_153_PROTON  0.806410"
      ]
     },
     "execution_count": 231,
     "metadata": {},
     "output_type": "execute_result"
    }
   ],
   "source": [
    "pd.DataFrame([(model['name'], model['score']) for model in models[-20:len(models):3]]).sort_values(1)"
   ]
  },
  {
   "cell_type": "code",
   "execution_count": 226,
   "metadata": {
    "hidden": true
   },
   "outputs": [],
   "source": [
    "proton_val_predictions = pd.DataFrame(models).set_index('name').loc['data10_feature_selection_80_PROTON'].validation_predictions\n",
    "pion_val_predictions = pd.DataFrame(models).set_index('name').loc['data10_feature_selection_50_PION'].validation_predictions"
   ]
  },
  {
   "cell_type": "code",
   "execution_count": 227,
   "metadata": {
    "hidden": true
   },
   "outputs": [
    {
     "data": {
      "text/plain": [
       "0.7166872568166947"
      ]
     },
     "execution_count": 227,
     "metadata": {},
     "output_type": "execute_result"
    }
   ],
   "source": [
    "get_combined_score(proton_val_predictions, pion_val_predictions, validation.label.values, validation.weight.values, 0)"
   ]
  },
  {
   "cell_type": "code",
   "execution_count": 228,
   "metadata": {
    "hidden": true
   },
   "outputs": [
    {
     "data": {
      "text/plain": [
       "0.7166872568166947"
      ]
     },
     "execution_count": 228,
     "metadata": {},
     "output_type": "execute_result"
    }
   ],
   "source": [
    "scoring.rejection90(validation.label.values, proton_val_predictions*pion_val_predictions, sample_weight=validation.weight.values)"
   ]
  },
  {
   "cell_type": "markdown",
   "metadata": {
    "hidden": true
   },
   "source": [
    "Результат получается хуже, чем просто SIMPLE_FEATURES_45"
   ]
  },
  {
   "cell_type": "markdown",
   "metadata": {
    "heading_collapsed": true
   },
   "source": [
    "#### Настройка модели"
   ]
  },
  {
   "cell_type": "code",
   "execution_count": 75,
   "metadata": {
    "hidden": true
   },
   "outputs": [],
   "source": [
    "train_part, validation = train_test_split(train, test_size=0.25, shuffle=True, random_state=0)"
   ]
  },
  {
   "cell_type": "code",
   "execution_count": 112,
   "metadata": {
    "hidden": true
   },
   "outputs": [
    {
     "data": {
      "text/plain": [
       "0.7210344235808268"
      ]
     },
     "execution_count": 112,
     "metadata": {},
     "output_type": "execute_result"
    }
   ],
   "source": [
    "res[14][1]"
   ]
  },
  {
   "cell_type": "code",
   "execution_count": null,
   "metadata": {
    "hidden": true
   },
   "outputs": [],
   "source": [
    "xgboost.XGBClassifier()"
   ]
  },
  {
   "cell_type": "code",
   "execution_count": 116,
   "metadata": {
    "hidden": true
   },
   "outputs": [
    {
     "name": "stdout",
     "output_type": "stream",
     "text": [
      "RUNNING: test_model\n",
      "n_estimators 40\n",
      "score=0.6923811297484093\n"
     ]
    }
   ],
   "source": [
    "xgb_params = {\n",
    "#    'max_depth': 7,\n",
    "#    'min_child_weight': 1,\n",
    "#    'gamma': 0,\n",
    "#    'colsample_bytree': 0.9,\n",
    "#    'subsample': 0.6,\n",
    "#    'reg_alpha':100,\n",
    "    'learning_rate':0.3,\n",
    "    'n_estimators': 5000\n",
    "}\n",
    "\n",
    "run_model(train_part, validation, 'test_model', \n",
    "          list(SIMPLE_FEATURES_52.index), xgb_params);"
   ]
  },
  {
   "cell_type": "code",
   "execution_count": 108,
   "metadata": {
    "hidden": true
   },
   "outputs": [
    {
     "name": "stdout",
     "output_type": "stream",
     "text": [
      "RUNNING: test_model\n",
      "n_estimators 431\n",
      "score=0.7385858988694158\n"
     ]
    }
   ],
   "source": [
    "xgb_params = {\n",
    "#    'max_depth': 7,\n",
    "#    'min_child_weight': 1,\n",
    "#    'gamma': 0,\n",
    "#    'colsample_bytree': 0.9,\n",
    "#    'subsample': 0.6,\n",
    "#    'reg_alpha':100,\n",
    "    'n_estimators': 5000\n",
    "}\n",
    "\n",
    "run_model(train_part, validation, 'test_model', \n",
    "          list(SIMPLE_FEATURES_52.index), xgb_params);"
   ]
  },
  {
   "cell_type": "code",
   "execution_count": 119,
   "metadata": {
    "hidden": true
   },
   "outputs": [
    {
     "name": "stdout",
     "output_type": "stream",
     "text": [
      "Fitting 3 folds for each of 12 candidates, totalling 36 fits\n",
      "[CV] max_depth=3, min_child_weight=1 .................................\n",
      "[CV] max_depth=3, min_child_weight=1 .................................\n",
      "[CV] max_depth=3, min_child_weight=1 .................................\n",
      "[CV]  max_depth=3, min_child_weight=1, score=0.6485110470701249, total=  58.7s\n",
      "[CV] max_depth=3, min_child_weight=3 .................................\n",
      "[CV]  max_depth=3, min_child_weight=1, score=0.6626320845341018, total= 1.1min\n",
      "[CV] max_depth=3, min_child_weight=3 .................................\n"
     ]
    },
    {
     "name": "stderr",
     "output_type": "stream",
     "text": [
      "[Parallel(n_jobs=3)]: Done   2 tasks      | elapsed:  1.2min\n"
     ]
    },
    {
     "name": "stdout",
     "output_type": "stream",
     "text": [
      "[CV]  max_depth=3, min_child_weight=1, score=0.650240153698367, total= 1.2min\n",
      "[CV] max_depth=3, min_child_weight=3 .................................\n",
      "[CV]  max_depth=3, min_child_weight=3, score=0.6626320845341018, total= 1.0min\n",
      "[CV] max_depth=3, min_child_weight=5 .................................\n",
      "[CV]  max_depth=3, min_child_weight=3, score=0.6485110470701249, total= 1.1min\n",
      "[CV] max_depth=3, min_child_weight=5 .................................\n",
      "[CV]  max_depth=3, min_child_weight=3, score=0.650240153698367, total= 1.2min\n",
      "[CV] max_depth=3, min_child_weight=5 .................................\n",
      "[CV]  max_depth=3, min_child_weight=5, score=0.6626320845341018, total= 1.2min\n",
      "[CV] max_depth=5, min_child_weight=1 .................................\n",
      "[CV]  max_depth=3, min_child_weight=5, score=0.6485110470701249, total=  58.5s\n",
      "[CV] max_depth=5, min_child_weight=1 .................................\n"
     ]
    },
    {
     "name": "stderr",
     "output_type": "stream",
     "text": [
      "[Parallel(n_jobs=3)]: Done   7 tasks      | elapsed:  3.2min\n"
     ]
    },
    {
     "name": "stdout",
     "output_type": "stream",
     "text": [
      "[CV]  max_depth=3, min_child_weight=5, score=0.6501440922190201, total= 1.2min\n",
      "[CV] max_depth=5, min_child_weight=1 .................................\n",
      "[CV]  max_depth=5, min_child_weight=1, score=0.6666666666666666, total= 1.7min\n",
      "[CV] max_depth=5, min_child_weight=3 .................................\n",
      "[CV]  max_depth=5, min_child_weight=1, score=0.6585014409221902, total= 1.9min\n",
      "[CV] max_depth=5, min_child_weight=3 .................................\n",
      "[CV]  max_depth=5, min_child_weight=1, score=0.6538904899135447, total= 2.0min\n",
      "[CV] max_depth=5, min_child_weight=3 .................................\n"
     ]
    },
    {
     "name": "stderr",
     "output_type": "stream",
     "text": [
      "[Parallel(n_jobs=3)]: Done  12 tasks      | elapsed:  5.5min\n"
     ]
    },
    {
     "name": "stdout",
     "output_type": "stream",
     "text": [
      "[CV]  max_depth=5, min_child_weight=3, score=0.6643611911623439, total= 2.0min\n",
      "[CV] max_depth=5, min_child_weight=5 .................................\n",
      "[CV]  max_depth=5, min_child_weight=3, score=0.6569644572526417, total= 1.9min\n",
      "[CV] max_depth=5, min_child_weight=5 .................................\n",
      "[CV]  max_depth=5, min_child_weight=3, score=0.6565802113352546, total= 1.7min\n",
      "[CV] max_depth=5, min_child_weight=5 .................................\n",
      "[CV]  max_depth=5, min_child_weight=5, score=0.6658981748318924, total= 1.9min\n",
      "[CV] max_depth=7, min_child_weight=1 .................................\n",
      "[CV]  max_depth=5, min_child_weight=5, score=0.6535062439961575, total= 1.9min\n",
      "[CV] max_depth=7, min_child_weight=1 .................................\n",
      "[CV]  max_depth=5, min_child_weight=5, score=0.6562920268972142, total= 1.8min\n",
      "[CV] max_depth=7, min_child_weight=1 .................................\n",
      "[CV]  max_depth=7, min_child_weight=1, score=0.6600384245917387, total= 2.8min\n",
      "[CV] max_depth=7, min_child_weight=3 .................................\n"
     ]
    },
    {
     "name": "stderr",
     "output_type": "stream",
     "text": [
      "[Parallel(n_jobs=3)]: Done  19 tasks      | elapsed: 11.6min\n"
     ]
    },
    {
     "name": "stdout",
     "output_type": "stream",
     "text": [
      "[CV]  max_depth=7, min_child_weight=1, score=0.6560999039385207, total= 2.9min\n",
      "[CV] max_depth=7, min_child_weight=3 .................................\n",
      "[CV]  max_depth=7, min_child_weight=1, score=0.6506243996157541, total= 2.9min\n",
      "[CV] max_depth=7, min_child_weight=3 .................................\n",
      "[CV]  max_depth=7, min_child_weight=3, score=0.6595581171950048, total= 3.0min\n",
      "[CV] max_depth=7, min_child_weight=5 .................................\n",
      "[CV]  max_depth=7, min_child_weight=3, score=0.6498559077809798, total= 2.7min\n",
      "[CV] max_depth=7, min_child_weight=5 .................................\n",
      "[CV]  max_depth=7, min_child_weight=3, score=0.6544668587896254, total= 2.7min\n",
      "[CV] max_depth=7, min_child_weight=5 .................................\n",
      "[CV]  max_depth=7, min_child_weight=5, score=0.6546589817483189, total= 2.6min\n",
      "[CV] max_depth=9, min_child_weight=1 .................................\n",
      "[CV]  max_depth=7, min_child_weight=5, score=0.6600384245917387, total= 2.9min\n",
      "[CV] max_depth=9, min_child_weight=1 .................................\n"
     ]
    },
    {
     "name": "stderr",
     "output_type": "stream",
     "text": [
      "[Parallel(n_jobs=3)]: Done  26 tasks      | elapsed: 17.5min\n"
     ]
    },
    {
     "name": "stdout",
     "output_type": "stream",
     "text": [
      "[CV]  max_depth=7, min_child_weight=5, score=0.6525456292026898, total= 3.0min\n",
      "[CV] max_depth=9, min_child_weight=1 .................................\n",
      "[CV]  max_depth=9, min_child_weight=1, score=0.6450528338136408, total= 3.8min\n",
      "[CV] max_depth=9, min_child_weight=3 .................................\n",
      "[CV]  max_depth=9, min_child_weight=1, score=0.6517771373679154, total= 4.2min\n",
      "[CV] max_depth=9, min_child_weight=3 .................................\n",
      "[CV]  max_depth=9, min_child_weight=1, score=0.6387127761767531, total= 3.9min\n",
      "[CV] max_depth=9, min_child_weight=3 .................................\n",
      "[CV]  max_depth=9, min_child_weight=3, score=0.6473583093179635, total= 3.9min\n",
      "[CV] max_depth=9, min_child_weight=5 .................................\n",
      "[CV]  max_depth=9, min_child_weight=3, score=0.6543707973102786, total= 4.0min\n",
      "[CV] max_depth=9, min_child_weight=5 .................................\n",
      "[CV]  max_depth=9, min_child_weight=3, score=0.6469740634005764, total= 3.9min\n",
      "[CV] max_depth=9, min_child_weight=5 .................................\n",
      "[CV]  max_depth=9, min_child_weight=5, score=0.6512968299711815, total= 3.8min\n",
      "[CV]  max_depth=9, min_child_weight=5, score=0.6514889529298751, total= 3.9min\n",
      "[CV]  max_depth=9, min_child_weight=5, score=0.6504322766570605, total= 3.9min\n"
     ]
    },
    {
     "name": "stderr",
     "output_type": "stream",
     "text": [
      "[Parallel(n_jobs=3)]: Done  36 out of  36 | elapsed: 29.4min finished\n",
      "/home/ak/anaconda3/lib/python3.7/site-packages/sklearn/model_selection/_search.py:762: DeprecationWarning: The grid_scores_ attribute was deprecated in version 0.18 in favor of the more elaborate cv_results_ attribute. The grid_scores_ attribute will not be available from 0.20\n",
      "  DeprecationWarning)\n"
     ]
    },
    {
     "data": {
      "text/plain": [
       "([mean: 0.65379, std: 0.00629, params: {'max_depth': 3, 'min_child_weight': 1},\n",
       "  mean: 0.65379, std: 0.00629, params: {'max_depth': 3, 'min_child_weight': 3},\n",
       "  mean: 0.65376, std: 0.00631, params: {'max_depth': 3, 'min_child_weight': 5},\n",
       "  mean: 0.65969, std: 0.00528, params: {'max_depth': 5, 'min_child_weight': 1},\n",
       "  mean: 0.65930, std: 0.00358, params: {'max_depth': 5, 'min_child_weight': 3},\n",
       "  mean: 0.65857, std: 0.00531, params: {'max_depth': 5, 'min_child_weight': 5},\n",
       "  mean: 0.65559, std: 0.00386, params: {'max_depth': 7, 'min_child_weight': 1},\n",
       "  mean: 0.65463, std: 0.00396, params: {'max_depth': 7, 'min_child_weight': 3},\n",
       "  mean: 0.65575, std: 0.00315, params: {'max_depth': 7, 'min_child_weight': 5},\n",
       "  mean: 0.64518, std: 0.00533, params: {'max_depth': 9, 'min_child_weight': 1},\n",
       "  mean: 0.64957, std: 0.00340, params: {'max_depth': 9, 'min_child_weight': 3},\n",
       "  mean: 0.65107, std: 0.00046, params: {'max_depth': 9, 'min_child_weight': 5}],\n",
       " {'max_depth': 5, 'min_child_weight': 1},\n",
       " 0.6596861991674672)"
      ]
     },
     "execution_count": 119,
     "metadata": {},
     "output_type": "execute_result"
    }
   ],
   "source": [
    "features = list(SIMPLE_FEATURES_52.index)\n",
    "xgb_params = {\n",
    "    'n_estimators': 40,\n",
    "    'learning_rate': 0.3\n",
    "}\n",
    "param_test1 = {\n",
    " 'max_depth': range(3,10,2),\n",
    " 'min_child_weight': range(1,6,2)\n",
    "}\n",
    "\n",
    "gsearch1 = GridSearchCV(estimator = xgboost.XGBClassifier(n_jobs=1, random_state=0, **xgb_params), \n",
    "                        param_grid = param_test1, scoring=scoring.rejection90_sklearn, n_jobs=3, iid=False, cv=3, verbose=10)\n",
    "\n",
    "gsearch1.fit(train_part[features].values, train_part['label'].values, sample_weight=train_part.weight.values)\n",
    "gsearch1.grid_scores_, gsearch1.best_params_, gsearch1.best_score_"
   ]
  },
  {
   "cell_type": "code",
   "execution_count": 121,
   "metadata": {
    "collapsed": true,
    "hidden": true
   },
   "outputs": [
    {
     "name": "stdout",
     "output_type": "stream",
     "text": [
      "Fitting 3 folds for each of 5 candidates, totalling 15 fits\n",
      "[CV] gamma=0.0 .......................................................\n",
      "[CV] gamma=0.0 .......................................................\n",
      "[CV] gamma=0.0 .......................................................\n",
      "[CV] .............. gamma=0.0, score=0.6666666666666666, total= 1.3min\n",
      "[CV] gamma=0.1 .......................................................\n",
      "[CV] .............. gamma=0.0, score=0.6538904899135447, total= 1.9min\n",
      "[CV] gamma=0.1 .......................................................\n"
     ]
    },
    {
     "name": "stderr",
     "output_type": "stream",
     "text": [
      "[Parallel(n_jobs=3)]: Done   2 tasks      | elapsed:  2.0min\n"
     ]
    },
    {
     "name": "stdout",
     "output_type": "stream",
     "text": [
      "[CV] .............. gamma=0.0, score=0.6585014409221902, total= 2.3min\n",
      "[CV] gamma=0.1 .......................................................\n",
      "[CV] .............. gamma=0.1, score=0.6666666666666666, total= 2.3min\n",
      "[CV] gamma=0.2 .......................................................\n",
      "[CV] .............. gamma=0.1, score=0.6538904899135447, total= 1.5min\n",
      "[CV] gamma=0.2 .......................................................\n",
      "[CV] .............. gamma=0.1, score=0.6585014409221902, total= 1.9min\n",
      "[CV] gamma=0.2 .......................................................\n",
      "[CV] .............. gamma=0.2, score=0.6666666666666666, total= 1.7min\n",
      "[CV] gamma=0.3 .......................................................\n"
     ]
    },
    {
     "name": "stderr",
     "output_type": "stream",
     "text": [
      "[Parallel(n_jobs=3)]: Done   7 tasks      | elapsed:  5.3min\n"
     ]
    },
    {
     "name": "stdout",
     "output_type": "stream",
     "text": [
      "[CV] .............. gamma=0.2, score=0.6538904899135447, total= 1.9min\n",
      "[CV] gamma=0.3 .......................................................\n",
      "[CV] .............. gamma=0.2, score=0.6585014409221902, total= 2.2min\n",
      "[CV] gamma=0.3 .......................................................\n",
      "[CV] .............. gamma=0.3, score=0.6666666666666666, total= 1.8min\n",
      "[CV] gamma=0.4 .......................................................\n",
      "[CV] .............. gamma=0.3, score=0.6585014409221902, total= 1.6min\n",
      "[CV] gamma=0.4 .......................................................\n",
      "[CV] .............. gamma=0.3, score=0.6538904899135447, total= 2.3min\n",
      "[CV] gamma=0.4 .......................................................\n"
     ]
    },
    {
     "name": "stderr",
     "output_type": "stream",
     "text": [
      "[Parallel(n_jobs=3)]: Done  12 out of  15 | elapsed:  8.4min remaining:  2.1min\n"
     ]
    },
    {
     "name": "stdout",
     "output_type": "stream",
     "text": [
      "[CV] .............. gamma=0.4, score=0.6585014409221902, total= 1.3min\n",
      "[CV] .............. gamma=0.4, score=0.6666666666666666, total= 2.0min\n",
      "[CV] .............. gamma=0.4, score=0.6538904899135447, total=  59.0s\n"
     ]
    },
    {
     "name": "stderr",
     "output_type": "stream",
     "text": [
      "[Parallel(n_jobs=3)]: Done  15 out of  15 | elapsed:  9.4min finished\n",
      "/home/ak/anaconda3/lib/python3.7/site-packages/sklearn/model_selection/_search.py:762: DeprecationWarning: The grid_scores_ attribute was deprecated in version 0.18 in favor of the more elaborate cv_results_ attribute. The grid_scores_ attribute will not be available from 0.20\n",
      "  DeprecationWarning)\n"
     ]
    },
    {
     "data": {
      "text/plain": [
       "([mean: 0.65969, std: 0.00528, params: {'gamma': 0.0},\n",
       "  mean: 0.65969, std: 0.00528, params: {'gamma': 0.1},\n",
       "  mean: 0.65969, std: 0.00528, params: {'gamma': 0.2},\n",
       "  mean: 0.65969, std: 0.00528, params: {'gamma': 0.3},\n",
       "  mean: 0.65969, std: 0.00528, params: {'gamma': 0.4}],\n",
       " {'gamma': 0.0},\n",
       " 0.6596861991674672)"
      ]
     },
     "execution_count": 121,
     "metadata": {},
     "output_type": "execute_result"
    }
   ],
   "source": [
    "features = list(SIMPLE_FEATURES_52.index)\n",
    "xgb_params = {\n",
    "    'max_depth': 5,\n",
    "    'min_child_weight': 1,\n",
    "    'n_estimators': 40,\n",
    "    'learning_rate': 0.3\n",
    "}\n",
    "param_test3 = {\n",
    "    'gamma':[i/10.0 for i in range(0,5)]\n",
    "}\n",
    "\n",
    "gsearch1 = GridSearchCV(estimator = xgboost.XGBClassifier(n_jobs=3, random_state=0, **xgb_params), \n",
    "                        param_grid = param_test3, scoring=scoring.rejection90_sklearn, n_jobs=3, iid=False, cv=3, verbose=10)\n",
    "\n",
    "gsearch1.fit(train_part[features].values, train_part['label'].values, sample_weight=train_part.weight.values)\n",
    "gsearch1.grid_scores_, gsearch1.best_params_, gsearch1.best_score_"
   ]
  },
  {
   "cell_type": "code",
   "execution_count": 123,
   "metadata": {
    "hidden": true
   },
   "outputs": [
    {
     "name": "stdout",
     "output_type": "stream",
     "text": [
      "Fitting 3 folds for each of 16 candidates, totalling 48 fits\n",
      "[CV] colsample_bytree=0.6, subsample=0.6 .............................\n",
      "[CV] colsample_bytree=0.6, subsample=0.6 .............................\n",
      "[CV] colsample_bytree=0.6, subsample=0.6 .............................\n",
      "[CV]  colsample_bytree=0.6, subsample=0.6, score=0.6454370797310278, total=  59.5s\n",
      "[CV] colsample_bytree=0.6, subsample=0.7 .............................\n",
      "[CV]  colsample_bytree=0.6, subsample=0.6, score=0.6501440922190201, total= 1.3min\n",
      "[CV] colsample_bytree=0.6, subsample=0.7 .............................\n"
     ]
    },
    {
     "name": "stderr",
     "output_type": "stream",
     "text": [
      "[Parallel(n_jobs=3)]: Done   2 tasks      | elapsed:  1.3min\n"
     ]
    },
    {
     "name": "stdout",
     "output_type": "stream",
     "text": [
      "[CV]  colsample_bytree=0.6, subsample=0.6, score=0.6576368876080692, total= 1.4min\n",
      "[CV] colsample_bytree=0.6, subsample=0.7 .............................\n",
      "[CV]  colsample_bytree=0.6, subsample=0.7, score=0.6598463016330451, total= 1.3min\n",
      "[CV] colsample_bytree=0.6, subsample=0.8 .............................\n",
      "[CV]  colsample_bytree=0.6, subsample=0.7, score=0.6477425552353506, total= 1.1min\n",
      "[CV] colsample_bytree=0.6, subsample=0.8 .............................\n",
      "[CV]  colsample_bytree=0.6, subsample=0.7, score=0.6551392891450528, total= 1.3min\n",
      "[CV] colsample_bytree=0.6, subsample=0.8 .............................\n",
      "[CV]  colsample_bytree=0.6, subsample=0.8, score=0.667435158501441, total= 1.2min\n",
      "[CV] colsample_bytree=0.6, subsample=0.9 .............................\n"
     ]
    },
    {
     "name": "stderr",
     "output_type": "stream",
     "text": [
      "[Parallel(n_jobs=3)]: Done   7 tasks      | elapsed:  3.6min\n"
     ]
    },
    {
     "name": "stdout",
     "output_type": "stream",
     "text": [
      "[CV]  colsample_bytree=0.6, subsample=0.8, score=0.6523535062439961, total= 1.2min\n",
      "[CV] colsample_bytree=0.6, subsample=0.9 .............................\n",
      "[CV]  colsample_bytree=0.6, subsample=0.8, score=0.6539865513928914, total= 1.5min\n",
      "[CV] colsample_bytree=0.6, subsample=0.9 .............................\n",
      "[CV]  colsample_bytree=0.6, subsample=0.9, score=0.6538904899135447, total= 1.2min\n",
      "[CV] colsample_bytree=0.7, subsample=0.6 .............................\n",
      "[CV]  colsample_bytree=0.6, subsample=0.9, score=0.6640730067243036, total= 1.3min\n",
      "[CV] colsample_bytree=0.7, subsample=0.6 .............................\n",
      "[CV]  colsample_bytree=0.6, subsample=0.9, score=0.6531219980787704, total= 1.1min\n",
      "[CV] colsample_bytree=0.7, subsample=0.6 .............................\n"
     ]
    },
    {
     "name": "stderr",
     "output_type": "stream",
     "text": [
      "[Parallel(n_jobs=3)]: Done  12 tasks      | elapsed:  5.4min\n"
     ]
    },
    {
     "name": "stdout",
     "output_type": "stream",
     "text": [
      "[CV]  colsample_bytree=0.7, subsample=0.6, score=0.6528338136407301, total= 1.0min\n",
      "[CV] colsample_bytree=0.7, subsample=0.7 .............................\n",
      "[CV]  colsample_bytree=0.7, subsample=0.6, score=0.6463976945244957, total= 1.6min\n",
      "[CV]  colsample_bytree=0.7, subsample=0.6, score=0.6587896253602306, total= 1.6min\n",
      "[CV] colsample_bytree=0.7, subsample=0.7 .............................\n",
      "[CV] colsample_bytree=0.7, subsample=0.7 .............................\n",
      "[CV]  colsample_bytree=0.7, subsample=0.7, score=0.6615754082612872, total= 1.3min\n",
      "[CV] colsample_bytree=0.7, subsample=0.8 .............................\n",
      "[CV]  colsample_bytree=0.7, subsample=0.7, score=0.6548511047070125, total= 1.3min\n",
      "[CV] colsample_bytree=0.7, subsample=0.8 .............................\n",
      "[CV]  colsample_bytree=0.7, subsample=0.7, score=0.6570605187319885, total= 1.7min\n",
      "[CV] colsample_bytree=0.7, subsample=0.8 .............................\n",
      "[CV]  colsample_bytree=0.7, subsample=0.8, score=0.6536983669548511, total= 1.2min\n",
      "[CV] colsample_bytree=0.7, subsample=0.9 .............................\n"
     ]
    },
    {
     "name": "stderr",
     "output_type": "stream",
     "text": [
      "[Parallel(n_jobs=3)]: Done  19 tasks      | elapsed:  9.1min\n"
     ]
    },
    {
     "name": "stdout",
     "output_type": "stream",
     "text": [
      "[CV]  colsample_bytree=0.7, subsample=0.8, score=0.662151777137368, total= 1.7min\n",
      "[CV] colsample_bytree=0.7, subsample=0.9 .............................\n",
      "[CV]  colsample_bytree=0.7, subsample=0.8, score=0.6537944284341979, total= 1.3min\n",
      "[CV] colsample_bytree=0.7, subsample=0.9 .............................\n",
      "[CV]  colsample_bytree=0.7, subsample=0.9, score=0.6536983669548511, total= 1.0min\n",
      "[CV] colsample_bytree=0.8, subsample=0.6 .............................\n",
      "[CV]  colsample_bytree=0.7, subsample=0.9, score=0.6635926993275696, total= 1.6min\n",
      "[CV] colsample_bytree=0.8, subsample=0.6 .............................\n",
      "[CV]  colsample_bytree=0.7, subsample=0.9, score=0.658117195004803, total= 1.6min\n",
      "[CV] colsample_bytree=0.8, subsample=0.6 .............................\n",
      "[CV]  colsample_bytree=0.8, subsample=0.6, score=0.6561959654178674, total= 1.5min\n",
      "[CV] colsample_bytree=0.8, subsample=0.7 .............................\n",
      "[CV]  colsample_bytree=0.8, subsample=0.6, score=0.6450528338136408, total= 1.4min\n",
      "[CV] colsample_bytree=0.8, subsample=0.7 .............................\n"
     ]
    },
    {
     "name": "stderr",
     "output_type": "stream",
     "text": [
      "[Parallel(n_jobs=3)]: Done  26 tasks      | elapsed: 12.5min\n"
     ]
    },
    {
     "name": "stdout",
     "output_type": "stream",
     "text": [
      "[CV]  colsample_bytree=0.8, subsample=0.6, score=0.6510086455331412, total= 1.9min\n",
      "[CV] colsample_bytree=0.8, subsample=0.7 .............................\n",
      "[CV]  colsample_bytree=0.8, subsample=0.7, score=0.6604226705091258, total= 1.1min\n",
      "[CV] colsample_bytree=0.8, subsample=0.8 .............................\n",
      "[CV]  colsample_bytree=0.8, subsample=0.7, score=0.6510086455331412, total= 1.6min\n",
      "[CV] colsample_bytree=0.8, subsample=0.8 .............................\n",
      "[CV]  colsample_bytree=0.8, subsample=0.7, score=0.6512968299711815, total= 1.9min\n",
      "[CV] colsample_bytree=0.8, subsample=0.8 .............................\n",
      "[CV]  colsample_bytree=0.8, subsample=0.8, score=0.665609990393852, total= 1.5min\n",
      "[CV] colsample_bytree=0.8, subsample=0.9 .............................\n",
      "[CV]  colsample_bytree=0.8, subsample=0.8, score=0.6520653218059558, total= 1.1min\n",
      "[CV] colsample_bytree=0.8, subsample=0.9 .............................\n",
      "[CV]  colsample_bytree=0.8, subsample=0.8, score=0.6544668587896254, total= 1.5min\n",
      "[CV] colsample_bytree=0.8, subsample=0.9 .............................\n",
      "[CV]  colsample_bytree=0.8, subsample=0.9, score=0.6626320845341018, total= 1.9min\n",
      "[CV] colsample_bytree=0.9, subsample=0.6 .............................\n",
      "[CV]  colsample_bytree=0.8, subsample=0.9, score=0.6571565802113353, total= 1.6min\n",
      "[CV] colsample_bytree=0.9, subsample=0.6 .............................\n"
     ]
    },
    {
     "name": "stderr",
     "output_type": "stream",
     "text": [
      "[Parallel(n_jobs=3)]: Done  35 tasks      | elapsed: 17.0min\n"
     ]
    },
    {
     "name": "stdout",
     "output_type": "stream",
     "text": [
      "[CV]  colsample_bytree=0.8, subsample=0.9, score=0.6516810758885687, total= 1.5min\n",
      "[CV] colsample_bytree=0.9, subsample=0.6 .............................\n",
      "[CV]  colsample_bytree=0.9, subsample=0.6, score=0.6500480307396734, total= 1.4min\n",
      "[CV] colsample_bytree=0.9, subsample=0.7 .............................\n",
      "[CV]  colsample_bytree=0.9, subsample=0.6, score=0.659462055715658, total= 2.1min\n",
      "[CV] colsample_bytree=0.9, subsample=0.7 .............................\n",
      "[CV]  colsample_bytree=0.9, subsample=0.6, score=0.6528338136407301, total= 1.4min\n",
      "[CV] colsample_bytree=0.9, subsample=0.7 .............................\n",
      "[CV]  colsample_bytree=0.9, subsample=0.7, score=0.6602305475504323, total= 1.4min\n",
      "[CV] colsample_bytree=0.9, subsample=0.8 .............................\n",
      "[CV]  colsample_bytree=0.9, subsample=0.7, score=0.6535062439961575, total= 1.7min\n",
      "[CV] colsample_bytree=0.9, subsample=0.8 .............................\n",
      "[CV]  colsample_bytree=0.9, subsample=0.7, score=0.6512968299711815, total= 2.0min\n",
      "[CV] colsample_bytree=0.9, subsample=0.8 .............................\n",
      "[CV]  colsample_bytree=0.9, subsample=0.8, score=0.665225744476465, total= 2.1min\n",
      "[CV] colsample_bytree=0.9, subsample=0.9 .............................\n",
      "[CV]  colsample_bytree=0.9, subsample=0.8, score=0.6523535062439961, total= 1.5min\n",
      "[CV] colsample_bytree=0.9, subsample=0.9 .............................\n",
      "[CV]  colsample_bytree=0.9, subsample=0.8, score=0.6492795389048991, total= 1.6min\n",
      "[CV] colsample_bytree=0.9, subsample=0.9 .............................\n",
      "[CV]  colsample_bytree=0.9, subsample=0.9, score=0.6529298751200768, total= 1.2min\n",
      "[CV]  colsample_bytree=0.9, subsample=0.9, score=0.6686839577329491, total= 1.7min\n",
      "[CV]  colsample_bytree=0.9, subsample=0.9, score=0.6532180595581172, total= 1.3min\n"
     ]
    },
    {
     "name": "stderr",
     "output_type": "stream",
     "text": [
      "[Parallel(n_jobs=3)]: Done  48 out of  48 | elapsed: 23.9min remaining:    0.0s\n",
      "[Parallel(n_jobs=3)]: Done  48 out of  48 | elapsed: 23.9min finished\n",
      "/home/ak/anaconda3/lib/python3.7/site-packages/sklearn/model_selection/_search.py:762: DeprecationWarning: The grid_scores_ attribute was deprecated in version 0.18 in favor of the more elaborate cv_results_ attribute. The grid_scores_ attribute will not be available from 0.20\n",
      "  DeprecationWarning)\n"
     ]
    },
    {
     "data": {
      "text/plain": [
       "([mean: 0.65107, std: 0.00502, params: {'colsample_bytree': 0.6, 'subsample': 0.6},\n",
       "  mean: 0.65424, std: 0.00498, params: {'colsample_bytree': 0.6, 'subsample': 0.7},\n",
       "  mean: 0.65793, std: 0.00676, params: {'colsample_bytree': 0.6, 'subsample': 0.8},\n",
       "  mean: 0.65703, std: 0.00499, params: {'colsample_bytree': 0.6, 'subsample': 0.9},\n",
       "  mean: 0.65267, std: 0.00506, params: {'colsample_bytree': 0.7, 'subsample': 0.6},\n",
       "  mean: 0.65783, std: 0.00280, params: {'colsample_bytree': 0.7, 'subsample': 0.7},\n",
       "  mean: 0.65655, std: 0.00396, params: {'colsample_bytree': 0.7, 'subsample': 0.8},\n",
       "  mean: 0.65847, std: 0.00405, params: {'colsample_bytree': 0.7, 'subsample': 0.9},\n",
       "  mean: 0.65075, std: 0.00455, params: {'colsample_bytree': 0.8, 'subsample': 0.6},\n",
       "  mean: 0.65424, std: 0.00437, params: {'colsample_bytree': 0.8, 'subsample': 0.7},\n",
       "  mean: 0.65738, std: 0.00590, params: {'colsample_bytree': 0.8, 'subsample': 0.8},\n",
       "  mean: 0.65716, std: 0.00447, params: {'colsample_bytree': 0.8, 'subsample': 0.9},\n",
       "  mean: 0.65411, std: 0.00395, params: {'colsample_bytree': 0.9, 'subsample': 0.6},\n",
       "  mean: 0.65501, std: 0.00380, params: {'colsample_bytree': 0.9, 'subsample': 0.7},\n",
       "  mean: 0.65562, std: 0.00691, params: {'colsample_bytree': 0.9, 'subsample': 0.8},\n",
       "  mean: 0.65828, std: 0.00736, params: {'colsample_bytree': 0.9, 'subsample': 0.9}],\n",
       " {'colsample_bytree': 0.7, 'subsample': 0.9},\n",
       " 0.6584694204290745)"
      ]
     },
     "execution_count": 123,
     "metadata": {},
     "output_type": "execute_result"
    }
   ],
   "source": [
    "xgb_params = {\n",
    "    'max_depth': 5,\n",
    "    'min_child_weight': 1,\n",
    "    'gamma': 0,\n",
    "    'n_estimators': 40,\n",
    "    'learning_rate': 0.3\n",
    "}\n",
    "\n",
    "param_test4 = {\n",
    " 'subsample':[i/10.0 for i in range(6,10)],\n",
    " 'colsample_bytree':[i/10.0 for i in range(6,10)]\n",
    "}\n",
    "\n",
    "gsearch1 = GridSearchCV(estimator = xgboost.XGBClassifier(n_jobs=3, random_state=0, **xgb_params), \n",
    "                        param_grid = param_test4, scoring=scoring.rejection90_sklearn, n_jobs=3, iid=False, cv=3, verbose=10)\n",
    "\n",
    "gsearch1.fit(train_part[features].values, train_part['label'].values, sample_weight=train_part.weight.values)\n",
    "gsearch1.grid_scores_, gsearch1.best_params_, gsearch1.best_score_"
   ]
  },
  {
   "cell_type": "code",
   "execution_count": 126,
   "metadata": {
    "hidden": true
   },
   "outputs": [
    {
     "name": "stdout",
     "output_type": "stream",
     "text": [
      "Fitting 3 folds for each of 2 candidates, totalling 6 fits\n",
      "[CV] reg_alpha=100 ...................................................\n",
      "[CV] reg_alpha=100 ...................................................\n",
      "[CV] reg_alpha=100 ...................................................\n",
      "[CV] .......... reg_alpha=100, score=0.6609990393852065, total= 2.5min\n",
      "[CV] reg_alpha=1000 ..................................................\n",
      "[CV] .......... reg_alpha=100, score=0.6721421709894332, total= 2.9min\n",
      "[CV] reg_alpha=1000 ..................................................\n"
     ]
    },
    {
     "name": "stderr",
     "output_type": "stream",
     "text": [
      "[Parallel(n_jobs=3)]: Done   2 out of   6 | elapsed:  3.0min remaining:  5.9min\n"
     ]
    },
    {
     "name": "stdout",
     "output_type": "stream",
     "text": [
      "[CV] .......... reg_alpha=100, score=0.6641690682036503, total= 2.9min\n",
      "[CV] reg_alpha=1000 ..................................................\n"
     ]
    },
    {
     "name": "stderr",
     "output_type": "stream",
     "text": [
      "[Parallel(n_jobs=3)]: Done   3 out of   6 | elapsed:  3.0min remaining:  3.0min\n"
     ]
    },
    {
     "name": "stdout",
     "output_type": "stream",
     "text": [
      "[CV] ......... reg_alpha=1000, score=0.6690682036503363, total= 2.7min\n"
     ]
    },
    {
     "name": "stderr",
     "output_type": "stream",
     "text": [
      "[Parallel(n_jobs=3)]: Done   4 out of   6 | elapsed:  5.3min remaining:  2.7min\n"
     ]
    },
    {
     "name": "stdout",
     "output_type": "stream",
     "text": [
      "[CV] ......... reg_alpha=1000, score=0.6602305475504323, total= 2.5min\n",
      "[CV] ......... reg_alpha=1000, score=0.6558117195004803, total= 2.6min\n"
     ]
    },
    {
     "name": "stderr",
     "output_type": "stream",
     "text": [
      "[Parallel(n_jobs=3)]: Done   6 out of   6 | elapsed:  5.6min remaining:    0.0s\n",
      "[Parallel(n_jobs=3)]: Done   6 out of   6 | elapsed:  5.6min finished\n",
      "/home/ak/anaconda3/lib/python3.7/site-packages/sklearn/model_selection/_search.py:762: DeprecationWarning: The grid_scores_ attribute was deprecated in version 0.18 in favor of the more elaborate cv_results_ attribute. The grid_scores_ attribute will not be available from 0.20\n",
      "  DeprecationWarning)\n"
     ]
    },
    {
     "data": {
      "text/plain": [
       "([mean: 0.66577, std: 0.00469, params: {'reg_alpha': 100},\n",
       "  mean: 0.66170, std: 0.00551, params: {'reg_alpha': 1000}],\n",
       " {'reg_alpha': 100},\n",
       " 0.66577009285943)"
      ]
     },
     "execution_count": 126,
     "metadata": {},
     "output_type": "execute_result"
    }
   ],
   "source": [
    "xgb_params = {\n",
    "    'max_depth': 7,\n",
    "    'min_child_weight': 1,\n",
    "    'gamma': 0,\n",
    "    'colsample_bytree': 1,\n",
    "    'subsample': 1,\n",
    "    'n_estimators': 40,\n",
    "    'learning_rate': 0.3\n",
    "}\n",
    "\n",
    "param_test6 = {\n",
    "# 'reg_alpha':[1e-5, 1e-2, 0.1, 1, 100]\n",
    "    'reg_alpha':[100, 1000]\n",
    "}\n",
    "\n",
    "gsearch1 = GridSearchCV(estimator = xgboost.XGBClassifier(n_jobs=1, random_state=0, **xgb_params), \n",
    "                        param_grid = param_test6, scoring=scoring.rejection90_sklearn, n_jobs=3, iid=False, cv=3, verbose=10)\n",
    "\n",
    "gsearch1.fit(train_part[features].values, train_part['label'].values, sample_weight=train_part.weight.values)\n",
    "gsearch1.grid_scores_, gsearch1.best_params_, gsearch1.best_score_"
   ]
  },
  {
   "cell_type": "markdown",
   "metadata": {},
   "source": [
    "#### Обучение полномасштабной модели"
   ]
  },
  {
   "cell_type": "markdown",
   "metadata": {},
   "source": [
    "##### 1 model"
   ]
  },
  {
   "cell_type": "code",
   "execution_count": 20,
   "metadata": {},
   "outputs": [
    {
     "name": "stderr",
     "output_type": "stream",
     "text": [
      "/home/ak/anaconda3/lib/python3.7/site-packages/numpy/lib/arraysetops.py:522: FutureWarning: elementwise comparison failed; returning scalar instead, but in the future will perform elementwise comparison\n",
      "  mask |= (ar1 == a)\n"
     ]
    }
   ],
   "source": [
    "SIMPLE_FEATURES_52 = pd.read_csv('SIMPLE_FEATURES_52.scv', header=None).set_index(0)\n",
    "features = list(SIMPLE_FEATURES_52.index)\n",
    "\n",
    "types = dict(zip(features, repeat(np.float32)))\n",
    "types['id'] = np.int64\n",
    "types['label'] = np.int64\n",
    "\n",
    "train = pd.read_csv(os.path.join(DATA_PATH, 'full_train.csv'), \n",
    "                    usecols=list(features)+['label', 'weight', 'id'], dtype=types, index_col='id')\n",
    "\n",
    "test = pd.read_csv(os.path.join(DATA_PATH, 'full_test.csv'), \n",
    "                   usecols=list(features)+['id'], dtype=types, index_col='id')\n",
    "\n",
    "types = dict(zip(utils.SIMPLE_FEATURE_COLUMNS, repeat(np.float32)))\n",
    "types['id'] = np.int64\n",
    "test_private = pd.read_csv(os.path.join(DATA_PATH, 'test_private_v3_track_1.csv.gz'),\n",
    "                   usecols=['id']+utils.SIMPLE_FEATURE_COLUMNS,\n",
    "                   index_col='id', dtype=types)\n",
    "build_features(test_private)\n",
    "\n",
    "train_part = train\n",
    "#train_part, validation = train_test_split(train, test_size=0.25, shuffle=True, random_state=0)"
   ]
  },
  {
   "cell_type": "code",
   "execution_count": 25,
   "metadata": {},
   "outputs": [
    {
     "data": {
      "text/plain": [
       "(5445705, 54)"
      ]
     },
     "execution_count": 25,
     "metadata": {},
     "output_type": "execute_result"
    }
   ],
   "source": [
    "train_part.shape"
   ]
  },
  {
   "cell_type": "code",
   "execution_count": 23,
   "metadata": {},
   "outputs": [
    {
     "data": {
      "text/plain": [
       "1452188"
      ]
     },
     "execution_count": 23,
     "metadata": {},
     "output_type": "execute_result"
    }
   ],
   "source": [
    "len(test_private)"
   ]
  },
  {
   "cell_type": "code",
   "execution_count": null,
   "metadata": {},
   "outputs": [
    {
     "name": "stdout",
     "output_type": "stream",
     "text": [
      "[23:54:19] Tree method is automatically selected to be 'approx' for faster speed. To use old behavior (exact greedy algorithm on single machine), set tree_method to 'exact'.\n"
     ]
    }
   ],
   "source": [
    "xgb_params = {\n",
    "#    'max_depth': 7,\n",
    "    'min_child_weight': 1,\n",
    "    'gamma': 0,\n",
    "    'colsample_bytree': 1,\n",
    "    'subsample': 1,\n",
    "#    'reg_alpha': 100,\n",
    "    'n_estimators': 500,\n",
    "    'learning_rate': 0.1\n",
    "}\n",
    "\n",
    "model = xgboost.XGBClassifier(n_jobs=3, random_state=0, **xgb_params)    \n",
    "model.fit(train_part[features].values, train_part.label.values, sample_weight=train_part.weight.values)\n",
    "model.save_model(f\"final.xgb\")"
   ]
  },
  {
   "cell_type": "code",
   "execution_count": 29,
   "metadata": {},
   "outputs": [],
   "source": [
    "# validation_predictions = model.predict_proba(validation[features].values)[:, 1]\n",
    "# score = scoring.rejection90(validation.label.values, validation_predictions, sample_weight=validation.weight.values)\n",
    "# print(score)\n",
    "\n",
    "# predictions = model.predict_proba(test[features].values)[:, 1]\n",
    "# pd.DataFrame(data={\"prediction\": predictions}, index=test.index).to_csv(\n",
    "#     f\"submission_final.csv\", index_label='id')\n",
    "\n",
    "predictions_private = model.predict_proba(test_private[features].values)[:, 1]\n",
    "pd.DataFrame(data={\"prediction\": predictions_private}, index=test_private.index).to_csv(\n",
    "    f\"submission_final_private.csv\", index_label='id')"
   ]
  },
  {
   "cell_type": "code",
   "execution_count": null,
   "metadata": {},
   "outputs": [],
   "source": [
    "pd.DataFrame.to_csv"
   ]
  },
  {
   "cell_type": "code",
   "execution_count": 30,
   "metadata": {},
   "outputs": [],
   "source": [
    "pd.DataFrame(data={\"prediction\": predictions_private}, index=test_private.index).to_csv(\n",
    "    f\"submission_final_private.csv\", index_label='id', compression='zip')"
   ]
  },
  {
   "cell_type": "markdown",
   "metadata": {
    "heading_collapsed": true
   },
   "source": [
    "##### 2 models"
   ]
  },
  {
   "cell_type": "code",
   "execution_count": 7,
   "metadata": {
    "hidden": true
   },
   "outputs": [],
   "source": [
    "proton_features = list(pd.DataFrame(models).set_index('name').loc['data10_feature_selection_60_PROTON'].best_features.index)\n",
    "pion_features = list(pd.DataFrame(models).set_index('name').loc['data10_feature_selection_50_PION'].best_features.index)"
   ]
  },
  {
   "cell_type": "code",
   "execution_count": 17,
   "metadata": {
    "hidden": true
   },
   "outputs": [],
   "source": [
    "#features = list(set(proton_features) | set (pion_features))\n",
    "features = SIMPLE_FEATURES_45"
   ]
  },
  {
   "cell_type": "code",
   "execution_count": 22,
   "metadata": {
    "hidden": true
   },
   "outputs": [
    {
     "data": {
      "text/plain": [
       "dict_keys(['matched_hit_xy', 'matched_hit_zt', 'd_matched_hit_xy', 'd_matched_hit_zt', 'lextra', 'd_mextra', 'r', 'd_delta', 'delta_xyd', 'delta_rld', 'delta_xyd_norm', 'delta_rld_norm', 'all'])"
      ]
     },
     "execution_count": 22,
     "metadata": {},
     "output_type": "execute_result"
    }
   ],
   "source": [
    "feature_sets.keys()"
   ]
  },
  {
   "cell_type": "code",
   "execution_count": 4,
   "metadata": {
    "hidden": true
   },
   "outputs": [],
   "source": [
    "features = (feature_sets['delta_xyd_norm'] | feature_sets['lextra'] | feature_sets['d_matched_hit_xy'] |\n",
    "            feature_sets['matched_hit_zt'] | feature_sets['d_matched_hit_zt'] | \n",
    "            ORIGINAL_FEATURES | FOI_FEATURES)"
   ]
  },
  {
   "cell_type": "code",
   "execution_count": 7,
   "metadata": {
    "hidden": true
   },
   "outputs": [
    {
     "data": {
      "text/plain": [
       "81"
      ]
     },
     "execution_count": 7,
     "metadata": {},
     "output_type": "execute_result"
    }
   ],
   "source": [
    "len(features)"
   ]
  },
  {
   "cell_type": "code",
   "execution_count": 5,
   "metadata": {
    "hidden": true
   },
   "outputs": [
    {
     "name": "stderr",
     "output_type": "stream",
     "text": [
      "/home/ak/anaconda3/lib/python3.7/site-packages/numpy/lib/arraysetops.py:522: FutureWarning: elementwise comparison failed; returning scalar instead, but in the future will perform elementwise comparison\n",
      "  mask |= (ar1 == a)\n"
     ]
    }
   ],
   "source": [
    "types = dict(zip(features, repeat(np.float32)))\n",
    "types['id'] = np.int64\n",
    "types['label'] = np.int64\n",
    "train = pd.read_csv(os.path.join(DATA_PATH, 'full_train.csv'), \n",
    "                    usecols=list(features)+['label', 'particle_type', 'weight', 'id'], dtype=types, index_col='id')\n",
    "test = pd.read_csv(os.path.join(DATA_PATH, 'full_test.csv'), \n",
    "                   usecols=list(features)+['id'], dtype=types, index_col='id')"
   ]
  },
  {
   "cell_type": "code",
   "execution_count": 6,
   "metadata": {
    "hidden": true
   },
   "outputs": [],
   "source": [
    " xgb_params = {\n",
    "    'n_estimators': 200,\n",
    "    'learning_rate': 0.05,\n",
    "    'max_depth': 5,\n",
    "    'subsample': 0.8,\n",
    "    'colsample_bytree': 0.8\n",
    "}"
   ]
  },
  {
   "cell_type": "code",
   "execution_count": 8,
   "metadata": {
    "hidden": true
   },
   "outputs": [
    {
     "name": "stdout",
     "output_type": "stream",
     "text": [
      "[20:24:30] Tree method is automatically selected to be 'approx' for faster speed. To use old behavior (exact greedy algorithm on single machine), set tree_method to 'exact'.\n",
      "score=0.7466269648766135\n",
      "CPU times: user 6h 42min 9s, sys: 1min 5s, total: 6h 43min 14s\n",
      "Wall time: 2h 15min 41s\n"
     ]
    }
   ],
   "source": [
    "%%time\n",
    "run_model(train, 'f81_s99_e200', 0.01, \n",
    "          list(features), xgb_params\n",
    "         )"
   ]
  },
  {
   "cell_type": "code",
   "execution_count": 11,
   "metadata": {
    "hidden": true
   },
   "outputs": [
    {
     "name": "stdout",
     "output_type": "stream",
     "text": [
      "RUNNING: best_model_60_50\n",
      "score_proton=0.861285375963243\n",
      "score_pion=0.6725068044583445\n",
      "score_pion_full=0.23341711040230306\n",
      "score=0.7787448173685713\n",
      "CPU times: user 6h 57s, sys: 1min 13s, total: 6h 2min 11s\n",
      "Wall time: 2h 5min 2s\n"
     ]
    }
   ],
   "source": [
    "%%time\n",
    "run_2models(train, f'best_model_60_50', 0.25, \n",
    "            proton_features, xgb_params,\n",
    "            pion_features, xgb_params\n",
    "           )"
   ]
  },
  {
   "cell_type": "markdown",
   "metadata": {
    "heading_collapsed": true
   },
   "source": [
    "### Track2"
   ]
  },
  {
   "cell_type": "code",
   "execution_count": null,
   "metadata": {
    "hidden": true
   },
   "outputs": [],
   "source": [
    "def build_features_fast(sample):\n",
    "    # отклонение координат\n",
    "    for stage in [0,1,2,3]:\n",
    "        sample[f'Delta_X[{stage}]'] = sample[f'MatchedHit_X[{stage}]'] - sample[f'Lextra_X[{stage}]']\n",
    "\n",
    "    # нормированное отклонение координат            \n",
    "    for stage in [0,1,3]:\n",
    "        sample[f'Delta_X_norm[{stage}]'] = (sample[f'Delta_X[{stage}]'].abs()/\n",
    "                                            np.sqrt(sample[f'MatchedHit_DX[{stage}]']**2 + sample[f'Mextra_DX2[{stage}]']))\n",
    "\n",
    "    # расстояние\n",
    "    for stage in [0,1,2,3]:\n",
    "        sample[f'Delta_D_norm[{stage}]'] = (np.sqrt(sample[f'Delta_X[{stage}]']**2 + (sample[f'MatchedHit_Y[{stage}]'] - sample[f'Lextra_Y[{stage}]'])**2)/\n",
    "                                            np.sqrt(sample[f'MatchedHit_DX[{stage}]']**2 + sample[f'MatchedHit_DY[{stage}]']**2 + sample[f'Mextra_DX2[{stage}]'] + sample[f'Mextra_DY2[{stage}]']))\n",
    "\n",
    "\n",
    "def run_model(train, features, model_name, xgb_params):\n",
    "    train_part, validation = train_test_split(train, test_size=0.25, shuffle=True, random_state=0)\n",
    "    \n",
    "    model = xgboost.XGBClassifier(n_jobs=-1, random_state=0, **xgb_params)    \n",
    "    model.fit(train_part[features].values, train_part.label.values, sample_weight=train_part.weight.values)\n",
    "    validation_predictions = model.predict_proba(validation[features].values)[:, 1]\n",
    "    score_muon = scoring.rejection90(validation.label.values, validation_predictions, sample_weight=validation.weight.values)\n",
    "    best_features = pd.Series(model.feature_importances_, index=features).sort_values(ascending=False)\n",
    "    models.append({'name': model_name, 'score': score_muon, 'best_features': best_features, 'xgb_params': xgb_params})\n",
    "    with open('models.pkl', 'wb') as fout:\n",
    "        pickle.dump(models, fout)\n",
    "    print(f'score_muon={score_muon}')\n",
    "    \n",
    "    predictions = model.predict_proba(test[features].values)[:, 1]\n",
    "    pd.DataFrame(data={\"prediction\": predictions}, index=test.index).to_csv(\n",
    "        f\"submission_{model_name}.csv\", index_label=utils.ID_COLUMN)\n",
    "    \n",
    "    model.save_model(f\"submission_{model_name}.xgb\")"
   ]
  },
  {
   "cell_type": "code",
   "execution_count": 25,
   "metadata": {
    "hidden": true
   },
   "outputs": [
    {
     "data": {
      "text/plain": [
       "dict_keys(['matched_hit_xy', 'matched_hit_zt', 'd_matched_hit_xy', 'd_matched_hit_zt', 'lextra', 'd_mextra', 'r', 'd_delta', 'delta_xyd', 'delta_rld', 'delta_xyd_norm', 'delta_rld_norm', 'all'])"
      ]
     },
     "execution_count": 25,
     "metadata": {},
     "output_type": "execute_result"
    }
   ],
   "source": [
    "feature_sets.keys()"
   ]
  },
  {
   "cell_type": "code",
   "execution_count": 39,
   "metadata": {
    "hidden": true
   },
   "outputs": [],
   "source": [
    "features = feature_sets['delta_xyd_norm'] | feature_sets['lextra'] | feature_sets['matched_hit_zt'] | feature_sets['d_matched_hit_zt'] | ORIGINAL_FEATURES"
   ]
  },
  {
   "cell_type": "code",
   "execution_count": 144,
   "metadata": {
    "hidden": true
   },
   "outputs": [],
   "source": [
    "features = set(best_features[:13].index)"
   ]
  },
  {
   "cell_type": "code",
   "execution_count": 155,
   "metadata": {
    "hidden": true
   },
   "outputs": [
    {
     "name": "stdout",
     "output_type": "stream",
     "text": [
      "['NShared', 'PT', 'Delta_D_norm[3]', 'Delta_X_norm[1]', 'Delta_D_norm[0]',\n",
      " 'FOI_hits_N', 'Delta_X_norm[3]', 'Delta_D_norm[2]', 'MatchedHit_TYPE[1]',\n",
      " 'Delta_D_norm[1]', 'ncl[2]', 'P', 'Delta_X_norm[0]']\n"
     ]
    }
   ],
   "source": [
    "pprint(list(features), compact=True)"
   ]
  },
  {
   "cell_type": "code",
   "execution_count": 123,
   "metadata": {
    "hidden": true
   },
   "outputs": [
    {
     "name": "stderr",
     "output_type": "stream",
     "text": [
      "/home/ak/anaconda3/lib/python3.7/site-packages/numpy/lib/arraysetops.py:522: FutureWarning: elementwise comparison failed; returning scalar instead, but in the future will perform elementwise comparison\n",
      "  mask |= (ar1 == a)\n"
     ]
    }
   ],
   "source": [
    "types = dict(zip(features, repeat(np.float32)))\n",
    "types['id'] = np.int64\n",
    "types['label'] = np.int64\n",
    "train = pd.read_csv(os.path.join(DATA_PATH, 'full_train.csv'), \n",
    "                    usecols=list(features)+utils.TRAIN_COLUMNS+[utils.ID_COLUMN], dtype=types, index_col='id')\n",
    "test = pd.read_csv(os.path.join(DATA_PATH, 'full_test.csv'), \n",
    "                   usecols=list(features)+[utils.ID_COLUMN], dtype=types, index_col='id')"
   ]
  },
  {
   "cell_type": "code",
   "execution_count": 149,
   "metadata": {
    "hidden": true
   },
   "outputs": [
    {
     "name": "stdout",
     "output_type": "stream",
     "text": [
      "score_muon=0.7311236751031304\n",
      "CPU times: user 2min 1s, sys: 776 ms, total: 2min 2s\n",
      "Wall time: 2min 2s\n"
     ]
    }
   ],
   "source": [
    "%%time\n",
    "run_model(train, list(features), 'f13_s75_e20',\n",
    "            xgb_params = {\n",
    "                'n_estimators': 20,\n",
    "#                 'learning_rate': 0.05,\n",
    "#                 'max_depth': 5,\n",
    "#                 'subsample': 0.8,\n",
    "#                 'colsample_bytree': 0.8\n",
    "            }\n",
    ")"
   ]
  },
  {
   "cell_type": "code",
   "execution_count": 150,
   "metadata": {
    "hidden": true
   },
   "outputs": [
    {
     "data": {
      "text/plain": [
       "<matplotlib.axes._subplots.AxesSubplot at 0x7fd2535630b8>"
      ]
     },
     "execution_count": 150,
     "metadata": {},
     "output_type": "execute_result"
    },
    {
     "data": {
      "image/png": "[encoded data removed]",
      "text/plain": [
       "<Figure size 1080x360 with 1 Axes>"
      ]
     },
     "metadata": {
      "needs_background": "light"
     },
     "output_type": "display_data"
    }
   ],
   "source": [
    "best_features = pd.DataFrame(models).set_index('name').loc['f13_s75_e30'].best_features\n",
    "best_features.plot(kind='bar', grid=True, figsize=(15,5))"
   ]
  },
  {
   "cell_type": "code",
   "execution_count": 151,
   "metadata": {
    "hidden": true
   },
   "outputs": [
    {
     "data": {
      "text/plain": [
       "13"
      ]
     },
     "execution_count": 151,
     "metadata": {},
     "output_type": "execute_result"
    }
   ],
   "source": [
    "len(best_features[best_features>0.05*best_features.iloc[0]])"
   ]
  },
  {
   "cell_type": "markdown",
   "metadata": {},
   "source": [
    "### Сводная информация"
   ]
  },
  {
   "cell_type": "code",
   "execution_count": 21,
   "metadata": {
    "collapsed": true
   },
   "outputs": [
    {
     "data": {
      "text/plain": [
       "[('baseline', 0.5143225054344271, 65),\n",
       " ('baseline_pions', 0.3935499402228077, 65),\n",
       " ('baseline_protons', 0.6134756423538318, 65),\n",
       " ('DR', 0.6250819077160499, 69),\n",
       " ('DR_extra', 0.6431243354365355, 69),\n",
       " ('DR_extra_pions', 0.34092408316195943, 89),\n",
       " ('DR_extra_protons', 0.6805857548343868, 89),\n",
       " ('DR_selected', 0.6173539433586955, 31),\n",
       " ('DR_selected_pions', 0.33163326869032, 31),\n",
       " ('DR_selected_protons', 0.6725782871071051, 31),\n",
       " ('DXYR_extra', 0.6895572135142524, 97),\n",
       " ('DXYR_DDXY_extra', 0.6878244371167579, 109),\n",
       " ('DXYR_DDXY_extra_50', 0.6868673151651012, 50),\n",
       " ('DXYR_extra_50', 0.6851011117775935, 50),\n",
       " ('DXYR_DDXY_DIFF_extra', 0.6919758665233438, 165),\n",
       " ('DXYR_DDXY_DIFF_extra_65', 0.67496235796777, 65),\n",
       " ('systematic_1_45', 0.7179441741639653, 45),\n",
       " ('small_100', 0.7709064952303589, 45),\n",
       " ('small_10', 0.7166076011218043, 45),\n",
       " ('small_10', 0.7166076011218043, 45),\n",
       " ('small_10', 0.779596102477749, 45),\n",
       " ('track_2_10s_100f', 0.7119185510026159, 45),\n",
       " ('track_2_10s_100f', 0.7119185510026159, 45),\n",
       " ('sf45_100e', 0.7709064952303589, 45),\n",
       " ('sf45_100e_params1', 0.7863126183469209, 45),\n",
       " ('full_data', nan, 155),\n",
       " ('sf45_75', 0.7494650390918162, 45),\n",
       " ('sf45_75', 0.7494650390918162, 45),\n",
       " ('f53_s75_e50', 0.75404364, 53),\n",
       " ('f25_s75_e50', 0.75123996, 25),\n",
       " ('f17_s75_e50', 0.7499101528075665, 17),\n",
       " ('f17_s75_e40', 0.7422771010048178, 17),\n",
       " ('f17_s75_e30', 0.7357421125287227, 17),\n",
       " ('f13_s75_e30', 0.7352363036065048, 13),\n",
       " ('f13_s75_e20', 0.7311236751031304, 13),\n",
       " ('f73_s75_e200', 0.781834264874298, 73),\n",
       " ('f45_s75_e100_PROTON', 0.544333791595292, 45),\n",
       " ('f45_s75_e100_PION', 0.658964539890855, 45),\n",
       " ('f65_s75_e100_PROTON', 0.8339301134551856, 65),\n",
       " ('f65_s75_e100_PION', 0.6602926037465712, 65),\n",
       " ('data10_f13_s75_e100_REF', 0.7105070739692917, 13),\n",
       " ('data10_f13_s75_e100_PROTON', 0.7789099842302376, 13),\n",
       " ('data10_f13_s75_e100_PION', 0.5830361683936802, 13),\n",
       " ('data10_feature_selection_153_REF', 0.7091159731236308, 153),\n",
       " ('data10_feature_selection_153_PROTON', 0.8064099412941305, 153),\n",
       " ('data10_feature_selection_153_PION', 0.5817213486028745, 153),\n",
       " ('data10_feature_selection_100_REF', 0.7053004307187463, 100),\n",
       " ('data10_feature_selection_100_PROTON', 0.7943964706524367, 100),\n",
       " ('data10_feature_selection_100_PION', 0.5662344685215279, 100),\n",
       " ('data10_feature_selection_80_REF', 0.6946553917233225, 80),\n",
       " ('data10_feature_selection_80_PROTON', 0.7990896009672295, 80),\n",
       " ('data10_feature_selection_80_PION', 0.5703801518250715, 80),\n",
       " ('data10_feature_selection_60_REF', 0.703478040044913, 60),\n",
       " ('data10_feature_selection_60_PROTON', 0.7965217975722042, 60),\n",
       " ('data10_feature_selection_60_PION', 0.5811278944230747, 60),\n",
       " ('data10_feature_selection_50_REF', 0.7065657187954021, 50),\n",
       " ('data10_feature_selection_50_PROTON', 0.7920435469542173, 50),\n",
       " ('data10_feature_selection_50_PION', 0.5822341911952292, 50),\n",
       " ('data10_feature_selection_45_REF', 0.7093879361431973, 45),\n",
       " ('data10_feature_selection_45_PROTON', 0.7957414449601392, 45),\n",
       " ('data10_feature_selection_45_PION', 0.5778657191311422, 45),\n",
       " ('data10_feature_selection_SF45_REF', 0.7119185510026159, 45),\n",
       " ('data10_feature_selection_SF45_PROTON', 0.7601834504005661, 45),\n",
       " ('data10_feature_selection_SF45_PION', 0.5790696523407375, 45),\n",
       " ('best_model_60_50_PROTON', 0.8366400589112157, 60),\n",
       " ('best_model10_60_50_PROTON', 0.7965217975722042, 60),\n",
       " ('best_model10_60_50_PION', 0.5822341911952292, 50),\n",
       " ('best_model10_60_50_PROTON', 0.8081614170877118, 60),\n",
       " ('best_model10_60_50_PION', 0.5860794507634214, 50),\n",
       " ('best_model_60_50_PROTON', 0.861285375963243, 60),\n",
       " ('best_model_60_50_PION', 0.6725068044583445, 50),\n",
       " ('simple_features_45', 0.7871788130582428, 45)]"
      ]
     },
     "execution_count": 21,
     "metadata": {},
     "output_type": "execute_result"
    }
   ],
   "source": [
    "[(model['name'], model['score'], len(model['best_features'])) for model in models]"
   ]
  },
  {
   "cell_type": "code",
   "execution_count": 14,
   "metadata": {},
   "outputs": [
    {
     "data": {
      "text/plain": [
       "[('data10_f13_s75_e100_REF', 0.7105070739692917, 13),\n",
       " ('data10_feature_selection_153_REF', 0.7091159731236308, 153),\n",
       " ('data10_feature_selection_100_REF', 0.7053004307187463, 100),\n",
       " ('data10_feature_selection_80_REF', 0.6946553917233225, 80),\n",
       " ('data10_feature_selection_60_REF', 0.703478040044913, 60),\n",
       " ('data10_feature_selection_50_REF', 0.7065657187954021, 50),\n",
       " ('data10_feature_selection_45_REF', 0.7093879361431973, 45),\n",
       " ('data10_feature_selection_SF45_REF', 0.7119185510026159, 45),\n",
       " ('best_model_60_50_PROTON', 0.8366400589112157, 60),\n",
       " ('best_model10_60_50_PROTON', 0.8081614170877118, 60),\n",
       " ('best_model_60_50_PION', 0.6725068044583445, 50)]"
      ]
     },
     "execution_count": 14,
     "metadata": {},
     "output_type": "execute_result"
    }
   ],
   "source": [
    "[(model['name'], model['score'], len(model['best_features'])) for model in models[-33:len(models):3]]"
   ]
  },
  {
   "cell_type": "markdown",
   "metadata": {
    "heading_collapsed": true
   },
   "source": [
    "### Формирование ответа"
   ]
  },
  {
   "cell_type": "code",
   "execution_count": 12,
   "metadata": {
    "hidden": true
   },
   "outputs": [
    {
     "name": "stdout",
     "output_type": "stream",
     "text": [
      "[18:53:50] Tree method is automatically selected to be 'approx' for faster speed. to use old behavior(exact greedy algorithm on single machine), set tree_method to 'exact'\n"
     ]
    },
    {
     "data": {
      "text/plain": [
       "XGBClassifier(base_score=0.5, booster='gbtree', colsample_bylevel=1,\n",
       "       colsample_bytree=1, gamma=0, learning_rate=0.1, max_delta_step=0,\n",
       "       max_depth=3, min_child_weight=1, missing=None, n_estimators=100,\n",
       "       n_jobs=-1, nthread=None, objective='binary:logistic',\n",
       "       random_state=0, reg_alpha=0, reg_lambda=1, scale_pos_weight=1,\n",
       "       seed=None, silent=True, subsample=1)"
      ]
     },
     "execution_count": 12,
     "metadata": {},
     "output_type": "execute_result"
    }
   ],
   "source": [
    "model.fit(train.loc[:, utils.SIMPLE_FEATURE_COLUMNS].values, train.label, sample_weight=train.weight)"
   ]
  },
  {
   "cell_type": "code",
   "execution_count": 13,
   "metadata": {
    "hidden": true
   },
   "outputs": [],
   "source": [
    "predictions = model.predict_proba(test.loc[:, utils.SIMPLE_FEATURE_COLUMNS].values)[:, 1]"
   ]
  },
  {
   "cell_type": "code",
   "execution_count": 14,
   "metadata": {
    "hidden": true
   },
   "outputs": [],
   "source": [
    "pd.DataFrame(data={\"prediction\": predictions}, index=test.index).to_csv(\n",
    "    \"sample_submission.csv\", index_label=utils.ID_COLUMN)"
   ]
  },
  {
   "cell_type": "code",
   "execution_count": 18,
   "metadata": {
    "hidden": true
   },
   "outputs": [
    {
     "name": "stdout",
     "output_type": "stream",
     "text": [
      "[19:26:52] Tree method is automatically selected to be 'approx' for faster speed. to use old behavior(exact greedy algorithm on single machine), set tree_method to 'exact'\n"
     ]
    }
   ],
   "source": [
    "model_track_2 = xgboost.XGBClassifier(n_estimators=150, n_jobs=-1).fit(\n",
    "    train.loc[:, utils.SIMPLE_FEATURE_COLUMNS].values, train.label, sample_weight=train.weight)"
   ]
  },
  {
   "cell_type": "code",
   "execution_count": 19,
   "metadata": {
    "hidden": true
   },
   "outputs": [],
   "source": [
    "model_track_2.save_model(\"track_2_baseline_simple_python/track_2_model.xgb\")"
   ]
  },
  {
   "cell_type": "markdown",
   "metadata": {
    "heading_collapsed": true
   },
   "source": [
    "### Общие определения"
   ]
  },
  {
   "cell_type": "code",
   "execution_count": 207,
   "metadata": {
    "hidden": true
   },
   "outputs": [],
   "source": [
    "def get_score(model, params, X, y, scoring='roc_auc'):\n",
    "    model.set_params(**params)\n",
    "    if scoring == 'oob':\n",
    "        model.fit(X, y)\n",
    "        return model.oob_score_\n",
    "    else:\n",
    "        return model_selection.cross_val_score(model, X=X, y=y, scoring=scoring).mean()\n",
    "\n",
    "def show_features(model, X, y, feature_names, **pd_params):\n",
    "    model.fit(X=X, y=y)\n",
    "    plt.ylabel('feature_importances')\n",
    "    pd.Series(model.feature_importances_, index=feature_names).sort_values(ascending=False).plot(kind='bar', grid=True, **pd_params)\n",
    "\n",
    "def show_tree(model, X, y, feature_names, class_names):\n",
    "    model.fit(X=X, y=y)\n",
    "    dot_data = tree.export_graphviz(model, out_file=None, feature_names=feature_names, class_names=class_names, rounded=True, filled=True)\n",
    "    graph = pydotplus.graph_from_dot_data(dot_data)\n",
    "    graph.write_png('graph.png')\n",
    "    return Image('graph.png')\n",
    "\n",
    "def plot_scores(model, param1, param1_lst, param2, param2_lst, X, y, scoring='roc_auc'):\n",
    "    plt.grid()\n",
    "    plt.xlabel(param1)\n",
    "    plt.ylabel(scoring)\n",
    "\n",
    "    for param2_val in param2_lst:\n",
    "        scores = [get_score(model, {param1: param1_val, param2: param2_val}, X, y, scoring) for param1_val in param1_lst]\n",
    "        plt.plot(param1_lst, scores, label=f'{param2}={param2_val}')\n",
    "\n",
    "    plt.legend();\n",
    "\n",
    "def plot_scores1(model, param1, param1_lst, X, y, scoring='roc_auc', kind='plot'):\n",
    "    plt.grid()\n",
    "    plt.xlabel(param1)\n",
    "    plt.ylabel(scoring)\n",
    "    scores = [get_score(model, {param1: param1_val}, X, y, scoring) for param1_val in param1_lst]\n",
    "    if kind=='plot':\n",
    "        plt.plot(param1_lst, scores)\n",
    "    elif kind=='bar':\n",
    "        plt.ylim(np.round(0.9*min(scores), 2), np.round(1.01*max(scores), 2))\n",
    "        plt.bar([str(param) for param in param1_lst], scores, color=plt.get_cmap('tab10').colors)\n",
    "    \n",
    "def heatmap_scores(model, param1, param1_lst, param2, param2_lst, X, y, **sns_params):\n",
    "    scores_tab = pd.DataFrame(\n",
    "        [[get_score(model, {param1: param1_val, param2: param2_val}, X, y) for param1_val in param1_lst] for param2_val in param2_lst],\n",
    "        index=param2_lst, columns=param1_lst)\n",
    "    scores_tab.index.name = param2\n",
    "    scores_tab.columns.name = param1\n",
    "\n",
    "    sns.heatmap(\n",
    "        scores_tab, \n",
    "        cmap='Reds', linewidth=0.1, annot=True, **sns_params);\n",
    "\n",
    "def plot_gs_results(cv_results):\n",
    "    train_scores = cv_results['mean_train_score']\n",
    "    test_scores = cv_results['mean_test_score']\n",
    "    param_names = str(tuple(cv_results['params'][0].keys()))\n",
    "    params = [str(tuple(item.values())) for item in cv_results['params']]\n",
    "    scores_df = pd.DataFrame([train_scores, test_scores], index=['train', 'test'], columns=pd.Series(params, name=param_names)).T.sort_values('test', ascending=False)\n",
    "    ylim_bottom = np.round(0.9*scores_df.min().min(), 2)\n",
    "    ylim_top = np.round(1.01*scores_df.max().max(), 2)\n",
    "    scores_df.plot(kind='bar', grid=True, figsize=(15,5), ylim=(ylim_bottom, ylim_top))\n",
    "    \n",
    "def plot_pr_roc(y_true, y_score):\n",
    "    precision, recall, pr_thresholds = metrics.precision_recall_curve(y_true, y_score)\n",
    "    fpr, tpr, roc_thresholds = metrics.roc_curve(y_true, y_score)\n",
    "    accuracy = [metrics.accuracy_score(y_true, y_score>=threshold) for threshold in pr_thresholds]\n",
    "\n",
    "    fig, axs = plt.subplots(2, 2, figsize=(15,6))\n",
    "    plt.tight_layout(pad=2)\n",
    "    axs = axs.ravel()\n",
    "\n",
    "    plt.sca(axs[0])\n",
    "    plt.grid(True)\n",
    "    plt.xlabel('recall')\n",
    "    plt.ylabel('precision')\n",
    "    plt.step(recall, precision)\n",
    "\n",
    "    plt.sca(axs[2])\n",
    "    plt.grid(True)\n",
    "    plt.xlabel('thresholds')\n",
    "    plt.ylabel('recall, precision, accuracy')\n",
    "    plt.step(pr_thresholds, recall[:-1], label='recall', c='red')\n",
    "    plt.step(pr_thresholds, precision[:-1], label='precision', c='green')\n",
    "    plt.step(pr_thresholds, accuracy, label='accuracy', c='grey', linestyle='dashed')\n",
    "    plt.legend();\n",
    "\n",
    "    plt.sca(axs[1])\n",
    "    plt.grid(True)\n",
    "    plt.xlabel('FPR')\n",
    "    plt.ylabel('TPR')\n",
    "    plt.step(fpr, tpr, label='roc_curve')\n",
    "\n",
    "    plt.sca(axs[3])\n",
    "    plt.grid(True)\n",
    "    plt.xlabel('thresholds')\n",
    "    plt.ylabel('FPR, TPR, accuracy')\n",
    "    plt.step(roc_thresholds[::-1][:-1], fpr[::-1][:-1], label='FPR', c='red')\n",
    "    plt.step(roc_thresholds[::-1][:-1], tpr[::-1][:-1], label='TPR', c='green')\n",
    "\n",
    "    plt.step(pr_thresholds, accuracy, label='accuracy', c='grey', linestyle='dashed')\n",
    "    plt.legend();\n",
    "    \n",
    "def get_scores(y_true, y_pred):\n",
    "    ((TN, FP),(FN, TP)) = metrics.confusion_matrix(y_true, y_pred)\n",
    "    return {\n",
    "        'FPR': FP/(TN+FP),\n",
    "        'TPR': TP/(TP+FN),\n",
    "        'Recall': TP/(TP+FN),\n",
    "        'Precision': TP/(TP+FP),\n",
    "        'Accuracy': (TP+TN)/(TP+TN+FP+FN)\n",
    "    }\n",
    "\n",
    "def confint(arr, alpha=0.05):\n",
    "    return (np.percentile(arr, 100*alpha/2), np.percentile(arr, 100*(1-alpha/2)))"
   ]
  }
 ],
 "metadata": {
  "kernelspec": {
   "display_name": "Python 3",
   "language": "python",
   "name": "python3"
  },
  "language_info": {
   "codemirror_mode": {
    "name": "ipython",
    "version": 3
   },
   "file_extension": ".py",
   "mimetype": "text/x-python",
   "name": "python",
   "nbconvert_exporter": "python",
   "pygments_lexer": "ipython3",
   "version": "3.6.5"
  },
  "toc": {
   "base_numbering": 1,
   "nav_menu": {
    "height": "42px",
    "width": "190px"
   },
   "number_sections": true,
   "sideBar": true,
   "skip_h1_title": false,
   "title_cell": "Table of Contents",
   "title_sidebar": "Contents",
   "toc_cell": false,
   "toc_position": {},
   "toc_section_display": true,
   "toc_window_display": false
  },
  "varInspector": {
   "cols": {
    "lenName": 16,
    "lenType": 16,
    "lenVar": 40
   },
   "kernels_config": {
    "python": {
     "delete_cmd_postfix": "",
     "delete_cmd_prefix": "del ",
     "library": "var_list.py",
     "varRefreshCmd": "print(var_dic_list())"
    },
    "r": {
     "delete_cmd_postfix": ") ",
     "delete_cmd_prefix": "rm(",
     "library": "var_list.r",
     "varRefreshCmd": "cat(var_dic_list()) "
    }
   },
   "types_to_exclude": [
    "module",
    "function",
    "builtin_function_or_method",
    "instance",
    "_Feature"
   ],
   "window_display": false
  }
 },
 "nbformat": 4,
 "nbformat_minor": 2
}
